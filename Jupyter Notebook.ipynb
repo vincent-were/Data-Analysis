{
 "cells": [
  {
   "cell_type": "markdown",
   "id": "04679948",
   "metadata": {},
   "source": [
    "# INDIAN START-UP FUNDING ANALYSIS"
   ]
  },
  {
   "cell_type": "markdown",
   "id": "f9fc08e9",
   "metadata": {},
   "source": [
    "# Hypothesis\n",
    "\n",
    "Null hypothesis: The sector a start-up belongs to did not influence the funding amount the start-up received.\n",
    "\n",
    "Alternate hypothesis: The sector a start-up belongs to influenced the funding amount the start-up received."
   ]
  },
  {
   "cell_type": "markdown",
   "id": "ae1f0d58",
   "metadata": {},
   "source": [
    "# Questions\n",
    "\n",
    "1. How many start-ups got funded each year?\n",
    "2. What is the total funding amount received by start-ups each year?\n",
    "3. Which ten start-ups received the most funding?\n",
    "4. Which ten start-ups received the least funding?\n",
    "5. Which ten sectors received the most funding?\n",
    "6. Which ten sectors received the least funding?\n",
    "7. Which ten headquarters received the most funding?\n",
    "8. Which ten headquarters received the least funding?\n",
    "9. What is the trend of funding received by start-ups in the top 5 headquarters from 2018 to 2021?"
   ]
  },
  {
   "cell_type": "code",
   "execution_count": null,
   "id": "e4880956",
   "metadata": {},
   "outputs": [
    {
     "ename": "",
     "evalue": "",
     "output_type": "error",
     "traceback": [
      "\u001b[1;31mFailed to start the Kernel. \n",
      "\u001b[1;31mUnable to start Kernel 'Python 3.10.11' due to connection timeout. \n",
      "\u001b[1;31mView Jupyter <a href='command:jupyter.viewOutput'>log</a> for further details."
     ]
    }
   ],
   "source": [
    "# Importing libraries\n",
    "\n",
    "import pandas as pd\n",
    "import numpy as np\n",
    "import matplotlib as mp\n",
    "import matplotlib.pyplot as  plt\n",
    "import seaborn as sns\n",
    "import scipy.stats as stats\n",
    "import os"
   ]
  },
  {
   "cell_type": "code",
   "execution_count": null,
   "id": "c2d764cf",
   "metadata": {},
   "outputs": [
    {
     "ename": "",
     "evalue": "",
     "output_type": "error",
     "traceback": [
      "\u001b[1;31mFailed to start the Kernel. \n",
      "\u001b[1;31mUnable to start Kernel 'Python 3.10.11' due to connection timeout. \n",
      "\u001b[1;31mView Jupyter <a href='command:jupyter.viewOutput'>log</a> for further details."
     ]
    }
   ],
   "source": [
    "# Loading the datasets\n",
    "\n",
    "df1 = pd.read_csv('startup_funding2018.csv')\n",
    "df2 = pd.read_csv('startup_funding2019.csv')\n",
    "df3 = pd.read_csv('startup_funding2020.csv')\n",
    "df4 = pd.read_csv('startup_funding2021.csv')"
   ]
  },
  {
   "cell_type": "code",
   "execution_count": null,
   "id": "cf535464",
   "metadata": {
    "scrolled": true
   },
   "outputs": [
    {
     "ename": "",
     "evalue": "",
     "output_type": "error",
     "traceback": [
      "\u001b[1;31mFailed to start the Kernel. \n",
      "\u001b[1;31mUnable to start Kernel 'Python 3.10.11' due to connection timeout. \n",
      "\u001b[1;31mView Jupyter <a href='command:jupyter.viewOutput'>log</a> for further details."
     ]
    }
   ],
   "source": [
    "# Evaluating the first dataset\n",
    "\n",
    "df1.head()"
   ]
  },
  {
   "cell_type": "code",
   "execution_count": null,
   "id": "6339811c",
   "metadata": {
    "scrolled": true
   },
   "outputs": [
    {
     "ename": "",
     "evalue": "",
     "output_type": "error",
     "traceback": [
      "\u001b[1;31mFailed to start the Kernel. \n",
      "\u001b[1;31mUnable to start Kernel 'Python 3.10.11' due to connection timeout. \n",
      "\u001b[1;31mView Jupyter <a href='command:jupyter.viewOutput'>log</a> for further details."
     ]
    }
   ],
   "source": [
    "# Evaluating the second dataset\n",
    "\n",
    "df2.head()"
   ]
  },
  {
   "cell_type": "code",
   "execution_count": null,
   "id": "cf81e8dc",
   "metadata": {},
   "outputs": [
    {
     "ename": "",
     "evalue": "",
     "output_type": "error",
     "traceback": [
      "\u001b[1;31mFailed to start the Kernel. \n",
      "\u001b[1;31mUnable to start Kernel 'Python 3.10.11' due to connection timeout. \n",
      "\u001b[1;31mView Jupyter <a href='command:jupyter.viewOutput'>log</a> for further details."
     ]
    }
   ],
   "source": [
    "# Evaluating the third dataset\n",
    "\n",
    "df3.head()"
   ]
  },
  {
   "cell_type": "code",
   "execution_count": null,
   "id": "7c2c642d",
   "metadata": {},
   "outputs": [
    {
     "ename": "",
     "evalue": "",
     "output_type": "error",
     "traceback": [
      "\u001b[1;31mFailed to start the Kernel. \n",
      "\u001b[1;31mUnable to start Kernel 'Python 3.10.11' due to connection timeout. \n",
      "\u001b[1;31mView Jupyter <a href='command:jupyter.viewOutput'>log</a> for further details."
     ]
    }
   ],
   "source": [
    "# Evaluating the fourth dataset\n",
    "\n",
    "df4.head()"
   ]
  },
  {
   "cell_type": "markdown",
   "id": "ff47cf4a",
   "metadata": {},
   "source": [
    "# Observations\n",
    "\n",
    "The first dataset does not have columns named \"Founded\", \"Founders\" and \"Investor\" which are in the other three datasets. Considering the fact that the information on these columns do not affect our hypothesis and questions, these columns will be dropped to enable us merge all the datasets. The \"What it does\" and \"Stage\" columns that are not relevant to the hypothesis and analytical questions, and will also be dropped in order to make the dataset more manageable and to reduce the amount of noise in the dataset. We will do this while cleaning the datasets.\n",
    "\n",
    "There is a column named \"Unnamed: 9\" in the third dataset. Its first five rows have missing values, and other datasets do not contain such column. This column will be examined while cleaning the third dataset.\n",
    "\n",
    "All the datasets have similar column names except the first dataset. This means that there is need to edit the column names of the first dataset to match the column names of the other datasets. This will be done while cleaning the first dataset.\n",
    "\n",
    "There will be need to add a column named \"Funding Year\" to each of the datasets. This \"Funding Year\" column will show the year of funding that each row belong to, for easy identification when all the datasets are merged, and for anwering our analytical questions."
   ]
  },
  {
   "cell_type": "markdown",
   "id": "cf1b79c1",
   "metadata": {},
   "source": [
    "# Cleaning the first dataset"
   ]
  },
  {
   "cell_type": "code",
   "execution_count": null,
   "id": "cce2f6ae",
   "metadata": {},
   "outputs": [
    {
     "ename": "",
     "evalue": "",
     "output_type": "error",
     "traceback": [
      "\u001b[1;31mFailed to start the Kernel. \n",
      "\u001b[1;31mUnable to start Kernel 'Python 3.10.11' due to connection timeout. \n",
      "\u001b[1;31mView Jupyter <a href='command:jupyter.viewOutput'>log</a> for further details."
     ]
    }
   ],
   "source": [
    "# Evaluating the dataset\n",
    "\n",
    "df1.head()"
   ]
  },
  {
   "cell_type": "code",
   "execution_count": null,
   "id": "f615322e",
   "metadata": {},
   "outputs": [
    {
     "ename": "",
     "evalue": "",
     "output_type": "error",
     "traceback": [
      "\u001b[1;31mFailed to start the Kernel. \n",
      "\u001b[1;31mUnable to start Kernel 'Python 3.10.11' due to connection timeout. \n",
      "\u001b[1;31mView Jupyter <a href='command:jupyter.viewOutput'>log</a> for further details."
     ]
    }
   ],
   "source": [
    "# Changing the column names using a dictionary, to fit the column names of the other datasets.\n",
    "\n",
    "column_dict = {\n",
    "    'Company Name': 'Company/Brand',\n",
    "    'Industry': 'Sector',\n",
    "    'Round/Series': 'Stage',\n",
    "    'Location': 'HeadQuarter',\n",
    "    'About Company': 'What it does',\n",
    "    'Amount': 'Amount($)'\n",
    "}\n",
    "\n",
    "df1 = df1.rename(columns=column_dict)\n",
    "df1.head()"
   ]
  },
  {
   "cell_type": "code",
   "execution_count": null,
   "id": "d639f593",
   "metadata": {},
   "outputs": [
    {
     "ename": "",
     "evalue": "",
     "output_type": "error",
     "traceback": [
      "\u001b[1;31mFailed to start the Kernel. \n",
      "\u001b[1;31mUnable to start Kernel 'Python 3.10.11' due to connection timeout. \n",
      "\u001b[1;31mView Jupyter <a href='command:jupyter.viewOutput'>log</a> for further details."
     ]
    }
   ],
   "source": [
    "# Dropping the \"Stage\" and \"What it does\" columns that are irrelevant to our hypothesis and analytical questions\n",
    "\n",
    "df1 = df1.drop([\"Stage\", \"What it does\"], axis=1)\n",
    "df1.head()"
   ]
  },
  {
   "cell_type": "code",
   "execution_count": null,
   "id": "9d0b0e9b",
   "metadata": {},
   "outputs": [
    {
     "ename": "",
     "evalue": "",
     "output_type": "error",
     "traceback": [
      "\u001b[1;31mFailed to start the Kernel. \n",
      "\u001b[1;31mUnable to start Kernel 'Python 3.10.11' due to connection timeout. \n",
      "\u001b[1;31mView Jupyter <a href='command:jupyter.viewOutput'>log</a> for further details."
     ]
    }
   ],
   "source": [
    "# Checking the cell values\n",
    "\n",
    "df1.info()"
   ]
  },
  {
   "cell_type": "code",
   "execution_count": null,
   "id": "0b64bf9e",
   "metadata": {},
   "outputs": [
    {
     "ename": "",
     "evalue": "",
     "output_type": "error",
     "traceback": [
      "\u001b[1;31mFailed to start the Kernel. \n",
      "\u001b[1;31mUnable to start Kernel 'Python 3.10.11' due to connection timeout. \n",
      "\u001b[1;31mView Jupyter <a href='command:jupyter.viewOutput'>log</a> for further details."
     ]
    }
   ],
   "source": [
    "# Confirming that there are no empty cells\n",
    "\n",
    "df1.isna().sum()"
   ]
  },
  {
   "cell_type": "markdown",
   "id": "5ec13287",
   "metadata": {},
   "source": [
    "There are no empty cells in the dataset."
   ]
  },
  {
   "cell_type": "code",
   "execution_count": null,
   "id": "798ae952",
   "metadata": {},
   "outputs": [
    {
     "ename": "",
     "evalue": "",
     "output_type": "error",
     "traceback": [
      "\u001b[1;31mFailed to start the Kernel. \n",
      "\u001b[1;31mUnable to start Kernel 'Python 3.10.11' due to connection timeout. \n",
      "\u001b[1;31mView Jupyter <a href='command:jupyter.viewOutput'>log</a> for further details."
     ]
    }
   ],
   "source": [
    "# Checking for duplicate rows\n",
    "\n",
    "df1.duplicated().sum()"
   ]
  },
  {
   "cell_type": "markdown",
   "id": "e7fa890b",
   "metadata": {},
   "source": [
    "The dataset has one duplicate row"
   ]
  },
  {
   "cell_type": "code",
   "execution_count": null,
   "id": "7e1ca5f3",
   "metadata": {},
   "outputs": [
    {
     "ename": "",
     "evalue": "",
     "output_type": "error",
     "traceback": [
      "\u001b[1;31mFailed to start the Kernel. \n",
      "\u001b[1;31mUnable to start Kernel 'Python 3.10.11' due to connection timeout. \n",
      "\u001b[1;31mView Jupyter <a href='command:jupyter.viewOutput'>log</a> for further details."
     ]
    }
   ],
   "source": [
    "# Dropping the duplicate row\n",
    "\n",
    "df1 = df1.drop_duplicates()\n",
    "\n",
    "# Confirming that the duplicate row has been dropped\n",
    "\n",
    "df1.duplicated().sum()"
   ]
  },
  {
   "cell_type": "markdown",
   "id": "0750e134",
   "metadata": {},
   "source": [
    "The duplicate row has been dropped"
   ]
  },
  {
   "cell_type": "code",
   "execution_count": null,
   "id": "1255c8a5",
   "metadata": {},
   "outputs": [
    {
     "ename": "",
     "evalue": "",
     "output_type": "error",
     "traceback": [
      "\u001b[1;31mFailed to start the Kernel. \n",
      "\u001b[1;31mUnable to start Kernel 'Python 3.10.11' due to connection timeout. \n",
      "\u001b[1;31mView Jupyter <a href='command:jupyter.viewOutput'>log</a> for further details."
     ]
    }
   ],
   "source": [
    "df1.info()"
   ]
  },
  {
   "cell_type": "markdown",
   "id": "519eb6f5",
   "metadata": {},
   "source": [
    "After dropping the duplicate row, the number of rows reduced from 526 to 525"
   ]
  },
  {
   "cell_type": "markdown",
   "id": "b3e5735d",
   "metadata": {},
   "source": [
    "# Checking for data quality"
   ]
  },
  {
   "cell_type": "code",
   "execution_count": null,
   "id": "9bbd1e15",
   "metadata": {},
   "outputs": [
    {
     "ename": "",
     "evalue": "",
     "output_type": "error",
     "traceback": [
      "\u001b[1;31mFailed to start the Kernel. \n",
      "\u001b[1;31mUnable to start Kernel 'Python 3.10.11' due to connection timeout. \n",
      "\u001b[1;31mView Jupyter <a href='command:jupyter.viewOutput'>log</a> for further details."
     ]
    }
   ],
   "source": [
    "# Rearranging the columns in the dataset to fit the format in the second, third and fourth datasets\n",
    "\n",
    "df1 = df1.loc[:, [\"Company/Brand\", \"HeadQuarter\", \"Sector\", \"Amount($)\"]]\n",
    "df1.head()"
   ]
  },
  {
   "cell_type": "code",
   "execution_count": null,
   "id": "9cefe7eb",
   "metadata": {},
   "outputs": [
    {
     "ename": "",
     "evalue": "",
     "output_type": "error",
     "traceback": [
      "\u001b[1;31mFailed to start the Kernel. \n",
      "\u001b[1;31mUnable to start Kernel 'Python 3.10.11' due to connection timeout. \n",
      "\u001b[1;31mView Jupyter <a href='command:jupyter.viewOutput'>log</a> for further details."
     ]
    }
   ],
   "source": [
    "# Inspecting the \"Company/Brand\" column\n",
    "\n",
    "df1[\"Company/Brand\"].unique()"
   ]
  },
  {
   "cell_type": "code",
   "execution_count": null,
   "id": "1193c1c2",
   "metadata": {},
   "outputs": [
    {
     "ename": "",
     "evalue": "",
     "output_type": "error",
     "traceback": [
      "\u001b[1;31mFailed to start the Kernel. \n",
      "\u001b[1;31mUnable to start Kernel 'Python 3.10.11' due to connection timeout. \n",
      "\u001b[1;31mView Jupyter <a href='command:jupyter.viewOutput'>log</a> for further details."
     ]
    }
   ],
   "source": [
    "# Converting the values in \"Company/Brand\" column to sentence case\n",
    "\n",
    "df1[\"Company/Brand\"] = df1[\"Company/Brand\"].str.title()\n",
    "df1[\"Company/Brand\"].unique()"
   ]
  },
  {
   "cell_type": "code",
   "execution_count": null,
   "id": "4e4acba1",
   "metadata": {},
   "outputs": [
    {
     "ename": "",
     "evalue": "",
     "output_type": "error",
     "traceback": [
      "\u001b[1;31mFailed to start the Kernel. \n",
      "\u001b[1;31mUnable to start Kernel 'Python 3.10.11' due to connection timeout. \n",
      "\u001b[1;31mView Jupyter <a href='command:jupyter.viewOutput'>log</a> for further details."
     ]
    }
   ],
   "source": [
    "# Inspecting the \"HeadQuarter\" column\n",
    "\n",
    "df1[\"HeadQuarter\"].unique()"
   ]
  },
  {
   "cell_type": "markdown",
   "id": "91f8d063",
   "metadata": {},
   "source": [
    "The cells in the \"HeadQuarter\" column contain the name of the city, state, and country. Since only the name of the city is required and it is the first name before the first comma on the cells, the first name on each cell will be kept and the rest of the names removed."
   ]
  },
  {
   "cell_type": "code",
   "execution_count": null,
   "id": "74785abc",
   "metadata": {},
   "outputs": [
    {
     "ename": "",
     "evalue": "",
     "output_type": "error",
     "traceback": [
      "\u001b[1;31mFailed to start the Kernel. \n",
      "\u001b[1;31mUnable to start Kernel 'Python 3.10.11' due to connection timeout. \n",
      "\u001b[1;31mView Jupyter <a href='command:jupyter.viewOutput'>log</a> for further details."
     ]
    }
   ],
   "source": [
    "# Splitting the \"HeadQuarter\" column values by comma and selecting only the first word (name of the city)\n",
    "\n",
    "df1[\"HeadQuarter\"] = df1[\"HeadQuarter\"].str.split(',').str[0]\n",
    "df1"
   ]
  },
  {
   "cell_type": "code",
   "execution_count": null,
   "id": "dfb33151",
   "metadata": {},
   "outputs": [
    {
     "ename": "",
     "evalue": "",
     "output_type": "error",
     "traceback": [
      "\u001b[1;31mFailed to start the Kernel. \n",
      "\u001b[1;31mUnable to start Kernel 'Python 3.10.11' due to connection timeout. \n",
      "\u001b[1;31mView Jupyter <a href='command:jupyter.viewOutput'>log</a> for further details."
     ]
    }
   ],
   "source": [
    "# Inspecting the \"HeadQuarter\" column again\n",
    "\n",
    "df1[\"HeadQuarter\"].unique()"
   ]
  },
  {
   "cell_type": "code",
   "execution_count": null,
   "id": "518d7647",
   "metadata": {},
   "outputs": [
    {
     "ename": "",
     "evalue": "",
     "output_type": "error",
     "traceback": [
      "\u001b[1;31mFailed to start the Kernel. \n",
      "\u001b[1;31mUnable to start Kernel 'Python 3.10.11' due to connection timeout. \n",
      "\u001b[1;31mView Jupyter <a href='command:jupyter.viewOutput'>log</a> for further details."
     ]
    }
   ],
   "source": [
    "# Identifying the rows that have 'India' in the \"HeadQuarter\" column.\n",
    "\n",
    "df1.loc[df1[\"HeadQuarter\"] == 'India']"
   ]
  },
  {
   "cell_type": "markdown",
   "id": "a2682acb",
   "metadata": {},
   "source": [
    "These rows are all in the 2018 (first) dataset. Let's evaluate these rows in the original 2018 dataset."
   ]
  },
  {
   "cell_type": "code",
   "execution_count": null,
   "id": "2876340e",
   "metadata": {},
   "outputs": [
    {
     "ename": "",
     "evalue": "",
     "output_type": "error",
     "traceback": [
      "\u001b[1;31mFailed to start the Kernel. \n",
      "\u001b[1;31mUnable to start Kernel 'Python 3.10.11' due to connection timeout. \n",
      "\u001b[1;31mView Jupyter <a href='command:jupyter.viewOutput'>log</a> for further details."
     ]
    }
   ],
   "source": [
    "# Loading the original 2018 dataset with a different name\n",
    "ddf1 = pd.read_csv('startup_funding2018.csv')\n",
    "\n",
    "# Inspecting the 13th row in the original 2018 dataset\n",
    "ddf1.iloc[12:13]"
   ]
  },
  {
   "cell_type": "code",
   "execution_count": null,
   "id": "bc8ae844",
   "metadata": {},
   "outputs": [
    {
     "ename": "",
     "evalue": "",
     "output_type": "error",
     "traceback": [
      "\u001b[1;31mFailed to start the Kernel. \n",
      "\u001b[1;31mUnable to start Kernel 'Python 3.10.11' due to connection timeout. \n",
      "\u001b[1;31mView Jupyter <a href='command:jupyter.viewOutput'>log</a> for further details."
     ]
    }
   ],
   "source": [
    "# Inspecting the 43rd row in the original 2018 dataset\n",
    "ddf1.iloc[42:43]"
   ]
  },
  {
   "cell_type": "code",
   "execution_count": null,
   "id": "b026852b",
   "metadata": {},
   "outputs": [
    {
     "ename": "",
     "evalue": "",
     "output_type": "error",
     "traceback": [
      "\u001b[1;31mFailed to start the Kernel. \n",
      "\u001b[1;31mUnable to start Kernel 'Python 3.10.11' due to connection timeout. \n",
      "\u001b[1;31mView Jupyter <a href='command:jupyter.viewOutput'>log</a> for further details."
     ]
    }
   ],
   "source": [
    "# Inspecting the 59th row in the original 2018 dataset\n",
    "ddf1.iloc[59:60]"
   ]
  },
  {
   "cell_type": "code",
   "execution_count": null,
   "id": "4bb08b63",
   "metadata": {},
   "outputs": [
    {
     "ename": "",
     "evalue": "",
     "output_type": "error",
     "traceback": [
      "\u001b[1;31mFailed to start the Kernel. \n",
      "\u001b[1;31mUnable to start Kernel 'Python 3.10.11' due to connection timeout. \n",
      "\u001b[1;31mView Jupyter <a href='command:jupyter.viewOutput'>log</a> for further details."
     ]
    }
   ],
   "source": [
    "# Inspecting the 199th row in the original 2018 dataset\n",
    "ddf1.iloc[199:200]"
   ]
  },
  {
   "cell_type": "markdown",
   "id": "c708c340",
   "metadata": {},
   "source": [
    "Since each of these rows do not have any city or state name in the \"Location\" (now named \"HeadQuarter\") column, 'India' will be replaced with 'N/A'. 'India' cannot be used as the HeadQuarter to avoid a false generalization since other locations in the column are all in India."
   ]
  },
  {
   "cell_type": "code",
   "execution_count": null,
   "id": "04392e85",
   "metadata": {},
   "outputs": [
    {
     "ename": "",
     "evalue": "",
     "output_type": "error",
     "traceback": [
      "\u001b[1;31mFailed to start the Kernel. \n",
      "\u001b[1;31mUnable to start Kernel 'Python 3.10.11' due to connection timeout. \n",
      "\u001b[1;31mView Jupyter <a href='command:jupyter.viewOutput'>log</a> for further details."
     ]
    }
   ],
   "source": [
    "# Replacing 'India' with 'N/A'.\n",
    "df1[\"HeadQuarter\"] = df1[\"HeadQuarter\"].replace('India', 'N/A', regex=True)"
   ]
  },
  {
   "cell_type": "code",
   "execution_count": null,
   "id": "4b9f6046",
   "metadata": {},
   "outputs": [
    {
     "ename": "",
     "evalue": "",
     "output_type": "error",
     "traceback": [
      "\u001b[1;31mFailed to start the Kernel. \n",
      "\u001b[1;31mUnable to start Kernel 'Python 3.10.11' due to connection timeout. \n",
      "\u001b[1;31mView Jupyter <a href='command:jupyter.viewOutput'>log</a> for further details."
     ]
    }
   ],
   "source": [
    "# Replacing Bangalore and Bangalore City with Bengaluru, which is the official name of the city.\n",
    "\n",
    "df1[\"HeadQuarter\"] = df1[\"HeadQuarter\"].replace(['Bangalore', 'Bangalore City'], 'Bengaluru', regex=True)\n",
    "df1[\"HeadQuarter\"].unique()"
   ]
  },
  {
   "cell_type": "code",
   "execution_count": null,
   "id": "6dc15f1a",
   "metadata": {},
   "outputs": [
    {
     "ename": "",
     "evalue": "",
     "output_type": "error",
     "traceback": [
      "\u001b[1;31mFailed to start the Kernel. \n",
      "\u001b[1;31mUnable to start Kernel 'Python 3.10.11' due to connection timeout. \n",
      "\u001b[1;31mView Jupyter <a href='command:jupyter.viewOutput'>log</a> for further details."
     ]
    }
   ],
   "source": [
    "# Inspecting the \"Sector\" column\n",
    "\n",
    "df1[\"Sector\"].unique()"
   ]
  },
  {
   "cell_type": "markdown",
   "id": "cd6ee9f8",
   "metadata": {},
   "source": [
    "The \"Sector\" column in the first dataset does not have specific words, unlike the \"Sector\" column of other datasets. It will be necessary to keep only the relevant word that best describes the sector of each company.\n",
    "\n",
    "It can be summarized that the first word on each row on the \"Sector\" column best describes the sector. As a result, the first word on each row on the \"Sector\" column will be kept while other words will be dropped."
   ]
  },
  {
   "cell_type": "code",
   "execution_count": null,
   "id": "1e432318",
   "metadata": {},
   "outputs": [
    {
     "ename": "",
     "evalue": "",
     "output_type": "error",
     "traceback": [
      "\u001b[1;31mFailed to start the Kernel. \n",
      "\u001b[1;31mUnable to start Kernel 'Python 3.10.11' due to connection timeout. \n",
      "\u001b[1;31mView Jupyter <a href='command:jupyter.viewOutput'>log</a> for further details."
     ]
    }
   ],
   "source": [
    "# Splitting the \"Sector\" column values by comma and selecting only the first word\n",
    "\n",
    "df1[\"Sector\"] = df1[\"Sector\"].str.split(',').str[0]\n",
    "df1"
   ]
  },
  {
   "cell_type": "code",
   "execution_count": null,
   "id": "6e4d049f",
   "metadata": {},
   "outputs": [
    {
     "ename": "",
     "evalue": "",
     "output_type": "error",
     "traceback": [
      "\u001b[1;31mFailed to start the Kernel. \n",
      "\u001b[1;31mUnable to start Kernel 'Python 3.10.11' due to connection timeout. \n",
      "\u001b[1;31mView Jupyter <a href='command:jupyter.viewOutput'>log</a> for further details."
     ]
    }
   ],
   "source": [
    "# Inspecting the \"Sector\" column again\n",
    "\n",
    "df1[\"Sector\"].unique()"
   ]
  },
  {
   "cell_type": "code",
   "execution_count": null,
   "id": "72ac9121",
   "metadata": {},
   "outputs": [
    {
     "ename": "",
     "evalue": "",
     "output_type": "error",
     "traceback": [
      "\u001b[1;31mFailed to start the Kernel. \n",
      "\u001b[1;31mUnable to start Kernel 'Python 3.10.11' due to connection timeout. \n",
      "\u001b[1;31mView Jupyter <a href='command:jupyter.viewOutput'>log</a> for further details."
     ]
    }
   ],
   "source": [
    "# Replacing the dash symbol in the \"Sector\" column with N/A\n",
    "\n",
    "df1[\"Sector\"]= df1[\"Sector\"].replace('—','N/A')\n",
    "df1[\"Sector\"].unique()"
   ]
  },
  {
   "cell_type": "code",
   "execution_count": null,
   "id": "2b4f01f8",
   "metadata": {},
   "outputs": [
    {
     "ename": "",
     "evalue": "",
     "output_type": "error",
     "traceback": [
      "\u001b[1;31mFailed to start the Kernel. \n",
      "\u001b[1;31mUnable to start Kernel 'Python 3.10.11' due to connection timeout. \n",
      "\u001b[1;31mView Jupyter <a href='command:jupyter.viewOutput'>log</a> for further details."
     ]
    }
   ],
   "source": [
    "# Inspecting the \"Amounts ($)\" column\n",
    "\n",
    "df1[\"Amount($)\"].unique()"
   ]
  },
  {
   "cell_type": "markdown",
   "id": "183fa4bd",
   "metadata": {},
   "source": [
    "The cells of the \"Amounts ($)\" colummn of the dataset has amounts in rupees, amounts in dollars, and dash symbols. The rupee amounts will be converted to dollars since the amounts in other datasets are also in dollars. The average exchange rate of rupees to dollars in 2018 will be used to ensure accurate conversion.\n",
    "\n",
    "The rupee amounts alone need to be converted and the presence of the rupee symbol in the amounts suggest that the datatype would be string. There is need to change the datatypes to float to make the conversion possible. We will first remove all the non-numerical values then applying .astype(\"int64\"). The non-numerical values are the rupee symbol and the comma symbol. While removing them, we will use the lambda function to ensure that NaN values are not returned."
   ]
  },
  {
   "cell_type": "code",
   "execution_count": null,
   "id": "5dd41e7b",
   "metadata": {
    "scrolled": true
   },
   "outputs": [
    {
     "ename": "",
     "evalue": "",
     "output_type": "error",
     "traceback": [
      "\u001b[1;31mFailed to start the Kernel. \n",
      "\u001b[1;31mUnable to start Kernel 'Python 3.10.11' due to connection timeout. \n",
      "\u001b[1;31mView Jupyter <a href='command:jupyter.viewOutput'>log</a> for further details."
     ]
    }
   ],
   "source": [
    "# Define the average exchange rate in 2018\n",
    "exchange_rate = 0.0146  # That is, 1 Rupee = 0.0146 Dollar\n",
    "\n",
    "# Select the rows with rupee amounts\n",
    "rupee_rows = df1[\"Amount($)\"].str.contains('₹') # Note that only the rupee amounts should be converted \n",
    "\n",
    "# Remove the non-numerical values and change the datatype to integer\n",
    "df1.loc[rupee_rows, \"Amount($)\"] = df1.loc[rupee_rows, \"Amount($)\"].apply(lambda x: x.replace('₹', '').replace(',', '')\n",
    "                                if isinstance(x, str) else x).astype(\"int64\")\n",
    "\n",
    "# Convert the rupee amounts to dollars\n",
    "df1.loc[rupee_rows, \"Amount($)\"] = df1.loc[rupee_rows, \"Amount($)\"] * exchange_rate\n",
    "\n",
    "df1"
   ]
  },
  {
   "cell_type": "markdown",
   "id": "23ecfb4c",
   "metadata": {},
   "source": [
    "# Handling the dash symbols"
   ]
  },
  {
   "cell_type": "code",
   "execution_count": null,
   "id": "21a32b6c",
   "metadata": {},
   "outputs": [
    {
     "ename": "",
     "evalue": "",
     "output_type": "error",
     "traceback": [
      "\u001b[1;31mFailed to start the Kernel. \n",
      "\u001b[1;31mUnable to start Kernel 'Python 3.10.11' due to connection timeout. \n",
      "\u001b[1;31mView Jupyter <a href='command:jupyter.viewOutput'>log</a> for further details."
     ]
    }
   ],
   "source": [
    "# Counting the number of cells containing the dash symbol\n",
    "\n",
    "(df1[\"Amount($)\"] == '—').sum()"
   ]
  },
  {
   "cell_type": "markdown",
   "id": "2b07debe",
   "metadata": {
    "scrolled": true
   },
   "source": [
    "It will be assumed that the funding amounts received by these 148 companies/brands were lost during the data collection process or were undisclosed. The dash symbols will be replaced with 0, to easily change the column datatype to integer."
   ]
  },
  {
   "cell_type": "code",
   "execution_count": null,
   "id": "8646e1bf",
   "metadata": {},
   "outputs": [
    {
     "ename": "",
     "evalue": "",
     "output_type": "error",
     "traceback": [
      "\u001b[1;31mFailed to start the Kernel. \n",
      "\u001b[1;31mUnable to start Kernel 'Python 3.10.11' due to connection timeout. \n",
      "\u001b[1;31mView Jupyter <a href='command:jupyter.viewOutput'>log</a> for further details."
     ]
    }
   ],
   "source": [
    "# Replacing the dash symbol with zero and investigating the column again\n",
    "\n",
    "df1[\"Amount($)\"] = df1[\"Amount($)\"].replace('—', 0, regex=True)\n",
    "df1[\"Amount($)\"].unique()"
   ]
  },
  {
   "cell_type": "markdown",
   "id": "a4d686a5",
   "metadata": {},
   "source": [
    "Some cells still have the dollar and comma symbols which are non-numeric characters. These non-numeric characters need to be removed."
   ]
  },
  {
   "cell_type": "code",
   "execution_count": null,
   "id": "f2c394d6",
   "metadata": {},
   "outputs": [
    {
     "ename": "",
     "evalue": "",
     "output_type": "error",
     "traceback": [
      "\u001b[1;31mFailed to start the Kernel. \n",
      "\u001b[1;31mUnable to start Kernel 'Python 3.10.11' due to connection timeout. \n",
      "\u001b[1;31mView Jupyter <a href='command:jupyter.viewOutput'>log</a> for further details."
     ]
    }
   ],
   "source": [
    "# Removing the dollar and commma symbols in the entire Amount($) column\n",
    "\n",
    "df1[\"Amount($)\"] = df1[\"Amount($)\"].replace(['\\$', ','], '', regex=True)\n",
    "df1[\"Amount($)\"].unique()"
   ]
  },
  {
   "cell_type": "code",
   "execution_count": null,
   "id": "41019199",
   "metadata": {},
   "outputs": [
    {
     "ename": "",
     "evalue": "",
     "output_type": "error",
     "traceback": [
      "\u001b[1;31mFailed to start the Kernel. \n",
      "\u001b[1;31mUnable to start Kernel 'Python 3.10.11' due to connection timeout. \n",
      "\u001b[1;31mView Jupyter <a href='command:jupyter.viewOutput'>log</a> for further details."
     ]
    }
   ],
   "source": [
    "# Converting the datatype of the Amount($) column to integer\n",
    "\n",
    "df1[\"Amount($)\"] = df1[\"Amount($)\"].astype(\"int64\")\n",
    "df1[\"Amount($)\"].unique()"
   ]
  },
  {
   "cell_type": "code",
   "execution_count": null,
   "id": "f427b4a6",
   "metadata": {},
   "outputs": [
    {
     "ename": "",
     "evalue": "",
     "output_type": "error",
     "traceback": [
      "\u001b[1;31mFailed to start the Kernel. \n",
      "\u001b[1;31mUnable to start Kernel 'Python 3.10.11' due to connection timeout. \n",
      "\u001b[1;31mView Jupyter <a href='command:jupyter.viewOutput'>log</a> for further details."
     ]
    }
   ],
   "source": [
    "# Evaluating the entire dataset\n",
    "\n",
    "df1.head()"
   ]
  },
  {
   "cell_type": "code",
   "execution_count": null,
   "id": "94b96366",
   "metadata": {},
   "outputs": [
    {
     "ename": "",
     "evalue": "",
     "output_type": "error",
     "traceback": [
      "\u001b[1;31mFailed to start the Kernel. \n",
      "\u001b[1;31mUnable to start Kernel 'Python 3.10.11' due to connection timeout. \n",
      "\u001b[1;31mView Jupyter <a href='command:jupyter.viewOutput'>log</a> for further details."
     ]
    }
   ],
   "source": [
    "# Confirming that there are no empty cells\n",
    "\n",
    "df1.isna().sum()"
   ]
  },
  {
   "cell_type": "markdown",
   "id": "0647dba2",
   "metadata": {},
   "source": [
    "There are no empty cells in our dateset, and the columns have been inspected and cleaned.\n",
    "\n",
    "Next is to add the \"Funding Year\" column."
   ]
  },
  {
   "cell_type": "code",
   "execution_count": null,
   "id": "eb61ceb9",
   "metadata": {},
   "outputs": [
    {
     "ename": "",
     "evalue": "",
     "output_type": "error",
     "traceback": [
      "\u001b[1;31mFailed to start the Kernel. \n",
      "\u001b[1;31mUnable to start Kernel 'Python 3.10.11' due to connection timeout. \n",
      "\u001b[1;31mView Jupyter <a href='command:jupyter.viewOutput'>log</a> for further details."
     ]
    }
   ],
   "source": [
    "# Creating a new column named \"Funding Year\" and filling it with 2018.\n",
    "\n",
    "df1[\"Funding Year\"] = 2018\n",
    "df1.head()"
   ]
  },
  {
   "cell_type": "markdown",
   "id": "aacede5b",
   "metadata": {},
   "source": [
    "# Cleaning the second data set"
   ]
  },
  {
   "cell_type": "code",
   "execution_count": null,
   "id": "b5a05c4e",
   "metadata": {},
   "outputs": [
    {
     "ename": "",
     "evalue": "",
     "output_type": "error",
     "traceback": [
      "\u001b[1;31mFailed to start the Kernel. \n",
      "\u001b[1;31mUnable to start Kernel 'Python 3.10.11' due to connection timeout. \n",
      "\u001b[1;31mView Jupyter <a href='command:jupyter.viewOutput'>log</a> for further details."
     ]
    }
   ],
   "source": [
    "# Evaluating the dataset\n",
    "\n",
    "df2"
   ]
  },
  {
   "cell_type": "code",
   "execution_count": null,
   "id": "a7531570",
   "metadata": {},
   "outputs": [
    {
     "ename": "",
     "evalue": "",
     "output_type": "error",
     "traceback": [
      "\u001b[1;31mFailed to start the Kernel. \n",
      "\u001b[1;31mUnable to start Kernel 'Python 3.10.11' due to connection timeout. \n",
      "\u001b[1;31mView Jupyter <a href='command:jupyter.viewOutput'>log</a> for further details."
     ]
    }
   ],
   "source": [
    "# Dropping the \"Founded\", \"What it does\", \"Founders\", \"Investor\" and \"Stage\" columns\n",
    "\n",
    "df2 = df2.drop([\"Founded\", \"What it does\", \"Founders\", \"Investor\", \"Stage\"], axis =1)\n",
    "df2.head()"
   ]
  },
  {
   "cell_type": "code",
   "execution_count": null,
   "id": "67e6b5b4",
   "metadata": {},
   "outputs": [
    {
     "ename": "",
     "evalue": "",
     "output_type": "error",
     "traceback": [
      "\u001b[1;31mFailed to start the Kernel. \n",
      "\u001b[1;31mUnable to start Kernel 'Python 3.10.11' due to connection timeout. \n",
      "\u001b[1;31mView Jupyter <a href='command:jupyter.viewOutput'>log</a> for further details."
     ]
    }
   ],
   "source": [
    "# Checking the cell values\n",
    "\n",
    "df2.info()"
   ]
  },
  {
   "cell_type": "code",
   "execution_count": null,
   "id": "5255b7f4",
   "metadata": {},
   "outputs": [
    {
     "ename": "",
     "evalue": "",
     "output_type": "error",
     "traceback": [
      "\u001b[1;31mFailed to start the Kernel. \n",
      "\u001b[1;31mUnable to start Kernel 'Python 3.10.11' due to connection timeout. \n",
      "\u001b[1;31mView Jupyter <a href='command:jupyter.viewOutput'>log</a> for further details."
     ]
    }
   ],
   "source": [
    "# Confirming the number of empty cells\n",
    "\n",
    "df2.isna().sum()"
   ]
  },
  {
   "cell_type": "markdown",
   "id": "b1057a96",
   "metadata": {},
   "source": [
    "There are nineteen empty cells in the \"HeadQuarter\" column and five empty cells in the \"Sector\" column. This will be handled when inspecting the columns."
   ]
  },
  {
   "cell_type": "code",
   "execution_count": null,
   "id": "e5659e3d",
   "metadata": {},
   "outputs": [
    {
     "ename": "",
     "evalue": "",
     "output_type": "error",
     "traceback": [
      "\u001b[1;31mFailed to start the Kernel. \n",
      "\u001b[1;31mUnable to start Kernel 'Python 3.10.11' due to connection timeout. \n",
      "\u001b[1;31mView Jupyter <a href='command:jupyter.viewOutput'>log</a> for further details."
     ]
    }
   ],
   "source": [
    "# Checking for duplicate rows\n",
    "\n",
    "df2.duplicated().sum()"
   ]
  },
  {
   "cell_type": "markdown",
   "id": "027ddd05",
   "metadata": {},
   "source": [
    "There are no duplicate rows in the dataset."
   ]
  },
  {
   "cell_type": "markdown",
   "id": "5dbb16b3",
   "metadata": {},
   "source": [
    "# Checking the data quality"
   ]
  },
  {
   "cell_type": "code",
   "execution_count": null,
   "id": "232ef3a2",
   "metadata": {},
   "outputs": [
    {
     "ename": "",
     "evalue": "",
     "output_type": "error",
     "traceback": [
      "\u001b[1;31mFailed to start the Kernel. \n",
      "\u001b[1;31mUnable to start Kernel 'Python 3.10.11' due to connection timeout. \n",
      "\u001b[1;31mView Jupyter <a href='command:jupyter.viewOutput'>log</a> for further details."
     ]
    }
   ],
   "source": [
    "# Inspecting the \"Company/Brand\" column\n",
    "\n",
    "df2[\"Company/Brand\"].unique()"
   ]
  },
  {
   "cell_type": "code",
   "execution_count": null,
   "id": "fd3dddd6",
   "metadata": {},
   "outputs": [
    {
     "ename": "",
     "evalue": "",
     "output_type": "error",
     "traceback": [
      "\u001b[1;31mFailed to start the Kernel. \n",
      "\u001b[1;31mUnable to start Kernel 'Python 3.10.11' due to connection timeout. \n",
      "\u001b[1;31mView Jupyter <a href='command:jupyter.viewOutput'>log</a> for further details."
     ]
    }
   ],
   "source": [
    "# Changing the name \"Fireflies .ai\" to \"Fireflies.ai\"\n",
    "\n",
    "df2[\"Company/Brand\"]= df2[\"Company/Brand\"].replace('Fireflies .ai','Fireflies.ai')\n",
    "df2[\"Company/Brand\"].unique()"
   ]
  },
  {
   "cell_type": "code",
   "execution_count": null,
   "id": "a31e18f8",
   "metadata": {},
   "outputs": [
    {
     "ename": "",
     "evalue": "",
     "output_type": "error",
     "traceback": [
      "\u001b[1;31mFailed to start the Kernel. \n",
      "\u001b[1;31mUnable to start Kernel 'Python 3.10.11' due to connection timeout. \n",
      "\u001b[1;31mView Jupyter <a href='command:jupyter.viewOutput'>log</a> for further details."
     ]
    }
   ],
   "source": [
    "# Inspecting the \"HeadQuarter\" column\n",
    "\n",
    "df2[\"HeadQuarter\"].unique()"
   ]
  },
  {
   "cell_type": "code",
   "execution_count": null,
   "id": "bc5c5c70",
   "metadata": {},
   "outputs": [
    {
     "ename": "",
     "evalue": "",
     "output_type": "error",
     "traceback": [
      "\u001b[1;31mFailed to start the Kernel. \n",
      "\u001b[1;31mUnable to start Kernel 'Python 3.10.11' due to connection timeout. \n",
      "\u001b[1;31mView Jupyter <a href='command:jupyter.viewOutput'>log</a> for further details."
     ]
    }
   ],
   "source": [
    "# Filling the empty cells in the \"HeadQuarter\" column with N/A\n",
    "\n",
    "df2[\"HeadQuarter\"]= df2[\"HeadQuarter\"].fillna('N/A')\n",
    "df2[\"HeadQuarter\"].unique()"
   ]
  },
  {
   "cell_type": "code",
   "execution_count": null,
   "id": "3f56fb6f",
   "metadata": {},
   "outputs": [
    {
     "ename": "",
     "evalue": "",
     "output_type": "error",
     "traceback": [
      "\u001b[1;31mFailed to start the Kernel. \n",
      "\u001b[1;31mUnable to start Kernel 'Python 3.10.11' due to connection timeout. \n",
      "\u001b[1;31mView Jupyter <a href='command:jupyter.viewOutput'>log</a> for further details."
     ]
    }
   ],
   "source": [
    "# Replacing Bangalore with Bengaluru\n",
    "\n",
    "df2[\"HeadQuarter\"] = df2[\"HeadQuarter\"].replace('Bangalore', 'Bengaluru', regex=True)\n",
    "df2[\"HeadQuarter\"].unique()"
   ]
  },
  {
   "cell_type": "code",
   "execution_count": null,
   "id": "ff4e9367",
   "metadata": {},
   "outputs": [
    {
     "ename": "",
     "evalue": "",
     "output_type": "error",
     "traceback": [
      "\u001b[1;31mFailed to start the Kernel. \n",
      "\u001b[1;31mUnable to start Kernel 'Python 3.10.11' due to connection timeout. \n",
      "\u001b[1;31mView Jupyter <a href='command:jupyter.viewOutput'>log</a> for further details."
     ]
    }
   ],
   "source": [
    "# Replacing Uttar pradesh with Uttar Pradesh\n",
    "\n",
    "df2[\"HeadQuarter\"] = df2[\"HeadQuarter\"].replace('Uttar pradesh', 'Uttar Pradesh', regex=True)\n",
    "df2[\"HeadQuarter\"].unique()"
   ]
  },
  {
   "cell_type": "code",
   "execution_count": null,
   "id": "cb734eb2",
   "metadata": {},
   "outputs": [
    {
     "ename": "",
     "evalue": "",
     "output_type": "error",
     "traceback": [
      "\u001b[1;31mFailed to start the Kernel. \n",
      "\u001b[1;31mUnable to start Kernel 'Python 3.10.11' due to connection timeout. \n",
      "\u001b[1;31mView Jupyter <a href='command:jupyter.viewOutput'>log</a> for further details."
     ]
    }
   ],
   "source": [
    "# Inspecting the \"Sector\" column\n",
    "\n",
    "df2[\"Sector\"].unique()"
   ]
  },
  {
   "cell_type": "code",
   "execution_count": null,
   "id": "d8452b55",
   "metadata": {},
   "outputs": [
    {
     "ename": "",
     "evalue": "",
     "output_type": "error",
     "traceback": [
      "\u001b[1;31mFailed to start the Kernel. \n",
      "\u001b[1;31mUnable to start Kernel 'Python 3.10.11' due to connection timeout. \n",
      "\u001b[1;31mView Jupyter <a href='command:jupyter.viewOutput'>log</a> for further details."
     ]
    }
   ],
   "source": [
    "# Converting the values in \"Sector\" column to sentence case\n",
    "\n",
    "df2[\"Sector\"] = df2[\"Sector\"].str.title()\n",
    "df2[\"Sector\"].unique()"
   ]
  },
  {
   "cell_type": "code",
   "execution_count": null,
   "id": "1bbe607a",
   "metadata": {},
   "outputs": [
    {
     "ename": "",
     "evalue": "",
     "output_type": "error",
     "traceback": [
      "\u001b[1;31mFailed to start the Kernel. \n",
      "\u001b[1;31mUnable to start Kernel 'Python 3.10.11' due to connection timeout. \n",
      "\u001b[1;31mView Jupyter <a href='command:jupyter.viewOutput'>log</a> for further details."
     ]
    }
   ],
   "source": [
    "# Filling the empty cells in the \"Sector\" column with N/A\n",
    "\n",
    "df2[\"Sector\"]= df2[\"Sector\"].fillna('N/A')\n",
    "df2[\"Sector\"].unique()"
   ]
  },
  {
   "cell_type": "code",
   "execution_count": null,
   "id": "0b6791ae",
   "metadata": {},
   "outputs": [
    {
     "ename": "",
     "evalue": "",
     "output_type": "error",
     "traceback": [
      "\u001b[1;31mFailed to start the Kernel. \n",
      "\u001b[1;31mUnable to start Kernel 'Python 3.10.11' due to connection timeout. \n",
      "\u001b[1;31mView Jupyter <a href='command:jupyter.viewOutput'>log</a> for further details."
     ]
    }
   ],
   "source": [
    "# Inspecting the \"Amount($)\" column\n",
    "\n",
    "df2[\"Amount($)\"].unique()"
   ]
  },
  {
   "cell_type": "code",
   "execution_count": null,
   "id": "ba9eb336",
   "metadata": {},
   "outputs": [
    {
     "ename": "",
     "evalue": "",
     "output_type": "error",
     "traceback": [
      "\u001b[1;31mFailed to start the Kernel. \n",
      "\u001b[1;31mUnable to start Kernel 'Python 3.10.11' due to connection timeout. \n",
      "\u001b[1;31mView Jupyter <a href='command:jupyter.viewOutput'>log</a> for further details."
     ]
    }
   ],
   "source": [
    "# Removing the dollar and commma symbols in the Amount($) column\n",
    "\n",
    "df2[\"Amount($)\"] = df2[\"Amount($)\"].replace(['\\$', ','], '', regex=True)\n",
    "df2[\"Amount($)\"].unique()"
   ]
  },
  {
   "cell_type": "code",
   "execution_count": null,
   "id": "074fcc3d",
   "metadata": {},
   "outputs": [
    {
     "ename": "",
     "evalue": "",
     "output_type": "error",
     "traceback": [
      "\u001b[1;31mFailed to start the Kernel. \n",
      "\u001b[1;31mUnable to start Kernel 'Python 3.10.11' due to connection timeout. \n",
      "\u001b[1;31mView Jupyter <a href='command:jupyter.viewOutput'>log</a> for further details."
     ]
    }
   ],
   "source": [
    "# Replacing Undisclosed in the \"Amount($)\" column with zero, in order to change the datatype to integer\n",
    "\n",
    "df2[\"Amount($)\"] = df2[\"Amount($)\"].replace('Undisclosed', 0, regex=True)\n",
    "df2[\"Amount($)\"].unique()"
   ]
  },
  {
   "cell_type": "code",
   "execution_count": null,
   "id": "71a7f91d",
   "metadata": {},
   "outputs": [
    {
     "ename": "",
     "evalue": "",
     "output_type": "error",
     "traceback": [
      "\u001b[1;31mFailed to start the Kernel. \n",
      "\u001b[1;31mUnable to start Kernel 'Python 3.10.11' due to connection timeout. \n",
      "\u001b[1;31mView Jupyter <a href='command:jupyter.viewOutput'>log</a> for further details."
     ]
    }
   ],
   "source": [
    "# Converting the datatype of the Amount($) column to integer\n",
    "\n",
    "df2[\"Amount($)\"] = df2[\"Amount($)\"].astype(\"int64\")\n",
    "df2[\"Amount($)\"].unique()"
   ]
  },
  {
   "cell_type": "code",
   "execution_count": null,
   "id": "9453aedf",
   "metadata": {},
   "outputs": [
    {
     "ename": "",
     "evalue": "",
     "output_type": "error",
     "traceback": [
      "\u001b[1;31mFailed to start the Kernel. \n",
      "\u001b[1;31mUnable to start Kernel 'Python 3.10.11' due to connection timeout. \n",
      "\u001b[1;31mView Jupyter <a href='command:jupyter.viewOutput'>log</a> for further details."
     ]
    }
   ],
   "source": [
    "# Evaluating the entire dataset\n",
    "\n",
    "df2.head()"
   ]
  },
  {
   "cell_type": "code",
   "execution_count": null,
   "id": "5672d6e0",
   "metadata": {},
   "outputs": [
    {
     "ename": "",
     "evalue": "",
     "output_type": "error",
     "traceback": [
      "\u001b[1;31mFailed to start the Kernel. \n",
      "\u001b[1;31mUnable to start Kernel 'Python 3.10.11' due to connection timeout. \n",
      "\u001b[1;31mView Jupyter <a href='command:jupyter.viewOutput'>log</a> for further details."
     ]
    }
   ],
   "source": [
    "# Confirming that there are no empty cells\n",
    "\n",
    "df2.isna().sum()"
   ]
  },
  {
   "cell_type": "markdown",
   "id": "95d8cee1",
   "metadata": {},
   "source": [
    "There are no empty cells in our dateset, and the columns have been inspected and cleaned.\n",
    "\n",
    "Next is to add the \"Funding Year\" column."
   ]
  },
  {
   "cell_type": "code",
   "execution_count": null,
   "id": "17e4fccc",
   "metadata": {},
   "outputs": [
    {
     "ename": "",
     "evalue": "",
     "output_type": "error",
     "traceback": [
      "\u001b[1;31mFailed to start the Kernel. \n",
      "\u001b[1;31mUnable to start Kernel 'Python 3.10.11' due to connection timeout. \n",
      "\u001b[1;31mView Jupyter <a href='command:jupyter.viewOutput'>log</a> for further details."
     ]
    }
   ],
   "source": [
    "# Creating a new column named \"Funding Year\" and filling it with 2019\n",
    "\n",
    "df2[\"Funding Year\"] = 2019\n",
    "df2.head()"
   ]
  },
  {
   "cell_type": "markdown",
   "id": "f8dad03e",
   "metadata": {},
   "source": [
    "# Cleaning the third data set"
   ]
  },
  {
   "cell_type": "code",
   "execution_count": null,
   "id": "3df0019a",
   "metadata": {},
   "outputs": [
    {
     "ename": "",
     "evalue": "",
     "output_type": "error",
     "traceback": [
      "\u001b[1;31mFailed to start the Kernel. \n",
      "\u001b[1;31mUnable to start Kernel 'Python 3.10.11' due to connection timeout. \n",
      "\u001b[1;31mView Jupyter <a href='command:jupyter.viewOutput'>log</a> for further details."
     ]
    }
   ],
   "source": [
    "# Evaluating the third dataset\n",
    "\n",
    "df3.head()"
   ]
  },
  {
   "cell_type": "code",
   "execution_count": null,
   "id": "246f6980",
   "metadata": {},
   "outputs": [
    {
     "ename": "",
     "evalue": "",
     "output_type": "error",
     "traceback": [
      "\u001b[1;31mFailed to start the Kernel. \n",
      "\u001b[1;31mUnable to start Kernel 'Python 3.10.11' due to connection timeout. \n",
      "\u001b[1;31mView Jupyter <a href='command:jupyter.viewOutput'>log</a> for further details."
     ]
    }
   ],
   "source": [
    "# Dropping the \"Founded\", \"What it does\", \"Founders\", \"Investor\" and \"Stage\" columns\n",
    "\n",
    "df3 = df3.drop([\"Founded\", \"What it does\", \"Founders\", \"Investor\", \"Stage\"], axis =1)\n",
    "df3.head()"
   ]
  },
  {
   "cell_type": "code",
   "execution_count": null,
   "id": "f1b6de1c",
   "metadata": {},
   "outputs": [
    {
     "ename": "",
     "evalue": "",
     "output_type": "error",
     "traceback": [
      "\u001b[1;31mFailed to start the Kernel. \n",
      "\u001b[1;31mUnable to start Kernel 'Python 3.10.11' due to connection timeout. \n",
      "\u001b[1;31mView Jupyter <a href='command:jupyter.viewOutput'>log</a> for further details."
     ]
    }
   ],
   "source": [
    "# Checking the cell values\n",
    "\n",
    "df3.info()"
   ]
  },
  {
   "cell_type": "code",
   "execution_count": null,
   "id": "26d8dfe7",
   "metadata": {},
   "outputs": [
    {
     "ename": "",
     "evalue": "",
     "output_type": "error",
     "traceback": [
      "\u001b[1;31mFailed to start the Kernel. \n",
      "\u001b[1;31mUnable to start Kernel 'Python 3.10.11' due to connection timeout. \n",
      "\u001b[1;31mView Jupyter <a href='command:jupyter.viewOutput'>log</a> for further details."
     ]
    }
   ],
   "source": [
    "# Confirming the number of empty cells\n",
    "\n",
    "df3.isna().sum()"
   ]
  },
  {
   "cell_type": "markdown",
   "id": "37de803e",
   "metadata": {},
   "source": [
    "There are ninety-four empty cells in the \"HeadQuarter\" column, thirteen empty cells in the \"Sector\" column, three empty cells in the \"Amount($)\" column and one thousand and fifty-three empty cells in the \"Unnamed: 9\" column. The empty cells in the \"HeadQuarter\" and \"Sector\" columns will be filled with N/A. This will be done when inspecting the cells.\n",
    "\n",
    "The \"Unnamed: 9\" column has only two cells with cell values, it is absent in other datasets, and it has no effect on our hypothesis and questions. For these reasons, this column will be dropped."
   ]
  },
  {
   "cell_type": "code",
   "execution_count": null,
   "id": "f7f94e36",
   "metadata": {},
   "outputs": [
    {
     "ename": "",
     "evalue": "",
     "output_type": "error",
     "traceback": [
      "\u001b[1;31mFailed to start the Kernel. \n",
      "\u001b[1;31mUnable to start Kernel 'Python 3.10.11' due to connection timeout. \n",
      "\u001b[1;31mView Jupyter <a href='command:jupyter.viewOutput'>log</a> for further details."
     ]
    }
   ],
   "source": [
    "# Dropping the \"Unnamed: 9\" column\n",
    "\n",
    "df3 = df3.drop([\"Unnamed: 9\"], axis =1)\n",
    "df3.head()"
   ]
  },
  {
   "cell_type": "code",
   "execution_count": null,
   "id": "153c253a",
   "metadata": {},
   "outputs": [
    {
     "ename": "",
     "evalue": "",
     "output_type": "error",
     "traceback": [
      "\u001b[1;31mFailed to start the Kernel. \n",
      "\u001b[1;31mUnable to start Kernel 'Python 3.10.11' due to connection timeout. \n",
      "\u001b[1;31mView Jupyter <a href='command:jupyter.viewOutput'>log</a> for further details."
     ]
    }
   ],
   "source": [
    "# Confirming that there are no empty cells\n",
    "\n",
    "df3.isna().sum()"
   ]
  },
  {
   "cell_type": "code",
   "execution_count": null,
   "id": "76d177a1",
   "metadata": {},
   "outputs": [
    {
     "ename": "",
     "evalue": "",
     "output_type": "error",
     "traceback": [
      "\u001b[1;31mFailed to start the Kernel. \n",
      "\u001b[1;31mUnable to start Kernel 'Python 3.10.11' due to connection timeout. \n",
      "\u001b[1;31mView Jupyter <a href='command:jupyter.viewOutput'>log</a> for further details."
     ]
    }
   ],
   "source": [
    "# Checking for duplicate rows\n",
    "\n",
    "df3.duplicated().sum()"
   ]
  },
  {
   "cell_type": "code",
   "execution_count": null,
   "id": "604d1e9d",
   "metadata": {},
   "outputs": [
    {
     "ename": "",
     "evalue": "",
     "output_type": "error",
     "traceback": [
      "\u001b[1;31mFailed to start the Kernel. \n",
      "\u001b[1;31mUnable to start Kernel 'Python 3.10.11' due to connection timeout. \n",
      "\u001b[1;31mView Jupyter <a href='command:jupyter.viewOutput'>log</a> for further details."
     ]
    }
   ],
   "source": [
    "# Dropping the duplicate rows\n",
    "\n",
    "df3 = df3.drop_duplicates()\n",
    "\n",
    "# Confirming that the duplicate rows have been dropped\n",
    "\n",
    "df3.duplicated().sum()"
   ]
  },
  {
   "cell_type": "code",
   "execution_count": null,
   "id": "9a821578",
   "metadata": {},
   "outputs": [
    {
     "ename": "",
     "evalue": "",
     "output_type": "error",
     "traceback": [
      "\u001b[1;31mFailed to start the Kernel. \n",
      "\u001b[1;31mUnable to start Kernel 'Python 3.10.11' due to connection timeout. \n",
      "\u001b[1;31mView Jupyter <a href='command:jupyter.viewOutput'>log</a> for further details."
     ]
    }
   ],
   "source": [
    "df3.info()"
   ]
  },
  {
   "cell_type": "markdown",
   "id": "55e04d9b",
   "metadata": {},
   "source": [
    "After dropping the duplicate rows, the number of rows reduced from 1055 to 1048."
   ]
  },
  {
   "cell_type": "markdown",
   "id": "3cb74318",
   "metadata": {},
   "source": [
    "# Checking the data quality"
   ]
  },
  {
   "cell_type": "code",
   "execution_count": null,
   "id": "fdf3a279",
   "metadata": {},
   "outputs": [
    {
     "ename": "",
     "evalue": "",
     "output_type": "error",
     "traceback": [
      "\u001b[1;31mFailed to start the Kernel. \n",
      "\u001b[1;31mUnable to start Kernel 'Python 3.10.11' due to connection timeout. \n",
      "\u001b[1;31mView Jupyter <a href='command:jupyter.viewOutput'>log</a> for further details."
     ]
    }
   ],
   "source": [
    "# Inspecting the \"Company/Brand\" column\n",
    "\n",
    "df3[\"Company/Brand\"].unique()"
   ]
  },
  {
   "cell_type": "code",
   "execution_count": null,
   "id": "3f3c524e",
   "metadata": {},
   "outputs": [
    {
     "ename": "",
     "evalue": "",
     "output_type": "error",
     "traceback": [
      "\u001b[1;31mFailed to start the Kernel. \n",
      "\u001b[1;31mUnable to start Kernel 'Python 3.10.11' due to connection timeout. \n",
      "\u001b[1;31mView Jupyter <a href='command:jupyter.viewOutput'>log</a> for further details."
     ]
    }
   ],
   "source": [
    "# Inspecting the \"HeadQuarter\" column\n",
    "\n",
    "df3[\"HeadQuarter\"].unique()"
   ]
  },
  {
   "cell_type": "markdown",
   "id": "4c1b8bf9",
   "metadata": {},
   "source": [
    "Some cells in the \"HeadQuarter\" column contain the name of the city, state, and country. Since only the name of the city is required and it is the first name before the first comma on the cells, the first name on each cell will be kept and the rest of the names removed."
   ]
  },
  {
   "cell_type": "code",
   "execution_count": null,
   "id": "46f985a4",
   "metadata": {},
   "outputs": [
    {
     "ename": "",
     "evalue": "",
     "output_type": "error",
     "traceback": [
      "\u001b[1;31mFailed to start the Kernel. \n",
      "\u001b[1;31mUnable to start Kernel 'Python 3.10.11' due to connection timeout. \n",
      "\u001b[1;31mView Jupyter <a href='command:jupyter.viewOutput'>log</a> for further details."
     ]
    }
   ],
   "source": [
    "# Splitting the \"HeadQuarter\" column values by comma and selecting only the first word (name of the city)\n",
    "\n",
    "df3[\"HeadQuarter\"] = df3[\"HeadQuarter\"].str.split(',').str[0]\n",
    "df3[\"HeadQuarter\"].unique()"
   ]
  },
  {
   "cell_type": "code",
   "execution_count": null,
   "id": "bd8f68de",
   "metadata": {},
   "outputs": [
    {
     "ename": "",
     "evalue": "",
     "output_type": "error",
     "traceback": [
      "\u001b[1;31mFailed to start the Kernel. \n",
      "\u001b[1;31mUnable to start Kernel 'Python 3.10.11' due to connection timeout. \n",
      "\u001b[1;31mView Jupyter <a href='command:jupyter.viewOutput'>log</a> for further details."
     ]
    }
   ],
   "source": [
    "# Filling the empty cells in the \"HeadQuarter\" column with N/A\n",
    "\n",
    "df3[\"HeadQuarter\"] = df3[\"HeadQuarter\"].fillna('N/A')\n",
    "df3[\"HeadQuarter\"].unique()"
   ]
  },
  {
   "cell_type": "code",
   "execution_count": null,
   "id": "9fd74d42",
   "metadata": {},
   "outputs": [
    {
     "ename": "",
     "evalue": "",
     "output_type": "error",
     "traceback": [
      "\u001b[1;31mFailed to start the Kernel. \n",
      "\u001b[1;31mUnable to start Kernel 'Python 3.10.11' due to connection timeout. \n",
      "\u001b[1;31mView Jupyter <a href='command:jupyter.viewOutput'>log</a> for further details."
     ]
    }
   ],
   "source": [
    "# Replacing Bangalore and Banglore with Bengaluru\n",
    "\n",
    "df3[\"HeadQuarter\"] = df3[\"HeadQuarter\"].replace(['Bangalore', 'Banglore'], 'Bengaluru', regex=True)\n",
    "df3[\"HeadQuarter\"].unique()"
   ]
  },
  {
   "cell_type": "code",
   "execution_count": null,
   "id": "9bd5f405",
   "metadata": {},
   "outputs": [
    {
     "ename": "",
     "evalue": "",
     "output_type": "error",
     "traceback": [
      "\u001b[1;31mFailed to start the Kernel. \n",
      "\u001b[1;31mUnable to start Kernel 'Python 3.10.11' due to connection timeout. \n",
      "\u001b[1;31mView Jupyter <a href='command:jupyter.viewOutput'>log</a> for further details."
     ]
    }
   ],
   "source": [
    "# Inspecting the \"Sector\" column\n",
    "\n",
    "df3[\"Sector\"].unique()"
   ]
  },
  {
   "cell_type": "code",
   "execution_count": null,
   "id": "9e4b057a",
   "metadata": {},
   "outputs": [
    {
     "ename": "",
     "evalue": "",
     "output_type": "error",
     "traceback": [
      "\u001b[1;31mFailed to start the Kernel. \n",
      "\u001b[1;31mUnable to start Kernel 'Python 3.10.11' due to connection timeout. \n",
      "\u001b[1;31mView Jupyter <a href='command:jupyter.viewOutput'>log</a> for further details."
     ]
    }
   ],
   "source": [
    "# Filling the empty cells in the \"Sector\" column with N/A\n",
    "\n",
    "df3[\"Sector\"] = df3[\"Sector\"].fillna('N/A')\n",
    "df3[\"Sector\"].unique()"
   ]
  },
  {
   "cell_type": "code",
   "execution_count": null,
   "id": "c8e9e12e",
   "metadata": {},
   "outputs": [
    {
     "ename": "",
     "evalue": "",
     "output_type": "error",
     "traceback": [
      "\u001b[1;31mFailed to start the Kernel. \n",
      "\u001b[1;31mUnable to start Kernel 'Python 3.10.11' due to connection timeout. \n",
      "\u001b[1;31mView Jupyter <a href='command:jupyter.viewOutput'>log</a> for further details."
     ]
    }
   ],
   "source": [
    "# Inspecting the \"Amount($)\" column\n",
    "\n",
    "df3[\"Amount($)\"].unique()"
   ]
  },
  {
   "cell_type": "code",
   "execution_count": null,
   "id": "a4a68d1d",
   "metadata": {},
   "outputs": [
    {
     "ename": "",
     "evalue": "",
     "output_type": "error",
     "traceback": [
      "\u001b[1;31mFailed to start the Kernel. \n",
      "\u001b[1;31mUnable to start Kernel 'Python 3.10.11' due to connection timeout. \n",
      "\u001b[1;31mView Jupyter <a href='command:jupyter.viewOutput'>log</a> for further details."
     ]
    }
   ],
   "source": [
    "# Replacing Undisclosed, Undiclsosed and Undislosed in the \"Amount($)\" column with zero\n",
    "\n",
    "df3[\"Amount($)\"] = df3[\"Amount($)\"].replace(['Undisclosed', 'Undiclsosed', 'Undislosed'], 0, regex=True)\n",
    "df3[\"Amount($)\"].unique()"
   ]
  },
  {
   "cell_type": "code",
   "execution_count": null,
   "id": "b4328883",
   "metadata": {},
   "outputs": [
    {
     "ename": "",
     "evalue": "",
     "output_type": "error",
     "traceback": [
      "\u001b[1;31mFailed to start the Kernel. \n",
      "\u001b[1;31mUnable to start Kernel 'Python 3.10.11' due to connection timeout. \n",
      "\u001b[1;31mView Jupyter <a href='command:jupyter.viewOutput'>log</a> for further details."
     ]
    }
   ],
   "source": [
    "# Filling the empty cells in the \"Amount($)\" column with zero\n",
    "\n",
    "df3[\"Amount($)\"] = df3[\"Amount($)\"].fillna(0)\n",
    "df3[\"Amount($)\"].unique()"
   ]
  },
  {
   "cell_type": "code",
   "execution_count": null,
   "id": "fab48b79",
   "metadata": {},
   "outputs": [
    {
     "ename": "",
     "evalue": "",
     "output_type": "error",
     "traceback": [
      "\u001b[1;31mFailed to start the Kernel. \n",
      "\u001b[1;31mUnable to start Kernel 'Python 3.10.11' due to connection timeout. \n",
      "\u001b[1;31mView Jupyter <a href='command:jupyter.viewOutput'>log</a> for further details."
     ]
    }
   ],
   "source": [
    "# Removing the dollar and commma symbols in the Amount($) column\n",
    "\n",
    "df3[\"Amount($)\"] = df3[\"Amount($)\"].replace(['\\$', ','], '', regex=True)\n",
    "df3[\"Amount($)\"].unique()"
   ]
  },
  {
   "cell_type": "markdown",
   "id": "9ddd55d3",
   "metadata": {},
   "source": [
    "At this point, the \"Amount($)\" column datatype could still not be converted to integer because of the presence of non-integer values. There is need to identify these non-integer values. To do this, a boolean mask will be created to identify the non-integer values. This boolean mask will be used to create a new DataFrame with only the non-integer values. Before creating the boolean mask, the entire column will first be converted to a string to ensure a more accurate DataFrame result."
   ]
  },
  {
   "cell_type": "code",
   "execution_count": null,
   "id": "f6988ba1",
   "metadata": {},
   "outputs": [
    {
     "ename": "",
     "evalue": "",
     "output_type": "error",
     "traceback": [
      "\u001b[1;31mFailed to start the Kernel. \n",
      "\u001b[1;31mUnable to start Kernel 'Python 3.10.11' due to connection timeout. \n",
      "\u001b[1;31mView Jupyter <a href='command:jupyter.viewOutput'>log</a> for further details."
     ]
    }
   ],
   "source": [
    "# Creating a boolean mask to identify non-integer values in Amount($) column\n",
    "non_int_mask = df3[\"Amount($)\"].apply(lambda x: not str(x).isdigit())\n",
    "\n",
    "# Creating a new DataFrame with only the non-integer values\n",
    "non_int_df3_amounts = df3[non_int_mask]\n",
    "non_int_df3_amounts"
   ]
  },
  {
   "cell_type": "markdown",
   "id": "e6484327",
   "metadata": {},
   "source": [
    "Having identified the non-integer values, they will be worked on and changed to integer values."
   ]
  },
  {
   "cell_type": "code",
   "execution_count": null,
   "id": "5fd22ec7",
   "metadata": {},
   "outputs": [
    {
     "ename": "",
     "evalue": "",
     "output_type": "error",
     "traceback": [
      "\u001b[1;31mFailed to start the Kernel. \n",
      "\u001b[1;31mUnable to start Kernel 'Python 3.10.11' due to connection timeout. \n",
      "\u001b[1;31mView Jupyter <a href='command:jupyter.viewOutput'>log</a> for further details."
     ]
    }
   ],
   "source": [
    "# Replacing the amounts \"887000 23000000\" and 800000000 to 850000000 with their avaerage respectively\n",
    "\n",
    "df3[\"Amount($)\"].replace(\"887000 23000000\", np.mean([887000, 23000000]), inplace = True, regex=True)\n",
    "df3[\"Amount($)\"].replace(\"800000000 to 850000000\", np.mean([800000000, 850000000]), inplace = True, regex=True)"
   ]
  },
  {
   "cell_type": "code",
   "execution_count": null,
   "id": "65c6e1e6",
   "metadata": {},
   "outputs": [
    {
     "ename": "",
     "evalue": "",
     "output_type": "error",
     "traceback": [
      "\u001b[1;31mFailed to start the Kernel. \n",
      "\u001b[1;31mUnable to start Kernel 'Python 3.10.11' due to connection timeout. \n",
      "\u001b[1;31mView Jupyter <a href='command:jupyter.viewOutput'>log</a> for further details."
     ]
    }
   ],
   "source": [
    "# Checking the datatype of 8700000 in Amount($)\n",
    "\n",
    "type(df3[\"Amount($)\"][548]) # 8700000 has a row header of 548"
   ]
  },
  {
   "cell_type": "markdown",
   "id": "6527a36f",
   "metadata": {},
   "source": [
    "Since the datatype of 8700000 is a string, it will be converted to an integer easily when converting the entire column to integer."
   ]
  },
  {
   "cell_type": "code",
   "execution_count": null,
   "id": "c96b1bf4",
   "metadata": {},
   "outputs": [
    {
     "ename": "",
     "evalue": "",
     "output_type": "error",
     "traceback": [
      "\u001b[1;31mFailed to start the Kernel. \n",
      "\u001b[1;31mUnable to start Kernel 'Python 3.10.11' due to connection timeout. \n",
      "\u001b[1;31mView Jupyter <a href='command:jupyter.viewOutput'>log</a> for further details."
     ]
    }
   ],
   "source": [
    "# Removing the decimal points in 9.600000 and 42.23000\n",
    "\n",
    "df3['Amount($)'].replace('9.600000','9600000', inplace= True,regex=True)\n",
    "df3['Amount($)'].replace('42.23000','4223000',inplace =True, regex=True)"
   ]
  },
  {
   "cell_type": "code",
   "execution_count": null,
   "id": "1c28e240",
   "metadata": {},
   "outputs": [
    {
     "ename": "",
     "evalue": "",
     "output_type": "error",
     "traceback": [
      "\u001b[1;31mFailed to start the Kernel. \n",
      "\u001b[1;31mUnable to start Kernel 'Python 3.10.11' due to connection timeout. \n",
      "\u001b[1;31mView Jupyter <a href='command:jupyter.viewOutput'>log</a> for further details."
     ]
    }
   ],
   "source": [
    "# Converting the datatype of the Amount($) column to integer\n",
    "\n",
    "df3[\"Amount($)\"] = df3[\"Amount($)\"].astype(\"int64\")\n",
    "df3[\"Amount($)\"].unique()"
   ]
  },
  {
   "cell_type": "code",
   "execution_count": null,
   "id": "bbbe2441",
   "metadata": {},
   "outputs": [
    {
     "ename": "",
     "evalue": "",
     "output_type": "error",
     "traceback": [
      "\u001b[1;31mFailed to start the Kernel. \n",
      "\u001b[1;31mUnable to start Kernel 'Python 3.10.11' due to connection timeout. \n",
      "\u001b[1;31mView Jupyter <a href='command:jupyter.viewOutput'>log</a> for further details."
     ]
    }
   ],
   "source": [
    "# Evaluating the entire dataset\n",
    "\n",
    "df3.head()"
   ]
  },
  {
   "cell_type": "code",
   "execution_count": null,
   "id": "b93107d6",
   "metadata": {},
   "outputs": [
    {
     "ename": "",
     "evalue": "",
     "output_type": "error",
     "traceback": [
      "\u001b[1;31mFailed to start the Kernel. \n",
      "\u001b[1;31mUnable to start Kernel 'Python 3.10.11' due to connection timeout. \n",
      "\u001b[1;31mView Jupyter <a href='command:jupyter.viewOutput'>log</a> for further details."
     ]
    }
   ],
   "source": [
    "# Confirming that there are no empty cells\n",
    "\n",
    "df3.isna().sum()"
   ]
  },
  {
   "cell_type": "markdown",
   "id": "7ec0bee8",
   "metadata": {},
   "source": [
    "There are no empty cells in our dateset, and the columns have been inspected and cleaned.\n",
    "\n",
    "Next is to add the \"Funding Year\" column."
   ]
  },
  {
   "cell_type": "code",
   "execution_count": null,
   "id": "8859b5e7",
   "metadata": {},
   "outputs": [
    {
     "ename": "",
     "evalue": "",
     "output_type": "error",
     "traceback": [
      "\u001b[1;31mFailed to start the Kernel. \n",
      "\u001b[1;31mUnable to start Kernel 'Python 3.10.11' due to connection timeout. \n",
      "\u001b[1;31mView Jupyter <a href='command:jupyter.viewOutput'>log</a> for further details."
     ]
    }
   ],
   "source": [
    "# Creating a new column named \"Funding Year\" and filling it with 2020\n",
    "\n",
    "df3[\"Funding Year\"] = 2020\n",
    "df3.head()"
   ]
  },
  {
   "cell_type": "markdown",
   "id": "e96e760f",
   "metadata": {},
   "source": [
    "# Cleaning the fourth data set"
   ]
  },
  {
   "cell_type": "code",
   "execution_count": null,
   "id": "1b07f49b",
   "metadata": {},
   "outputs": [
    {
     "ename": "",
     "evalue": "",
     "output_type": "error",
     "traceback": [
      "\u001b[1;31mFailed to start the Kernel. \n",
      "\u001b[1;31mUnable to start Kernel 'Python 3.10.11' due to connection timeout. \n",
      "\u001b[1;31mView Jupyter <a href='command:jupyter.viewOutput'>log</a> for further details."
     ]
    }
   ],
   "source": [
    "# Evaluating the fourth dataset\n",
    "\n",
    "df4.head()"
   ]
  },
  {
   "cell_type": "code",
   "execution_count": null,
   "id": "5aaadc2b",
   "metadata": {},
   "outputs": [
    {
     "ename": "",
     "evalue": "",
     "output_type": "error",
     "traceback": [
      "\u001b[1;31mFailed to start the Kernel. \n",
      "\u001b[1;31mUnable to start Kernel 'Python 3.10.11' due to connection timeout. \n",
      "\u001b[1;31mView Jupyter <a href='command:jupyter.viewOutput'>log</a> for further details."
     ]
    }
   ],
   "source": [
    "# Dropping the \"Founded\", \"What it does\", \"Founders\", \"Investor\" and \"Stage\" columns\n",
    "\n",
    "df4 = df4.drop([\"Founded\", \"What it does\", \"Founders\", \"Investor\", \"Stage\"], axis =1)\n",
    "df4.head()"
   ]
  },
  {
   "cell_type": "code",
   "execution_count": null,
   "id": "b7d7e420",
   "metadata": {},
   "outputs": [
    {
     "ename": "",
     "evalue": "",
     "output_type": "error",
     "traceback": [
      "\u001b[1;31mFailed to start the Kernel. \n",
      "\u001b[1;31mUnable to start Kernel 'Python 3.10.11' due to connection timeout. \n",
      "\u001b[1;31mView Jupyter <a href='command:jupyter.viewOutput'>log</a> for further details."
     ]
    }
   ],
   "source": [
    "# Checking the cell values\n",
    "\n",
    "df4.info()"
   ]
  },
  {
   "cell_type": "code",
   "execution_count": null,
   "id": "af3f77e0",
   "metadata": {},
   "outputs": [
    {
     "ename": "",
     "evalue": "",
     "output_type": "error",
     "traceback": [
      "\u001b[1;31mFailed to start the Kernel. \n",
      "\u001b[1;31mUnable to start Kernel 'Python 3.10.11' due to connection timeout. \n",
      "\u001b[1;31mView Jupyter <a href='command:jupyter.viewOutput'>log</a> for further details."
     ]
    }
   ],
   "source": [
    "# Confirming the number of empty cells\n",
    "\n",
    "df4.isna().sum()"
   ]
  },
  {
   "cell_type": "markdown",
   "id": "6c584844",
   "metadata": {},
   "source": [
    "The \"HeadQuarter\" column has one empty cell which will be filled with N/A when inspecting the column. While the Amount($) column has three empty cells which will be filled with zero when inspecting the column."
   ]
  },
  {
   "cell_type": "code",
   "execution_count": null,
   "id": "a7fb1fd0",
   "metadata": {},
   "outputs": [
    {
     "ename": "",
     "evalue": "",
     "output_type": "error",
     "traceback": [
      "\u001b[1;31mFailed to start the Kernel. \n",
      "\u001b[1;31mUnable to start Kernel 'Python 3.10.11' due to connection timeout. \n",
      "\u001b[1;31mView Jupyter <a href='command:jupyter.viewOutput'>log</a> for further details."
     ]
    }
   ],
   "source": [
    "# Checking for duplicate rows\n",
    "\n",
    "df4.duplicated().sum()"
   ]
  },
  {
   "cell_type": "markdown",
   "id": "c6d9166c",
   "metadata": {},
   "source": [
    "The dataset has thirty-one duplicate rows"
   ]
  },
  {
   "cell_type": "code",
   "execution_count": null,
   "id": "5b1c78e7",
   "metadata": {},
   "outputs": [
    {
     "ename": "",
     "evalue": "",
     "output_type": "error",
     "traceback": [
      "\u001b[1;31mFailed to start the Kernel. \n",
      "\u001b[1;31mUnable to start Kernel 'Python 3.10.11' due to connection timeout. \n",
      "\u001b[1;31mView Jupyter <a href='command:jupyter.viewOutput'>log</a> for further details."
     ]
    }
   ],
   "source": [
    "# Dropping the duplicate row\n",
    "\n",
    "df4 = df4.drop_duplicates()\n",
    "\n",
    "# Confirming that the duplicate rows have been dropped\n",
    "\n",
    "df4.duplicated().sum()"
   ]
  },
  {
   "cell_type": "code",
   "execution_count": null,
   "id": "94e37d92",
   "metadata": {},
   "outputs": [
    {
     "ename": "",
     "evalue": "",
     "output_type": "error",
     "traceback": [
      "\u001b[1;31mFailed to start the Kernel. \n",
      "\u001b[1;31mUnable to start Kernel 'Python 3.10.11' due to connection timeout. \n",
      "\u001b[1;31mView Jupyter <a href='command:jupyter.viewOutput'>log</a> for further details."
     ]
    }
   ],
   "source": [
    "df4.info()"
   ]
  },
  {
   "cell_type": "markdown",
   "id": "1bbf16a0",
   "metadata": {},
   "source": [
    "After dropping the duplicate rows, the number of rows reduced from 1209 to 1178."
   ]
  },
  {
   "cell_type": "markdown",
   "id": "b341498f",
   "metadata": {},
   "source": [
    "# Checking the data quality"
   ]
  },
  {
   "cell_type": "code",
   "execution_count": null,
   "id": "f85e7d70",
   "metadata": {},
   "outputs": [
    {
     "ename": "",
     "evalue": "",
     "output_type": "error",
     "traceback": [
      "\u001b[1;31mFailed to start the Kernel. \n",
      "\u001b[1;31mUnable to start Kernel 'Python 3.10.11' due to connection timeout. \n",
      "\u001b[1;31mView Jupyter <a href='command:jupyter.viewOutput'>log</a> for further details."
     ]
    }
   ],
   "source": [
    "# Inspecting the \"Company/Brand\" column\n",
    "\n",
    "df4[\"Company/Brand\"].unique()"
   ]
  },
  {
   "cell_type": "code",
   "execution_count": null,
   "id": "960df1e9",
   "metadata": {},
   "outputs": [
    {
     "ename": "",
     "evalue": "",
     "output_type": "error",
     "traceback": [
      "\u001b[1;31mFailed to start the Kernel. \n",
      "\u001b[1;31mUnable to start Kernel 'Python 3.10.11' due to connection timeout. \n",
      "\u001b[1;31mView Jupyter <a href='command:jupyter.viewOutput'>log</a> for further details."
     ]
    }
   ],
   "source": [
    "# Inspecting the \"HeadQuarter\" column\n",
    "\n",
    "df4[\"HeadQuarter\"].unique()"
   ]
  },
  {
   "cell_type": "code",
   "execution_count": null,
   "id": "177f9cfb",
   "metadata": {},
   "outputs": [
    {
     "ename": "",
     "evalue": "",
     "output_type": "error",
     "traceback": [
      "\u001b[1;31mFailed to start the Kernel. \n",
      "\u001b[1;31mUnable to start Kernel 'Python 3.10.11' due to connection timeout. \n",
      "\u001b[1;31mView Jupyter <a href='command:jupyter.viewOutput'>log</a> for further details."
     ]
    }
   ],
   "source": [
    "# Filling the empty cells in the \"HeadQuarter\" column with N/A\n",
    "\n",
    "df4[\"HeadQuarter\"]= df4[\"HeadQuarter\"].fillna('N/A')\n",
    "df4[\"HeadQuarter\"].unique()"
   ]
  },
  {
   "cell_type": "code",
   "execution_count": null,
   "id": "725a5f8e",
   "metadata": {},
   "outputs": [
    {
     "ename": "",
     "evalue": "",
     "output_type": "error",
     "traceback": [
      "\u001b[1;31mFailed to start the Kernel. \n",
      "\u001b[1;31mUnable to start Kernel 'Python 3.10.11' due to connection timeout. \n",
      "\u001b[1;31mView Jupyter <a href='command:jupyter.viewOutput'>log</a> for further details."
     ]
    }
   ],
   "source": [
    "# Replacing 'Small Towns, Andhra Pradesh' with 'Andhra Pradesh'\n",
    "\n",
    "df4[\"HeadQuarter\"] = df4[\"HeadQuarter\"].replace('Small Towns, Andhra Pradesh', 'Andhra Pradesh', regex=True)\n",
    "df4[\"HeadQuarter\"].unique()"
   ]
  },
  {
   "cell_type": "markdown",
   "id": "e757c5d5",
   "metadata": {},
   "source": [
    "Some cell values are inappropriate for the \"HeadQuarter\" column. This will be handled by examining the rows involved."
   ]
  },
  {
   "cell_type": "code",
   "execution_count": null,
   "id": "a195f316",
   "metadata": {},
   "outputs": [
    {
     "ename": "",
     "evalue": "",
     "output_type": "error",
     "traceback": [
      "\u001b[1;31mFailed to start the Kernel. \n",
      "\u001b[1;31mUnable to start Kernel 'Python 3.10.11' due to connection timeout. \n",
      "\u001b[1;31mView Jupyter <a href='command:jupyter.viewOutput'>log</a> for further details."
     ]
    }
   ],
   "source": [
    "# Identifying the rows that have 'Computer Games' on the \"HeadQuarter\" Column\n",
    "\n",
    "df4.loc[df4[\"HeadQuarter\"] == 'Computer Games']"
   ]
  },
  {
   "cell_type": "markdown",
   "id": "3173f7f4",
   "metadata": {},
   "source": [
    "This row does not have accurate information on the columns. Having previously dropped some columns on the dataset, it is important to reload the original dataset with a different variable name to see all the information on this row for all the original columns."
   ]
  },
  {
   "cell_type": "code",
   "execution_count": null,
   "id": "57e66d53",
   "metadata": {},
   "outputs": [
    {
     "ename": "",
     "evalue": "",
     "output_type": "error",
     "traceback": [
      "\u001b[1;31mFailed to start the Kernel. \n",
      "\u001b[1;31mUnable to start Kernel 'Python 3.10.11' due to connection timeout. \n",
      "\u001b[1;31mView Jupyter <a href='command:jupyter.viewOutput'>log</a> for further details."
     ]
    }
   ],
   "source": [
    "# loading the original dataset using a different variable name\n",
    "\n",
    "ddf4 = pd.read_csv('startup_funding2021.csv')"
   ]
  },
  {
   "cell_type": "code",
   "execution_count": null,
   "id": "ae8032f4",
   "metadata": {},
   "outputs": [
    {
     "ename": "",
     "evalue": "",
     "output_type": "error",
     "traceback": [
      "\u001b[1;31mFailed to start the Kernel. \n",
      "\u001b[1;31mUnable to start Kernel 'Python 3.10.11' due to connection timeout. \n",
      "\u001b[1;31mView Jupyter <a href='command:jupyter.viewOutput'>log</a> for further details."
     ]
    }
   ],
   "source": [
    "# Finding the row on the original dataset with 'Computer Games' in the \"HeadQuarters\" column\n",
    "\n",
    "ddf4.loc[ddf4[\"HeadQuarter\"] == 'Computer Games']"
   ]
  },
  {
   "cell_type": "markdown",
   "id": "7336b463",
   "metadata": {},
   "source": [
    "This row is one of the duplicated rows, and the duplicate row had been dropped.\n",
    "\n",
    "The \"HeadQuarter\" value is unknown and will be filled with 'N/A'. The \"Sector\" value is 'Computer Games', while the Amount value is $1200000."
   ]
  },
  {
   "cell_type": "code",
   "execution_count": null,
   "id": "949ff25e",
   "metadata": {},
   "outputs": [
    {
     "ename": "",
     "evalue": "",
     "output_type": "error",
     "traceback": [
      "\u001b[1;31mFailed to start the Kernel. \n",
      "\u001b[1;31mUnable to start Kernel 'Python 3.10.11' due to connection timeout. \n",
      "\u001b[1;31mView Jupyter <a href='command:jupyter.viewOutput'>log</a> for further details."
     ]
    }
   ],
   "source": [
    "# Filling in the correct values in the row with 'Computer Games' in the \"HeadQuarters\" column\n",
    "\n",
    "df4.loc[df4[\"Company/Brand\"] == \"FanPlay\", [\"HeadQuarter\",\"Amount($)\"]] = ['N/A','$1200000',]\n",
    "df4.loc[df4[\"Company/Brand\"] == \"FanPlay\"]"
   ]
  },
  {
   "cell_type": "code",
   "execution_count": null,
   "id": "0289efa6",
   "metadata": {},
   "outputs": [
    {
     "ename": "",
     "evalue": "",
     "output_type": "error",
     "traceback": [
      "\u001b[1;31mFailed to start the Kernel. \n",
      "\u001b[1;31mUnable to start Kernel 'Python 3.10.11' due to connection timeout. \n",
      "\u001b[1;31mView Jupyter <a href='command:jupyter.viewOutput'>log</a> for further details."
     ]
    }
   ],
   "source": [
    "# Identifying the rows that have 'Food & Beverages' on the \"HeadQuarter\" Column\n",
    "\n",
    "df4.loc[df4[\"HeadQuarter\"] == 'Food & Beverages']"
   ]
  },
  {
   "cell_type": "markdown",
   "id": "936dcf3f",
   "metadata": {},
   "source": [
    "The \"HeadQuarter\" value is 'Hauz Khas'. While the \"Sector\" value is 'Food & Beverages'."
   ]
  },
  {
   "cell_type": "code",
   "execution_count": null,
   "id": "b64169c5",
   "metadata": {},
   "outputs": [
    {
     "ename": "",
     "evalue": "",
     "output_type": "error",
     "traceback": [
      "\u001b[1;31mFailed to start the Kernel. \n",
      "\u001b[1;31mUnable to start Kernel 'Python 3.10.11' due to connection timeout. \n",
      "\u001b[1;31mView Jupyter <a href='command:jupyter.viewOutput'>log</a> for further details."
     ]
    }
   ],
   "source": [
    "# Filling in the correct values for the \"HeadQuarters\" column and the \"Sector\" column\n",
    "\n",
    "df4.loc[df4[\"Company/Brand\"] == \"MasterChow\", ['HeadQuarter',\"Sector\"]] = ['Hauz Khas','Food & Beverages']\n",
    "df4.loc[df4[\"Company/Brand\"] == \"MasterChow\"]"
   ]
  },
  {
   "cell_type": "code",
   "execution_count": null,
   "id": "8034e91e",
   "metadata": {},
   "outputs": [
    {
     "ename": "",
     "evalue": "",
     "output_type": "error",
     "traceback": [
      "\u001b[1;31mFailed to start the Kernel. \n",
      "\u001b[1;31mUnable to start Kernel 'Python 3.10.11' due to connection timeout. \n",
      "\u001b[1;31mView Jupyter <a href='command:jupyter.viewOutput'>log</a> for further details."
     ]
    }
   ],
   "source": [
    "# Identifying the rows that have 'Pharmaceuticals\\t#REF!' on the \"HeadQuarter\" Column\n",
    "\n",
    "df4.loc[df4[\"HeadQuarter\"] == 'Pharmaceuticals\\t#REF!']"
   ]
  },
  {
   "cell_type": "code",
   "execution_count": null,
   "id": "e105a102",
   "metadata": {},
   "outputs": [
    {
     "ename": "",
     "evalue": "",
     "output_type": "error",
     "traceback": [
      "\u001b[1;31mFailed to start the Kernel. \n",
      "\u001b[1;31mUnable to start Kernel 'Python 3.10.11' due to connection timeout. \n",
      "\u001b[1;31mView Jupyter <a href='command:jupyter.viewOutput'>log</a> for further details."
     ]
    }
   ],
   "source": [
    "# Finding the row on the original dataset with 'Pharmaceuticals\\t#REF!' in the \"HeadQuarters\" column\n",
    "\n",
    "ddf4.loc[ddf4[\"HeadQuarter\"] == 'Pharmaceuticals\\t#REF!']"
   ]
  },
  {
   "cell_type": "markdown",
   "id": "4c678aa7",
   "metadata": {},
   "source": [
    "This row is one of the duplicated rows, and the duplicate row had been dropped.\n",
    "\n",
    "The \"HeadQuarter\" value is unknown and will be filled with 'N/A'. The \"Sector\" value is 'Pharmaceuticals', while the Amount value is $22000000."
   ]
  },
  {
   "cell_type": "code",
   "execution_count": null,
   "id": "d1c58c21",
   "metadata": {},
   "outputs": [
    {
     "ename": "",
     "evalue": "",
     "output_type": "error",
     "traceback": [
      "\u001b[1;31mFailed to start the Kernel. \n",
      "\u001b[1;31mUnable to start Kernel 'Python 3.10.11' due to connection timeout. \n",
      "\u001b[1;31mView Jupyter <a href='command:jupyter.viewOutput'>log</a> for further details."
     ]
    }
   ],
   "source": [
    "# Filling in the correct values in the row with 'Pharmaceuticals\\t#REF!' in the \"HeadQuarters\" column\n",
    "\n",
    "df4.loc[df4[\"Company/Brand\"] == \"Fullife Healthcare\", [\"HeadQuarter\", \"Sector\", \"Amount($)\"]] = ['N/A', 'Pharmaceuticals', '$22000000',]\n",
    "df4.loc[df4[\"Company/Brand\"] == \"Fullife Healthcare\"]"
   ]
  },
  {
   "cell_type": "code",
   "execution_count": null,
   "id": "24729090",
   "metadata": {},
   "outputs": [
    {
     "ename": "",
     "evalue": "",
     "output_type": "error",
     "traceback": [
      "\u001b[1;31mFailed to start the Kernel. \n",
      "\u001b[1;31mUnable to start Kernel 'Python 3.10.11' due to connection timeout. \n",
      "\u001b[1;31mView Jupyter <a href='command:jupyter.viewOutput'>log</a> for further details."
     ]
    }
   ],
   "source": [
    "# Identifying the rows that have 'Gurugram\\t#REF!' on the \"HeadQuarter\" Column\n",
    "\n",
    "df4.loc[df4[\"HeadQuarter\"] == 'Gurugram\\t#REF!']"
   ]
  },
  {
   "cell_type": "code",
   "execution_count": null,
   "id": "bace03bb",
   "metadata": {},
   "outputs": [
    {
     "ename": "",
     "evalue": "",
     "output_type": "error",
     "traceback": [
      "\u001b[1;31mFailed to start the Kernel. \n",
      "\u001b[1;31mUnable to start Kernel 'Python 3.10.11' due to connection timeout. \n",
      "\u001b[1;31mView Jupyter <a href='command:jupyter.viewOutput'>log</a> for further details."
     ]
    }
   ],
   "source": [
    "# Finding the row on the original dataset with 'Gurugram\\t#REF!' in the \"HeadQuarters\" column\n",
    "\n",
    "ddf4.loc[ddf4[\"HeadQuarter\"] == 'Gurugram\\t#REF!']"
   ]
  },
  {
   "cell_type": "markdown",
   "id": "565fd217",
   "metadata": {},
   "source": [
    "The \"HeadQuarter\" value is 'Gurugram', the \"Sector\" value is unknown and will be filled with 'N/A' and the \"Amount\" column value is $5000000."
   ]
  },
  {
   "cell_type": "code",
   "execution_count": null,
   "id": "dae3e4ac",
   "metadata": {},
   "outputs": [
    {
     "ename": "",
     "evalue": "",
     "output_type": "error",
     "traceback": [
      "\u001b[1;31mFailed to start the Kernel. \n",
      "\u001b[1;31mUnable to start Kernel 'Python 3.10.11' due to connection timeout. \n",
      "\u001b[1;31mView Jupyter <a href='command:jupyter.viewOutput'>log</a> for further details."
     ]
    }
   ],
   "source": [
    "# Filling in the correct values in the row with 'Gurugram\\t#REF!' in the \"HeadQuarters\" column\n",
    "\n",
    "df4.loc[df4[\"Company/Brand\"] == \"MoEVing\", [\"HeadQuarter\", \"Sector\", \"Amount($)\"]] = ['Gurugram',  'N/A', ' $5000000']\n",
    "df4.loc[df4[\"Company/Brand\"] == \"MoEVing\"]"
   ]
  },
  {
   "cell_type": "code",
   "execution_count": null,
   "id": "a7067adb",
   "metadata": {},
   "outputs": [
    {
     "ename": "",
     "evalue": "",
     "output_type": "error",
     "traceback": [
      "\u001b[1;31mFailed to start the Kernel. \n",
      "\u001b[1;31mUnable to start Kernel 'Python 3.10.11' due to connection timeout. \n",
      "\u001b[1;31mView Jupyter <a href='command:jupyter.viewOutput'>log</a> for further details."
     ]
    }
   ],
   "source": [
    "# Identifying the rows that have 'Online Media\\t#REF!' on the \"HeadQuarter\" Column\n",
    "\n",
    "df4.loc[df4[\"HeadQuarter\"] == 'Online Media\\t#REF!']"
   ]
  },
  {
   "cell_type": "code",
   "execution_count": null,
   "id": "da4f9bcd",
   "metadata": {},
   "outputs": [
    {
     "ename": "",
     "evalue": "",
     "output_type": "error",
     "traceback": [
      "\u001b[1;31mFailed to start the Kernel. \n",
      "\u001b[1;31mUnable to start Kernel 'Python 3.10.11' due to connection timeout. \n",
      "\u001b[1;31mView Jupyter <a href='command:jupyter.viewOutput'>log</a> for further details."
     ]
    }
   ],
   "source": [
    "# Finding the row on the original dataset with 'Online Media\\t#REF!' in the \"HeadQuarters\" column\n",
    "\n",
    "ddf4.loc[ddf4[\"HeadQuarter\"] == 'Online Media\\t#REF!']"
   ]
  },
  {
   "cell_type": "markdown",
   "id": "c940cb28",
   "metadata": {},
   "source": [
    "The \"HeadQuarter\" value is unknown and will be filled with 'N/A', the \"Sector\" value is Online Media, and the \"Amount\" column value is undisclosed and will be filled with zero"
   ]
  },
  {
   "cell_type": "code",
   "execution_count": null,
   "id": "3c17f0dd",
   "metadata": {},
   "outputs": [
    {
     "ename": "",
     "evalue": "",
     "output_type": "error",
     "traceback": [
      "\u001b[1;31mFailed to start the Kernel. \n",
      "\u001b[1;31mUnable to start Kernel 'Python 3.10.11' due to connection timeout. \n",
      "\u001b[1;31mView Jupyter <a href='command:jupyter.viewOutput'>log</a> for further details."
     ]
    }
   ],
   "source": [
    "# Filling in the correct values in the row with 'Online Media\\t#REF!' in the \"HeadQuarters\" column\n",
    "\n",
    "df4.loc[df4[\"Company/Brand\"] == \"Sochcast\", [\"HeadQuarter\", \"Sector\", \"Amount($)\"]] = ['N/A',  ' Online Media', '0']\n",
    "df4.loc[df4[\"Company/Brand\"] == \"Sochcast\"]"
   ]
  },
  {
   "cell_type": "code",
   "execution_count": null,
   "id": "1aa0caa9",
   "metadata": {},
   "outputs": [
    {
     "ename": "",
     "evalue": "",
     "output_type": "error",
     "traceback": [
      "\u001b[1;31mFailed to start the Kernel. \n",
      "\u001b[1;31mUnable to start Kernel 'Python 3.10.11' due to connection timeout. \n",
      "\u001b[1;31mView Jupyter <a href='command:jupyter.viewOutput'>log</a> for further details."
     ]
    }
   ],
   "source": [
    "# Identifying the rows that have 'Information Technology & Services' on the \"HeadQuarter\" Column\n",
    "\n",
    "df4.loc[df4[\"HeadQuarter\"] == 'Information Technology & Services']"
   ]
  },
  {
   "cell_type": "code",
   "execution_count": null,
   "id": "31c03f41",
   "metadata": {},
   "outputs": [
    {
     "ename": "",
     "evalue": "",
     "output_type": "error",
     "traceback": [
      "\u001b[1;31mFailed to start the Kernel. \n",
      "\u001b[1;31mUnable to start Kernel 'Python 3.10.11' due to connection timeout. \n",
      "\u001b[1;31mView Jupyter <a href='command:jupyter.viewOutput'>log</a> for further details."
     ]
    }
   ],
   "source": [
    "# Filling in the correct values in the row with 'Computer Games' in the \"HeadQuarters\" column\n",
    "\n",
    "df4.loc[df4[\"Company/Brand\"] == \"Peak\", [\"HeadQuarter\",\"Sector\"]] = ['Manchester','Information Technology & Services']\n",
    "df4.loc[df4[\"Company/Brand\"] == \"Peak\"]"
   ]
  },
  {
   "cell_type": "code",
   "execution_count": null,
   "id": "0603dcd1",
   "metadata": {},
   "outputs": [
    {
     "ename": "",
     "evalue": "",
     "output_type": "error",
     "traceback": [
      "\u001b[1;31mFailed to start the Kernel. \n",
      "\u001b[1;31mUnable to start Kernel 'Python 3.10.11' due to connection timeout. \n",
      "\u001b[1;31mView Jupyter <a href='command:jupyter.viewOutput'>log</a> for further details."
     ]
    }
   ],
   "source": [
    "# Inspecting the \"HeadQuarter\" column again\n",
    "\n",
    "df4[\"HeadQuarter\"].unique()"
   ]
  },
  {
   "cell_type": "code",
   "execution_count": null,
   "id": "c84af8a6",
   "metadata": {},
   "outputs": [
    {
     "ename": "",
     "evalue": "",
     "output_type": "error",
     "traceback": [
      "\u001b[1;31mFailed to start the Kernel. \n",
      "\u001b[1;31mUnable to start Kernel 'Python 3.10.11' due to connection timeout. \n",
      "\u001b[1;31mView Jupyter <a href='command:jupyter.viewOutput'>log</a> for further details."
     ]
    }
   ],
   "source": [
    "# Replacing Bangalore with Bengaluru\n",
    "\n",
    "df4[\"HeadQuarter\"] = df4[\"HeadQuarter\"].replace('Bangalore', 'Bengaluru', regex=True)\n",
    "df4[\"HeadQuarter\"].unique()"
   ]
  },
  {
   "cell_type": "code",
   "execution_count": null,
   "id": "6a2329cd",
   "metadata": {},
   "outputs": [
    {
     "ename": "",
     "evalue": "",
     "output_type": "error",
     "traceback": [
      "\u001b[1;31mFailed to start the Kernel. \n",
      "\u001b[1;31mUnable to start Kernel 'Python 3.10.11' due to connection timeout. \n",
      "\u001b[1;31mView Jupyter <a href='command:jupyter.viewOutput'>log</a> for further details."
     ]
    }
   ],
   "source": [
    "# Inspecting the \"Sector\" column\n",
    "\n",
    "df4[\"Sector\"].unique()"
   ]
  },
  {
   "cell_type": "code",
   "execution_count": null,
   "id": "6ea37bb4",
   "metadata": {},
   "outputs": [
    {
     "ename": "",
     "evalue": "",
     "output_type": "error",
     "traceback": [
      "\u001b[1;31mFailed to start the Kernel. \n",
      "\u001b[1;31mUnable to start Kernel 'Python 3.10.11' due to connection timeout. \n",
      "\u001b[1;31mView Jupyter <a href='command:jupyter.viewOutput'>log</a> for further details."
     ]
    }
   ],
   "source": [
    "# Replacing Helathcare with Healthcare\n",
    "\n",
    "df4[\"Sector\"] = df4[\"Sector\"].replace('Helathcare', 'Healthcare', regex=True)"
   ]
  },
  {
   "cell_type": "code",
   "execution_count": null,
   "id": "766b9d31",
   "metadata": {},
   "outputs": [
    {
     "ename": "",
     "evalue": "",
     "output_type": "error",
     "traceback": [
      "\u001b[1;31mFailed to start the Kernel. \n",
      "\u001b[1;31mUnable to start Kernel 'Python 3.10.11' due to connection timeout. \n",
      "\u001b[1;31mView Jupyter <a href='command:jupyter.viewOutput'>log</a> for further details."
     ]
    }
   ],
   "source": [
    "# Replacing Aeorspace with Aerospace\n",
    "\n",
    "df4[\"Sector\"] = df4[\"Sector\"].replace('Aeorspace', 'Aerospace', regex=True)"
   ]
  },
  {
   "cell_type": "code",
   "execution_count": null,
   "id": "c90ced26",
   "metadata": {},
   "outputs": [
    {
     "ename": "",
     "evalue": "",
     "output_type": "error",
     "traceback": [
      "\u001b[1;31mFailed to start the Kernel. \n",
      "\u001b[1;31mUnable to start Kernel 'Python 3.10.11' due to connection timeout. \n",
      "\u001b[1;31mView Jupyter <a href='command:jupyter.viewOutput'>log</a> for further details."
     ]
    }
   ],
   "source": [
    "# Inspecting the \"Amount($)\" column\n",
    "\n",
    "df4[\"Amount($)\"].unique()"
   ]
  },
  {
   "cell_type": "code",
   "execution_count": null,
   "id": "6fa7db11",
   "metadata": {},
   "outputs": [
    {
     "ename": "",
     "evalue": "",
     "output_type": "error",
     "traceback": [
      "\u001b[1;31mFailed to start the Kernel. \n",
      "\u001b[1;31mUnable to start Kernel 'Python 3.10.11' due to connection timeout. \n",
      "\u001b[1;31mView Jupyter <a href='command:jupyter.viewOutput'>log</a> for further details."
     ]
    }
   ],
   "source": [
    "# Removing the dollar and comma symbols in the Amount($) column\n",
    "\n",
    "df4[\"Amount($)\"] = df4[\"Amount($)\"].replace(['\\$', ','], '', regex=True)\n",
    "df4[\"Amount($)\"].unique()"
   ]
  },
  {
   "cell_type": "code",
   "execution_count": null,
   "id": "e2c88667",
   "metadata": {},
   "outputs": [
    {
     "ename": "",
     "evalue": "",
     "output_type": "error",
     "traceback": [
      "\u001b[1;31mFailed to start the Kernel. \n",
      "\u001b[1;31mUnable to start Kernel 'Python 3.10.11' due to connection timeout. \n",
      "\u001b[1;31mView Jupyter <a href='command:jupyter.viewOutput'>log</a> for further details."
     ]
    }
   ],
   "source": [
    "# Creating a boolean mask to identify non-integer values in Amount($) column\n",
    "non_int_mask = df4[\"Amount($)\"].apply(lambda x: not str(x).isdigit())\n",
    "\n",
    "# Creating a new DataFrame with only the non-integer values\n",
    "non_int_df4_amounts = df4[non_int_mask]"
   ]
  },
  {
   "cell_type": "code",
   "execution_count": null,
   "id": "d7d8ea99",
   "metadata": {},
   "outputs": [
    {
     "ename": "",
     "evalue": "",
     "output_type": "error",
     "traceback": [
      "\u001b[1;31mFailed to start the Kernel. \n",
      "\u001b[1;31mUnable to start Kernel 'Python 3.10.11' due to connection timeout. \n",
      "\u001b[1;31mView Jupyter <a href='command:jupyter.viewOutput'>log</a> for further details."
     ]
    }
   ],
   "source": [
    "# Inspecting the values in the \"Amount($)\" column of the non-integer DataFrame\n",
    "\n",
    "non_int_df4_amounts[\"Amount($)\"].unique()"
   ]
  },
  {
   "cell_type": "code",
   "execution_count": null,
   "id": "75857cca",
   "metadata": {},
   "outputs": [
    {
     "ename": "",
     "evalue": "",
     "output_type": "error",
     "traceback": [
      "\u001b[1;31mFailed to start the Kernel. \n",
      "\u001b[1;31mUnable to start Kernel 'Python 3.10.11' due to connection timeout. \n",
      "\u001b[1;31mView Jupyter <a href='command:jupyter.viewOutput'>log</a> for further details."
     ]
    }
   ],
   "source": [
    "# Replacing 'Undisclosed', 'undisclosed' and '' with zero\n",
    "\n",
    "df4[\"Amount($)\"] = df4[\"Amount($)\"].replace(['Undisclosed', 'undisclosed', ''], 0, regex=True)"
   ]
  },
  {
   "cell_type": "code",
   "execution_count": null,
   "id": "c74762bb",
   "metadata": {},
   "outputs": [
    {
     "ename": "",
     "evalue": "",
     "output_type": "error",
     "traceback": [
      "\u001b[1;31mFailed to start the Kernel. \n",
      "\u001b[1;31mUnable to start Kernel 'Python 3.10.11' due to connection timeout. \n",
      "\u001b[1;31mView Jupyter <a href='command:jupyter.viewOutput'>log</a> for further details."
     ]
    }
   ],
   "source": [
    "# Filling the empty cells in the \"Amount($)\" column with zero\n",
    "\n",
    "df4[\"Amount($)\"] = df4[\"Amount($)\"].fillna(0)\n",
    "df4[\"Amount($)\"].unique()"
   ]
  },
  {
   "cell_type": "code",
   "execution_count": null,
   "id": "4e43a8b9",
   "metadata": {},
   "outputs": [
    {
     "ename": "",
     "evalue": "",
     "output_type": "error",
     "traceback": [
      "\u001b[1;31mFailed to start the Kernel. \n",
      "\u001b[1;31mUnable to start Kernel 'Python 3.10.11' due to connection timeout. \n",
      "\u001b[1;31mView Jupyter <a href='command:jupyter.viewOutput'>log</a> for further details."
     ]
    }
   ],
   "source": [
    "# Replacing ' 5000000' with 5000000\n",
    "\n",
    "df4[\"Amount($)\"] = df4[\"Amount($)\"].replace(' 5000000', 5000000, regex=True)"
   ]
  },
  {
   "cell_type": "code",
   "execution_count": null,
   "id": "4fa7495f",
   "metadata": {},
   "outputs": [
    {
     "ename": "",
     "evalue": "",
     "output_type": "error",
     "traceback": [
      "\u001b[1;31mFailed to start the Kernel. \n",
      "\u001b[1;31mUnable to start Kernel 'Python 3.10.11' due to connection timeout. \n",
      "\u001b[1;31mView Jupyter <a href='command:jupyter.viewOutput'>log</a> for further details."
     ]
    }
   ],
   "source": [
    "# Identifying the rows that have 'ah! Ventures' on the \"Amount($)\" Column on the original dataset\n",
    "\n",
    "ddf4.loc[ddf4[\"Amount($)\"] == 'ah! Ventures']"
   ]
  },
  {
   "cell_type": "code",
   "execution_count": null,
   "id": "43cc14f9",
   "metadata": {},
   "outputs": [
    {
     "ename": "",
     "evalue": "",
     "output_type": "error",
     "traceback": [
      "\u001b[1;31mFailed to start the Kernel. \n",
      "\u001b[1;31mUnable to start Kernel 'Python 3.10.11' due to connection timeout. \n",
      "\u001b[1;31mView Jupyter <a href='command:jupyter.viewOutput'>log</a> for further details."
     ]
    }
   ],
   "source": [
    "# Filling in the correct values in the row with 'ah! Ventures' in the \"Amount($)\" column of df4\n",
    "\n",
    "df4.loc[df4[\"Company/Brand\"] == \"Little Leap\", \"Amount($)\"] = 300000\n",
    "df4.loc[df4[\"Company/Brand\"] == \"Little Leap\"]"
   ]
  },
  {
   "cell_type": "code",
   "execution_count": null,
   "id": "be619330",
   "metadata": {},
   "outputs": [
    {
     "ename": "",
     "evalue": "",
     "output_type": "error",
     "traceback": [
      "\u001b[1;31mFailed to start the Kernel. \n",
      "\u001b[1;31mUnable to start Kernel 'Python 3.10.11' due to connection timeout. \n",
      "\u001b[1;31mView Jupyter <a href='command:jupyter.viewOutput'>log</a> for further details."
     ]
    }
   ],
   "source": [
    "# Identifying the rows that have 'Pre-series A' on the \"Amount($)\" Column on the original dataset\n",
    "\n",
    "ddf4.loc[ddf4[\"Amount($)\"] == 'Pre-series A']"
   ]
  },
  {
   "cell_type": "code",
   "execution_count": null,
   "id": "4b7b06da",
   "metadata": {},
   "outputs": [
    {
     "ename": "",
     "evalue": "",
     "output_type": "error",
     "traceback": [
      "\u001b[1;31mFailed to start the Kernel. \n",
      "\u001b[1;31mUnable to start Kernel 'Python 3.10.11' due to connection timeout. \n",
      "\u001b[1;31mView Jupyter <a href='command:jupyter.viewOutput'>log</a> for further details."
     ]
    }
   ],
   "source": [
    "# Filling in the correct values in the row with 'Pre-series A' in the \"Amount($)\" column of df4\n",
    "\n",
    "df4.loc[df4[\"Company/Brand\"] == \"AdmitKard\", \"Amount($)\"] = 1000000\n",
    "df4.loc[df4[\"Company/Brand\"] == \"AdmitKard\"]"
   ]
  },
  {
   "cell_type": "code",
   "execution_count": null,
   "id": "bf346d9e",
   "metadata": {},
   "outputs": [
    {
     "ename": "",
     "evalue": "",
     "output_type": "error",
     "traceback": [
      "\u001b[1;31mFailed to start the Kernel. \n",
      "\u001b[1;31mUnable to start Kernel 'Python 3.10.11' due to connection timeout. \n",
      "\u001b[1;31mView Jupyter <a href='command:jupyter.viewOutput'>log</a> for further details."
     ]
    }
   ],
   "source": [
    "# Creating another boolean mask to identify the remaining non-integer values in Amount($) column\n",
    "non_int_mask1 = df4[\"Amount($)\"].apply(lambda x: not str(x).isdigit())\n",
    "\n",
    "# Creating a new DataFrame with only the non-integer values\n",
    "non_int_df4_amounts1 = df4[non_int_mask1]\n",
    "non_int_df4_amounts1"
   ]
  },
  {
   "cell_type": "code",
   "execution_count": null,
   "id": "8cbb617e",
   "metadata": {},
   "outputs": [
    {
     "ename": "",
     "evalue": "",
     "output_type": "error",
     "traceback": [
      "\u001b[1;31mFailed to start the Kernel. \n",
      "\u001b[1;31mUnable to start Kernel 'Python 3.10.11' due to connection timeout. \n",
      "\u001b[1;31mView Jupyter <a href='command:jupyter.viewOutput'>log</a> for further details."
     ]
    }
   ],
   "source": [
    "# Identifying the rows that have 'ITO Angel Network LetsVenture' on df4\n",
    "\n",
    "df4.loc[df4[\"Amount($)\"] == 'ITO Angel Network LetsVenture']"
   ]
  },
  {
   "cell_type": "code",
   "execution_count": null,
   "id": "24ab3992",
   "metadata": {},
   "outputs": [
    {
     "ename": "",
     "evalue": "",
     "output_type": "error",
     "traceback": [
      "\u001b[1;31mFailed to start the Kernel. \n",
      "\u001b[1;31mUnable to start Kernel 'Python 3.10.11' due to connection timeout. \n",
      "\u001b[1;31mView Jupyter <a href='command:jupyter.viewOutput'>log</a> for further details."
     ]
    }
   ],
   "source": [
    "# Identifying the rows that have 'BHyve' on the \"Company/Brand\" Column on the original dataset\n",
    "\n",
    "ddf4.loc[ddf4[\"Company/Brand\"] == 'BHyve']"
   ]
  },
  {
   "cell_type": "code",
   "execution_count": null,
   "id": "06ae013b",
   "metadata": {},
   "outputs": [
    {
     "ename": "",
     "evalue": "",
     "output_type": "error",
     "traceback": [
      "\u001b[1;31mFailed to start the Kernel. \n",
      "\u001b[1;31mUnable to start Kernel 'Python 3.10.11' due to connection timeout. \n",
      "\u001b[1;31mView Jupyter <a href='command:jupyter.viewOutput'>log</a> for further details."
     ]
    }
   ],
   "source": [
    "# Filling in the correct values in the row with 'ITO Angel Network LetsVenture' in the \"Amount($)\" column of df4\n",
    "\n",
    "df4.loc[df4[\"Company/Brand\"] == \"BHyve\", \"Amount($)\"] = 300000\n",
    "df4.loc[df4[\"Company/Brand\"] == \"BHyve\"]"
   ]
  },
  {
   "cell_type": "code",
   "execution_count": null,
   "id": "63c69097",
   "metadata": {},
   "outputs": [
    {
     "ename": "",
     "evalue": "",
     "output_type": "error",
     "traceback": [
      "\u001b[1;31mFailed to start the Kernel. \n",
      "\u001b[1;31mUnable to start Kernel 'Python 3.10.11' due to connection timeout. \n",
      "\u001b[1;31mView Jupyter <a href='command:jupyter.viewOutput'>log</a> for further details."
     ]
    }
   ],
   "source": [
    "# Identifying the rows that have 'JITO Angel Network LetsVenture' on df4\n",
    "\n",
    "df4.loc[df4[\"Amount($)\"] == 'JITO Angel Network LetsVenture']"
   ]
  },
  {
   "cell_type": "code",
   "execution_count": null,
   "id": "90e61533",
   "metadata": {},
   "outputs": [
    {
     "ename": "",
     "evalue": "",
     "output_type": "error",
     "traceback": [
      "\u001b[1;31mFailed to start the Kernel. \n",
      "\u001b[1;31mUnable to start Kernel 'Python 3.10.11' due to connection timeout. \n",
      "\u001b[1;31mView Jupyter <a href='command:jupyter.viewOutput'>log</a> for further details."
     ]
    }
   ],
   "source": [
    "# Identifying the rows that have 'BHyve' on the \"Company/Brand\" Column on the original dataset\n",
    "\n",
    "ddf4.loc[ddf4[\"Company/Brand\"] == 'Saarthi Pedagogy']"
   ]
  },
  {
   "cell_type": "code",
   "execution_count": null,
   "id": "479d46fc",
   "metadata": {},
   "outputs": [
    {
     "ename": "",
     "evalue": "",
     "output_type": "error",
     "traceback": [
      "\u001b[1;31mFailed to start the Kernel. \n",
      "\u001b[1;31mUnable to start Kernel 'Python 3.10.11' due to connection timeout. \n",
      "\u001b[1;31mView Jupyter <a href='command:jupyter.viewOutput'>log</a> for further details."
     ]
    }
   ],
   "source": [
    "# Filling in the correct values in the row with 'JITO Angel Network LetsVenture' in the \"Amount($)\" column of df4\n",
    "\n",
    "df4.loc[df4[\"Company/Brand\"] == \"Saarthi Pedagogy\", \"Amount($)\"] = 1000000\n",
    "df4.loc[df4[\"Company/Brand\"] == \"Saarthi Pedagogy\"]"
   ]
  },
  {
   "cell_type": "code",
   "execution_count": null,
   "id": "1ff2246b",
   "metadata": {},
   "outputs": [
    {
     "ename": "",
     "evalue": "",
     "output_type": "error",
     "traceback": [
      "\u001b[1;31mFailed to start the Kernel. \n",
      "\u001b[1;31mUnable to start Kernel 'Python 3.10.11' due to connection timeout. \n",
      "\u001b[1;31mView Jupyter <a href='command:jupyter.viewOutput'>log</a> for further details."
     ]
    }
   ],
   "source": [
    "# Identifying the rows that have 'Seed' on the \"Amount($)\" Column on the original dataset\n",
    "\n",
    "ddf4.loc[ddf4[\"Amount($)\"] == 'Seed']"
   ]
  },
  {
   "cell_type": "code",
   "execution_count": null,
   "id": "5dba2a65",
   "metadata": {},
   "outputs": [
    {
     "ename": "",
     "evalue": "",
     "output_type": "error",
     "traceback": [
      "\u001b[1;31mFailed to start the Kernel. \n",
      "\u001b[1;31mUnable to start Kernel 'Python 3.10.11' due to connection timeout. \n",
      "\u001b[1;31mView Jupyter <a href='command:jupyter.viewOutput'>log</a> for further details."
     ]
    }
   ],
   "source": [
    "# Filling in the correct values in the rows with 'Seed' in the \"Amount($)\" column of df4\n",
    "\n",
    "df4.loc[df4[\"Company/Brand\"] == \"MoEVing\", \"Amount($)\"] = 5000000\n",
    "df4.loc[df4[\"Company/Brand\"] == \"Godamwale\", \"Amount($)\"] = 1000000"
   ]
  },
  {
   "cell_type": "code",
   "execution_count": null,
   "id": "7aba61e1",
   "metadata": {},
   "outputs": [
    {
     "ename": "",
     "evalue": "",
     "output_type": "error",
     "traceback": [
      "\u001b[1;31mFailed to start the Kernel. \n",
      "\u001b[1;31mUnable to start Kernel 'Python 3.10.11' due to connection timeout. \n",
      "\u001b[1;31mView Jupyter <a href='command:jupyter.viewOutput'>log</a> for further details."
     ]
    }
   ],
   "source": [
    "# Converting the datatype of the Amount($) column to integer\n",
    "\n",
    "df4[\"Amount($)\"] = df4[\"Amount($)\"].astype(\"int64\")\n",
    "df4[\"Amount($)\"].unique()"
   ]
  },
  {
   "cell_type": "code",
   "execution_count": null,
   "id": "4f6681b3",
   "metadata": {},
   "outputs": [
    {
     "ename": "",
     "evalue": "",
     "output_type": "error",
     "traceback": [
      "\u001b[1;31mFailed to start the Kernel. \n",
      "\u001b[1;31mUnable to start Kernel 'Python 3.10.11' due to connection timeout. \n",
      "\u001b[1;31mView Jupyter <a href='command:jupyter.viewOutput'>log</a> for further details."
     ]
    }
   ],
   "source": [
    "# Evaluating the entire dataset\n",
    "\n",
    "df4.head()"
   ]
  },
  {
   "cell_type": "code",
   "execution_count": null,
   "id": "4e860713",
   "metadata": {},
   "outputs": [
    {
     "ename": "",
     "evalue": "",
     "output_type": "error",
     "traceback": [
      "\u001b[1;31mFailed to start the Kernel. \n",
      "\u001b[1;31mUnable to start Kernel 'Python 3.10.11' due to connection timeout. \n",
      "\u001b[1;31mView Jupyter <a href='command:jupyter.viewOutput'>log</a> for further details."
     ]
    }
   ],
   "source": [
    "# Confirming that there are no empty cells\n",
    "\n",
    "df4.isna().sum()"
   ]
  },
  {
   "cell_type": "markdown",
   "id": "70343bd8",
   "metadata": {},
   "source": [
    "There are no empty cells in our dateset, and the columns have been inspected and cleaned.\n",
    "\n",
    "Next is to add the \"Funding Year\" column."
   ]
  },
  {
   "cell_type": "code",
   "execution_count": null,
   "id": "e0294acb",
   "metadata": {},
   "outputs": [
    {
     "ename": "",
     "evalue": "",
     "output_type": "error",
     "traceback": [
      "\u001b[1;31mFailed to start the Kernel. \n",
      "\u001b[1;31mUnable to start Kernel 'Python 3.10.11' due to connection timeout. \n",
      "\u001b[1;31mView Jupyter <a href='command:jupyter.viewOutput'>log</a> for further details."
     ]
    }
   ],
   "source": [
    "# Creating a new column named \"Funding Year\" and filling it with 2021\n",
    "\n",
    "df4[\"Funding Year\"] = 2021\n",
    "df4.head()"
   ]
  },
  {
   "cell_type": "markdown",
   "id": "27832fe6",
   "metadata": {},
   "source": [
    "# Merging the datasets"
   ]
  },
  {
   "cell_type": "code",
   "execution_count": null,
   "id": "52f47f52",
   "metadata": {},
   "outputs": [
    {
     "ename": "",
     "evalue": "",
     "output_type": "error",
     "traceback": [
      "\u001b[1;31mFailed to start the Kernel. \n",
      "\u001b[1;31mUnable to start Kernel 'Python 3.10.11' due to connection timeout. \n",
      "\u001b[1;31mView Jupyter <a href='command:jupyter.viewOutput'>log</a> for further details."
     ]
    }
   ],
   "source": [
    "# Using pd.concat to merge\n",
    "\n",
    "sets = [df1, df2, df3, df4]\n",
    "df = pd.concat(sets)\n",
    "df"
   ]
  },
  {
   "cell_type": "markdown",
   "id": "bfd0b807",
   "metadata": {},
   "source": [
    "# Performing EDA"
   ]
  },
  {
   "cell_type": "code",
   "execution_count": null,
   "id": "87ff3951",
   "metadata": {},
   "outputs": [
    {
     "ename": "",
     "evalue": "",
     "output_type": "error",
     "traceback": [
      "\u001b[1;31mFailed to start the Kernel. \n",
      "\u001b[1;31mUnable to start Kernel 'Python 3.10.11' due to connection timeout. \n",
      "\u001b[1;31mView Jupyter <a href='command:jupyter.viewOutput'>log</a> for further details."
     ]
    }
   ],
   "source": [
    "df.info()"
   ]
  },
  {
   "cell_type": "markdown",
   "id": "c302bfea",
   "metadata": {},
   "source": [
    "There are no empty cells on the dataset."
   ]
  },
  {
   "cell_type": "code",
   "execution_count": null,
   "id": "17aa5b53",
   "metadata": {},
   "outputs": [
    {
     "ename": "",
     "evalue": "",
     "output_type": "error",
     "traceback": [
      "\u001b[1;31mFailed to start the Kernel. \n",
      "\u001b[1;31mUnable to start Kernel 'Python 3.10.11' due to connection timeout. \n",
      "\u001b[1;31mView Jupyter <a href='command:jupyter.viewOutput'>log</a> for further details."
     ]
    }
   ],
   "source": [
    "# Inspecting the \"HeadQuarter\" column thoroughly\n",
    "\n",
    "df[\"HeadQuarter\"].unique()"
   ]
  },
  {
   "cell_type": "code",
   "execution_count": null,
   "id": "689e8d7f",
   "metadata": {},
   "outputs": [
    {
     "ename": "",
     "evalue": "",
     "output_type": "error",
     "traceback": [
      "\u001b[1;31mFailed to start the Kernel. \n",
      "\u001b[1;31mUnable to start Kernel 'Python 3.10.11' due to connection timeout. \n",
      "\u001b[1;31mView Jupyter <a href='command:jupyter.viewOutput'>log</a> for further details."
     ]
    }
   ],
   "source": [
    "# changing 'Gurgaon' to 'Gurugram' since Gurugram is the official name.\n",
    "df[\"HeadQuarter\"] = df[\"HeadQuarter\"].replace('Gurgaon', 'Gurugram', regex=True)\n",
    "\n",
    "# changing 'New Delhi' to 'Delhi' since it's the same city.\n",
    "df[\"HeadQuarter\"] = df[\"HeadQuarter\"].replace('New Delhi', 'Delhi', regex=True)\n",
    "\n",
    "# Changing 'Bengaluru City' to 'Bengaluru', since it's the same city.\n",
    "df[\"HeadQuarter\"] = df[\"HeadQuarter\"].replace('Bengaluru City', 'Bengaluru', regex=True)\n",
    "\n",
    "# Changing 'Telugana' to 'Telangana', since Telangana is the offical name.\n",
    "df[\"HeadQuarter\"] = df[\"HeadQuarter\"].replace('Telugana', 'Telangana', regex=True)\n",
    "\n",
    "# Changing 'Faridabad, Haryana' to 'Faridabad'.\n",
    "df[\"HeadQuarter\"] = df[\"HeadQuarter\"].replace('Faridabad, Haryana', 'Faridabad', regex=True)\n",
    "\n",
    "# Changing 'Irvine', 'San Francisco', 'San Ramon', 'San Francisco Bay Area', 'San Franciscao' (misspelling)\n",
    "# and 'Mountain View, CA' to California, since they are all in California.\n",
    "df[\"HeadQuarter\"] = df[\"HeadQuarter\"].replace(['Irvine', 'San Francisco', 'San Ramon', 'San Francisco Bay Area', 'San Franciscao', 'Mountain View, CA'], 'California', regex=True)\n",
    "\n",
    "# Changing 'Frisco' and 'Plano' to 'Texas', since they are both in Texas.\n",
    "df[\"HeadQuarter\"] = df[\"HeadQuarter\"].replace(['Frisco', 'Plano'], 'Texas', regex=True)\n",
    "\n",
    "# Changing 'Samstipur' to 'Samastipur', since Samstipur is a misspelling.\n",
    "df[\"HeadQuarter\"] = df[\"HeadQuarter\"].replace('Samsitpur', 'Samastipur', regex=True)\n",
    "\n",
    "# Changing 'France' to 'Paris', since the \"HeadQuarter\" column carries names of cities, not countries.\n",
    "df[\"HeadQuarter\"] = df[\"HeadQuarter\"].replace('France', 'Paris', regex=True)\n",
    "\n",
    "# Changing 'Milano' to 'Milan' the official name.\n",
    "df[\"HeadQuarter\"] = df[\"HeadQuarter\"].replace('Milano', 'Milan', regex=True)\n",
    "\n",
    "# Changing 'Orissia' to 'Odisha', since Odisha is the offical name.\n",
    "df[\"HeadQuarter\"] = df[\"HeadQuarter\"].replace('Orissia', 'Odisha', regex=True)\n",
    "\n",
    "df[\"HeadQuarter\"].unique()"
   ]
  },
  {
   "cell_type": "code",
   "execution_count": null,
   "id": "8892e706",
   "metadata": {},
   "outputs": [
    {
     "ename": "",
     "evalue": "",
     "output_type": "error",
     "traceback": [
      "\u001b[1;31mFailed to start the Kernel. \n",
      "\u001b[1;31mUnable to start Kernel 'Python 3.10.11' due to connection timeout. \n",
      "\u001b[1;31mView Jupyter <a href='command:jupyter.viewOutput'>log</a> for further details."
     ]
    }
   ],
   "source": [
    "df[\"HeadQuarter\"] = df[\"HeadQuarter\"].replace('California Bay Area', 'California', regex=True)\n",
    "\n",
    "df[\"HeadQuarter\"].unique()"
   ]
  },
  {
   "cell_type": "markdown",
   "id": "7dff5483",
   "metadata": {},
   "source": [
    "In the HeadQuarter column, we have the names of states and also have the names of cities that are within those states in the same column. For example,  Uttar Pradesh is a state in the HeadQuarter column while Noida, Kanpur and Ghaziabad are cities in Uttar Pradesh also in the HeadQuarter column. This means that when analysing the HeadQuarter column, the true values of funding in Uttar Pradesh will not be obtained. This applies to some other states as well.\n",
    "\n",
    "To handle this challenge, the names of cities will be replaced with the names of states they are found in. Doing so will give the true information of funding in each state, which will make the analysis more valid."
   ]
  },
  {
   "cell_type": "code",
   "execution_count": null,
   "id": "9ebc2034",
   "metadata": {},
   "outputs": [
    {
     "ename": "",
     "evalue": "",
     "output_type": "error",
     "traceback": [
      "\u001b[1;31mFailed to start the Kernel. \n",
      "\u001b[1;31mUnable to start Kernel 'Python 3.10.11' due to connection timeout. \n",
      "\u001b[1;31mView Jupyter <a href='command:jupyter.viewOutput'>log</a> for further details."
     ]
    }
   ],
   "source": [
    "# Creating a dictionary called \"state-mapping\" where each city is placed in the appropriate state.\n",
    "\n",
    "state_mapping = {\n",
    "    'Ahmedabad': 'Gujarat',\n",
    "    'Alwar': 'Rajasthan',\n",
    "    'Alleppey': 'Kerala',\n",
    "    'Ambernath': 'Maharashtra',\n",
    "    'Anand': 'Gujarat',\n",
    "    'Andheri': 'Maharashtra',\n",
    "    'Azadpur': 'Delhi',\n",
    "    'Bengaluru': 'Karnataka',\n",
    "    'Belgaum': 'Karnataka',\n",
    "    'Bhilwara': 'Rajasthan',\n",
    "    'Bhopal': 'Madhya Pradesh',\n",
    "    'Bhubaneswar': 'Odisha',\n",
    "    'Chennai': 'Tamil Nadu',\n",
    "    'Cochin': 'Kerala',\n",
    "    'Dehradun': 'Uttarakhand',\n",
    "    'Dhingsara': 'Haryana',\n",
    "    'Coimbatore': 'Tamil Nadu',\n",
    "    'Ernakulam': 'Kerala',\n",
    "    'Faridabad': 'Haryana',\n",
    "    'Gandhinagar': 'Gujarat',\n",
    "    'Ghaziabad': 'Uttar Pradesh',\n",
    "    'Guindy': 'Tamil Nadu',\n",
    "    'Gurugram': 'Haryana',\n",
    "    'Guwahati': 'Assam',\n",
    "    'Hauz Khas': 'Delhi',\n",
    "    'Hubli': 'Karnataka',\n",
    "    'Hyderabad': 'Telangana',\n",
    "    'Indore': 'Madhya Pradesh',\n",
    "    'Jaipur': 'Rajasthan',\n",
    "    'Jodhpur': 'Rajasthan',\n",
    "    'Kalkaji': 'Delhi',\n",
    "    'Kalpakkam': 'Tamil Nadu',\n",
    "    'Kannur': 'Kerala',\n",
    "    'Kanpur': 'Uttar Pradesh',\n",
    "    'Kochi': 'Kerala',\n",
    "    'Kolkata': 'West Bengal',\n",
    "    'Kota': 'Rajasthan',\n",
    "    'Kormangala': 'Karnataka',\n",
    "    'Kottayam': 'Kerala',\n",
    "    'Lucknow': 'Uttar Pradesh',\n",
    "    'Ludhiana': 'Punjab',\n",
    "    'Margão': 'Goa',\n",
    "    'Mangalore': 'Karnataka',\n",
    "    'Mohali': 'Punjab',\n",
    "    'Mumbai': 'Maharashtra',\n",
    "    'Mylapore': 'Tamil Nadu',\n",
    "    'Nagpur': 'Maharashtra',\n",
    "    'Noida': 'Uttar Pradesh',\n",
    "    'Panaji': 'Goa',\n",
    "    'Panchkula': 'Haryana',\n",
    "    'Patna': 'Bihar',\n",
    "    'Powai': 'Maharashtra',\n",
    "    'Pune': 'Maharashtra',\n",
    "    'Rajsamand': 'Rajasthan',\n",
    "    'Ranchi': 'Jharkhand',\n",
    "    'Roorkee': 'Uttarakhand',\n",
    "    'Samastipur': 'Bihar',\n",
    "    'Santra': 'Chhattisgarh',\n",
    "    'Satara': 'Maharashtra',\n",
    "    'Surat': 'Gujarat',\n",
    "    'Thane': 'Maharashtra',\n",
    "    'The Nilgiris': 'Tamil Nadu',\n",
    "    'Thiruvananthapuram': 'Kerala',\n",
    "    'Tirunelveli': 'Tamil Nadu',\n",
    "    'Trivandrum': 'Kerala',\n",
    "    'Tumkur': 'Karnataka',\n",
    "    'Vadodara': 'Gujarat',\n",
    "    'Warangal': 'Telangana',\n",
    "    'Worli': 'Maharashtra'\n",
    "    }"
   ]
  },
  {
   "cell_type": "markdown",
   "id": "a9fc46fc",
   "metadata": {},
   "source": [
    "Chandigarh is the shared capital of the states of Haryana and Punjab, while Silvassa lies between the states of Gujarat and Maharashtra. Hence they are not mapped to any state name."
   ]
  },
  {
   "cell_type": "code",
   "execution_count": null,
   "id": "4be3fe0d",
   "metadata": {},
   "outputs": [
    {
     "ename": "",
     "evalue": "",
     "output_type": "error",
     "traceback": [
      "\u001b[1;31mFailed to start the Kernel. \n",
      "\u001b[1;31mUnable to start Kernel 'Python 3.10.11' due to connection timeout. \n",
      "\u001b[1;31mView Jupyter <a href='command:jupyter.viewOutput'>log</a> for further details."
     ]
    }
   ],
   "source": [
    "# Replacing each city in the dictionary with the corresponding state name, and when a location (a state in India or a \n",
    "# location outside India) is not found in the dictionary, the location itself is returned.\n",
    "\n",
    "df[\"HeadQuarter\"] = [state_mapping.get(city, city) for city in df[\"HeadQuarter\"]]\n",
    "df[\"HeadQuarter\"].unique()"
   ]
  },
  {
   "cell_type": "code",
   "execution_count": null,
   "id": "bec3f44a",
   "metadata": {},
   "outputs": [
    {
     "ename": "",
     "evalue": "",
     "output_type": "error",
     "traceback": [
      "\u001b[1;31mFailed to start the Kernel. \n",
      "\u001b[1;31mUnable to start Kernel 'Python 3.10.11' due to connection timeout. \n",
      "\u001b[1;31mView Jupyter <a href='command:jupyter.viewOutput'>log</a> for further details."
     ]
    }
   ],
   "source": [
    "# Inspecting the \"Sector\" column thoroughly\n",
    "\n",
    "df[\"Sector\"].unique()"
   ]
  },
  {
   "cell_type": "markdown",
   "id": "4d245b7a",
   "metadata": {},
   "source": [
    "The \"Sector\" column contains many similar kinds of businesses as seperate sectors. For example, 'food', 'food and beverages', 'beverages', 'food industry' etc are similar but are represented as seperate sectors in the \"Sector\" column. Other sectors have similar occurences. There is need to map these related sectors together."
   ]
  },
  {
   "cell_type": "code",
   "execution_count": null,
   "id": "af0ff045",
   "metadata": {},
   "outputs": [
    {
     "ename": "",
     "evalue": "",
     "output_type": "error",
     "traceback": [
      "\u001b[1;31mFailed to start the Kernel. \n",
      "\u001b[1;31mUnable to start Kernel 'Python 3.10.11' due to connection timeout. \n",
      "\u001b[1;31mView Jupyter <a href='command:jupyter.viewOutput'>log</a> for further details."
     ]
    }
   ],
   "source": [
    "sector_mapping = {'3D Printing': 'Information Technology (IT)',\n",
    "                  'Accomodation': 'Real Estate',\n",
    "                  'Accounting': 'Banking',\n",
    "                  'Ad-tech': 'Information Technology (IT)',\n",
    "                  'Advertisement': 'Media and Entertainment',\n",
    "                  'Advertising': 'Media and Entertainment',\n",
    "                  'Advisory firm': 'Career and Personal Development',\n",
    "                  'Aero company': 'Transportation and Tourism',\n",
    "                  'Aerospace': 'Transportation and Tourism',\n",
    "                  'Agri tech': 'Information Technology (IT)',\n",
    "                  'Agriculture': 'Agriculture and Food Production',\n",
    "                  'AgriTech': 'Information Technology (IT)',\n",
    "                  'AgTech': 'Agriculture and Food Production',\n",
    "                  'AI': 'Information Technology (IT)',\n",
    "                  'Ai': 'Information Technology (IT)',\n",
    "                  'Ai & Tech': 'Information Technology (IT)',\n",
    "                  'AI and Tech': 'Information Technology (IT)',\n",
    "                  'AI and Tech': 'Information Technology (IT)',\n",
    "                  'AI Company': 'Information Technology (IT)',\n",
    "                  'AI startup': 'Information Technology (IT)',\n",
    "                  'AI & Data science': 'Information Technology (IT)',\n",
    "                  'AI & Debt': 'Information Technology (IT)',\n",
    "                  'AI & Deep learning': 'Information Technology (IT)',\n",
    "                  'AI & Media': 'Information Technology (IT)',\n",
    "                  'AI & Tech': 'Information Technology (IT)',\n",
    "                  'AI and Tech': 'Information Technology (IT)',\n",
    "                  'AI Chatbot': 'Information Technology (IT)',\n",
    "                  'AI company': 'Information Technology (IT)',\n",
    "                  'AI health': 'Information Technology (IT)',\n",
    "                  'AI platform': 'Information Technology (IT)',\n",
    "                  'AI Platform': 'Information Technology (IT)',\n",
    "                  'AI Robotics': 'Information Technology (IT)',\n",
    "                  'AI Startup': 'Information Technology (IT)',\n",
    "                  'Agritech': 'Information Technology (IT)',\n",
    "                  'Agritech startup': 'Information Technology (IT)',\n",
    "                  'AgriTech': 'Information Technology (IT)',\n",
    "                  'Agritech/Commerce': 'Information Technology (IT)',\n",
    "                  'Air Transportation': 'Transportation & Tourism',\n",
    "                  'Alternative Medicine': 'Healthcare & Fitness',\n",
    "                  'Analytics': 'Information Technology (IT)',\n",
    "                  'Android': 'Information Technology (IT)',\n",
    "                  'API platform': 'Information Technology (IT)',\n",
    "                  'Appliance': 'Information Technology (IT)',\n",
    "                  'Apparel & Fashion': 'Fashion and Beauty',\n",
    "                  'Apps': 'Information Technology (IT)',\n",
    "                  'AR platform': 'Information Technology (IT)',\n",
    "                  'AR startup': 'Information Technology (IT)',\n",
    "                  'AR/VR': 'Information Technology (IT)',\n",
    "                  'AR/VR startup': 'Information Technology (IT)',\n",
    "                  'Artificial Intelligence': 'Information Technology (IT)',\n",
    "                  'Arts & Crafts': 'Cultural Heritage',\n",
    "                  'Audio': 'Media and Entertainment',\n",
    "                  'Augmented reality': 'Information Technology (IT)',\n",
    "                  'Auto-tech': 'Manufacturing',\n",
    "                  'Automation': 'Manufacturing',\n",
    "                  'Automation tech': 'Manufacturing',\n",
    "                  'Automobile': 'Manufacturing',\n",
    "                  'Automobile & Technology': 'Manufacturing',\n",
    "                  'Automobile Technology': 'Manufacturing',\n",
    "                  'Automobile Technology': 'Manufacturing',\n",
    "                  'Automobiles': 'Manufacturing',\n",
    "                  'Automotive': 'Manufacturing',\n",
    "                  'Automotive Startup': 'Manufacturing',\n",
    "                  'Automotive Tech': 'Manufacturing',\n",
    "                  'Automotive and Rentals': 'Manufacturing',\n",
    "                  'Automotive company': 'Manufacturing',\n",
    "                  'Automotive tech': 'Manufacturing',\n",
    "                  'Autonomous Vehicles': 'Manufacturing',\n",
    "                  'Aviation': 'Transportation & Tourism',\n",
    "                  'Aviation & Aerospace': 'Transportation & Tourism',\n",
    "                  'Ayurveda tech': 'Healthcare and Fitness',\n",
    "                  'B2B': 'E-commerce and Retail',\n",
    "                  'B2B Agritech': 'E-Commerce and Retail',\n",
    "                  'B2B E-commerce': 'E-Commerce and Retail',\n",
    "                  'B2B Ecommerce': 'E-Commerce and Retail',\n",
    "                  'B2B Marketplace': 'E-Commerce and Retail',\n",
    "                  'B2B Manufacturing': 'E-Commerce and Retail',\n",
    "                  'B2B Service': 'E-Commerce and Retail',\n",
    "                  'B2B startup': 'E-Commerce and Retail',\n",
    "                  'B2B Supply Chain': 'E-Commerce and Retail',\n",
    "                  'B2B Travel': 'E-Commerce and Retail',\n",
    "                  'B2B marketplace': 'E-Commerce and Retail',\n",
    "                  'B2B service': 'E-Commerce and Retail',\n",
    "                  'B2B startup': 'E-Commerce and Retail',\n",
    "                  'Basketball': 'Healthcare and Fitness',\n",
    "                  'Battery': 'Manufacturing',\n",
    "                  'Battery design': 'Manufacturing',\n",
    "                  'Battery manufacturer': 'Manufacturing',\n",
    "                  'Beauty': 'Fashion and Beauty',\n",
    "                  'Beauty & wellness': 'Fashion and Beauty',\n",
    "                  'Beauty products': 'Fashion and Beauty',\n",
    "                  'Bevarages': 'Agriculture and Food Production',\n",
    "                  'Beverage': 'Agriculture and Food Production',\n",
    "                  'Beverages': 'Agriculture and Food Production',\n",
    "                  'Big Data': 'Information Technology (IT)',\n",
    "                  'Bike Rental': 'E-Commerce and Retail',\n",
    "                  'Bike marketplace': 'E-Commerce and Retail',\n",
    "                  'Biopharma': 'Healthcare and Fitness',\n",
    "                  'Biotech': 'Information Technology (IT)',\n",
    "                  'BioTechnology': 'Information Technology (IT)',\n",
    "                  'Biotechnology': 'Information Technology (IT)',\n",
    "                  'Biotechnology company': 'Information Technology (IT)',\n",
    "                  'Biomaterial startup': 'Manufacturing',\n",
    "                  'Blockchain startup': 'Blockchain',\n",
    "                  'Blogging': 'E-Commerce and Retail',\n",
    "                  'B2B Marketplace': 'E-Commerce and Retail',\n",
    "                  'Brand Marketing': 'E-Commerce and Retail', \n",
    "                  'Broadcasting': 'Media and Entertainment',\n",
    "                  'B2B': 'E-Commerce and Retail',\n",
    "                  'Business Development': 'E-Commerce and Retail',\n",
    "                  'Business Intelligence': 'Information Technology (IT)',\n",
    "                  'Business Supplies & Equipment': 'E-Commerce and Retail',\n",
    "                  'Business Travel': 'Transportation and Tourism',\n",
    "                  'Business and Rentals': 'E-Commerce and Retail',\n",
    "                  'Business company': 'E-Commerce and Retail',\n",
    "                  'Business conglomerate company': 'E-Commerce and Retail',\n",
    "                  'Business platform': 'E-Commerce and Retail',\n",
    "                  'Business software': 'Information Technology (IT)',\n",
    "                  'Cannabis startup': 'Healthcare and Fitness',\n",
    "                  'Capital Markets': 'Banking',\n",
    "                  'Car Service': 'Transportation and Tourism',\n",
    "                  'Car Trade': 'E-Commerce and Retail',\n",
    "                  'Career Planning': 'Career and Personal Development',\n",
    "                  'Catering': 'E-Commerce and Retail',\n",
    "                  'Celebrity Engagement': 'Career and Personal Development',\n",
    "                  'Child Care': 'Healthcare and Fitness',\n",
    "                  'Children': 'Career and Personal Development',\n",
    "                  'Classifieds': 'Media and Entertainment',\n",
    "                  'Clean Energy': 'Energy',\n",
    "                  'CleanTech': 'Information Technology (IT)',\n",
    "                  'Cleantech': 'Information Technology (IT)',\n",
    "                  'Clothing': 'Fashion and Beauty',\n",
    "                  'Cloud Computing': 'Information Technology (IT)',\n",
    "                  'Cloud Infrastructure': 'AI and Tech',\n",
    "                  'Cloud Kitchen': 'Information Technology (IT)',\n",
    "                  'Cloud kitchen': 'Information Technology (IT)',\n",
    "                  'Cloud company': 'Information Technology (IT)',\n",
    "                  'Collaboration': 'Career and Personal Development',\n",
    "                  'Coworking': 'Career and Personal Development',\n",
    "                  'Co-living': 'Career and Personal Development',\n",
    "                  'Co-working': 'Career and Personal Development',\n",
    "                  'Co-working Startup': 'Career and Personal Development',\n",
    "                  'Commerce': 'E-Commerce and Retail',\n",
    "                  'Commercial': 'E-Commerce and Retail',\n",
    "                  'Commercial Real Estate': 'E-Commerce and Retail',\n",
    "                  'Communities': 'Social Development',\n",
    "                  'Community': 'Social Development',\n",
    "                  'Community platform': 'Media and Entertainment',\n",
    "                  'Conversational AI platform': 'Media and Entertainment',\n",
    "                  'Company-as-a-Service': 'E-Commerce and Retail',\n",
    "                  'Computer': 'Information Technology (IT)',\n",
    "                  'Computer Games': 'Media and Entertainment',\n",
    "                  'Computer Software': 'Information Technology (IT)',\n",
    "                  'Computer software': 'Information Technology (IT)',\n",
    "                  'Computer & Network Security': 'Information Technology (IT)',\n",
    "                  'Construction tech': 'Construction',\n",
    "                  'Consultancy': 'Career and Personal Development',\n",
    "                  'Consulting': 'Career and Personal Development',\n",
    "                  'Consumer': 'E-Commerce and Retail',\n",
    "                  'Consumer Applications': 'Information Technology (IT)',\n",
    "                  'Consumer Electronics': 'Information Technology (IT)',\n",
    "                  'Consumer Goods': 'E-Commerce and Retail',\n",
    "                  'Consumer Lending': 'Banking',\n",
    "                  'Consumer Service': 'E-Commerce and Retail',\n",
    "                  \"Consumer service\": 'E-Commerce and Retail',\n",
    "                  'Consumer Services': 'E-Commerce and Retail',\n",
    "                  'Consumer appliances': 'Manufacturing',\n",
    "                  'Consumer goods': 'E-Commerce and Retail',\n",
    "                  'Consumer lending': 'Banking',\n",
    "                  'Consumer software': 'AI and Tech',\n",
    "                  'Content Marktplace': 'E-Commerce and Retail',\n",
    "                  'Content commerce': 'E-Commerce and Retail',\n",
    "                  'Content creation': 'Career and Personal Development',\n",
    "                  'Content management': 'Career and Personal Development',\n",
    "                  'Content marketplace': 'E-Commerce and Retail',\n",
    "                  'Content publishing': 'E-Commerce and Retail',\n",
    "                  'Continuing Education': 'Education',\n",
    "                  'Cooking': 'Agriculture and Food Production',\n",
    "                  'Cosmetics': 'Fashion and Beauty',\n",
    "                  'Craft Beer': 'Cultural Heritage',\n",
    "                  'Creative Agency': 'Career and Personal Development',\n",
    "                  'Credit': 'Banking',\n",
    "                  'Credit Cards': 'Banking',\n",
    "                  'CRM': 'Career and Personal Development',\n",
    "                  'Crowdfunding': 'Banking',\n",
    "                  'Crowdsourcing': 'Banking',\n",
    "                  'Crypto': 'Blockchain',\n",
    "                  'Cryptocurrency': 'Blockchain',\n",
    "                  'Cultural': 'Cultural Heritage',\n",
    "                  'Customer Service': 'Career and Personal Development',\n",
    "                  'Customer service company': 'Career and Personal Development',\n",
    "                  'Cybersecurity': 'Information Technology (IT)',\n",
    "                  'D2C': 'E-Commerce and Retail',\n",
    "                  'D2C Business': 'E-Commerce and Retail',\n",
    "                  'D2C Fashion': 'E-Commerce and Retail',\n",
    "                  'D2C jewellery': 'E-Commerce and Retail',\n",
    "                  'D2C startup': 'E-Commerce and Retail',\n",
    "                  'Dairy': 'Agriculture and Food Production',\n",
    "                  'Dairy startup': 'Agriculture and Food Production',\n",
    "                  'Data Analytics': 'Information Technology (IT)',\n",
    "                  'Data Intelligence': 'Information Technology (IT)',\n",
    "                  'Data Science': 'Information Technology (IT)',\n",
    "                  'Deep Tech': 'Information Technology (IT)',\n",
    "                  'Deep Tech AI': 'Information Technology (IT)',\n",
    "                  'Dating': 'Social Development',\n",
    "                  'Dating app': 'Media and Entertainment',\n",
    "                  'Delivery': 'Transportation and Tourism',\n",
    "                  'Delivery Service': 'Transportation and Tourism',\n",
    "                  'Delivery service': 'Transportation and Tourism',\n",
    "                  'Dental': 'Healthcare and Fitness',\n",
    "                  'Deeptech': 'Information Technology (IT)',\n",
    "                  'Deeptech startup': 'Information Technology (IT)',\n",
    "                  'Defense & Space': 'Defense',\n",
    "                  'Defense tech': 'Defense',\n",
    "                  'Deisgning': 'Career and Personal Development',\n",
    "                  'Design': 'Career and Personal Development',\n",
    "                  'Dietary Supplements': 'Health & Fitness',\n",
    "                  'Digital mortgage': 'Banking',\n",
    "                  'Digital platform': 'Media and Entertainment',\n",
    "                  'Digital tech': 'Media and Entertainment',\n",
    "                  'Digital Entertainment': 'Media and Entertainment',\n",
    "                  'Digital Marketing': 'Media and Entertainment',\n",
    "                  'Digital Media': 'Media and Entertainment',\n",
    "                  'Drone': 'Media and Entertainment',\n",
    "                  'E store': 'E-Commerce and Retail',\n",
    "                  'Estore': 'E-Commerce and Retail',\n",
    "                  'E-Sports': 'Healthcare and Fitness',\n",
    "                  'E tailor': 'E-Commerce and Retail',\n",
    "                  'E-Commerce': 'E-Commerce and Retail',\n",
    "                  'E-commerce': 'E-Commerce and Retail',\n",
    "                  'E-Commerce & Ar': 'E-Commerce and Retail',\n",
    "                  'E-Commerce Platforms': 'E-Commerce and Retail',\n",
    "                  'E-market': 'E-Commerce and Retail',\n",
    "                  'E-Marketplace': 'E-Commerce and Retail',\n",
    "                  'E-connect': 'E-Commerce and Retail',\n",
    "                  'E-learning': 'Education',\n",
    "                  'E-Mobility': 'Transportation and Tourism',\n",
    "                  'E-mobility': 'Transportation and Tourism',\n",
    "                  'E-tail': 'E-Commerce and Retail',\n",
    "                  'eCommerce': 'E-Commerce and Retail',\n",
    "                  'Ecommerce': 'E-Commerce and Retail',\n",
    "                  'EdTech': 'Education',\n",
    "                  'Edtech': 'Education',\n",
    "                  'EdTech Startup': 'Education',\n",
    "                  'EdtTech': 'Education',\n",
    "                  'Educational Technology': 'Education',\n",
    "                  'Education Management': 'Education',\n",
    "                  'E-Learning': 'Education',\n",
    "                  'Electric Vehicle': 'Manufacturing',\n",
    "                  'Electricity': 'Manufacturing',\n",
    "                  'Electronics': 'Manufacturing',\n",
    "                  'Embedded Systems': 'Information Technology (IT)',\n",
    "                  'eMobility': 'Transportation and Tourism',\n",
    "                  'Enterprise Resource Planning (ERP)': 'Information Technology (IT)',\n",
    "                  'Enterprise Software': 'Information Technology (IT)',\n",
    "                  'Entertainment': 'Media and Entertainment',\n",
    "                  'Entreprenurship': 'E-Commerce and Retail',\n",
    "                  'Environment': 'Water and Environment',\n",
    "                  'Environmental Consulting': 'Career and Personal Development',\n",
    "                  'Environmental service': 'Water and Environment',\n",
    "                  'Environmental Services': 'Water and Environment',\n",
    "                  'Equity Management': 'Banking',\n",
    "                  'Escrow': 'E-Commerce and Retail',\n",
    "                  'eSports': 'Healthcare and Fitness',\n",
    "                  'ETech': 'Education',\n",
    "                  'EV': 'Manufacturing',\n",
    "                  'EV startup': 'Manufacturing',\n",
    "                  'Events': 'Events and Hospitality',\n",
    "                  'Eyeglasses': 'Fashion and Beauty',\n",
    "                  'Eyewear': 'Fashion and Beauty',\n",
    "                  'Eye Wear': 'Fashion and Beauty',\n",
    "                  'Eye wear': 'Fashion and Beauty',\n",
    "                  'Facilities Services': 'Career and Personal Development',\n",
    "                  'Facilities Support Services': 'Career and Personal Development',\n",
    "                  'Fantasy Sports': 'Healthcare and Fitness',\n",
    "                  'Fantasy sports': 'Healthcare and Fitness',\n",
    "                  'Farming': 'Agriculture and Food Production',\n",
    "                  'Fashion': 'Fashion and Beauty',\n",
    "                  'Fashion & Lifestyle': 'Fashion and Beauty',\n",
    "                  'Fashion and lifestyle': 'Fashion and Beauty',\n",
    "                  'Fashion startup': 'Fashion and Beauty',\n",
    "                  'Fashion Tech': 'Fashion and Beauty',\n",
    "                  'FemTech': 'Information Technology (IT)',\n",
    "                  'Femtech': 'Information Technology (IT)',\n",
    "                  'Fertility tech': 'Healthcare and Fitness',\n",
    "                  'File Sharing': 'Information Technology (IT)',\n",
    "                  'Finance': 'Banking',\n",
    "                  'Finance company': 'Banking',\n",
    "                  'Financial Services': 'Banking',\n",
    "                  'FinTech': 'Banking',\n",
    "                  'Fintech': 'Banking',\n",
    "                  'Fishery': 'Agriculture and Food Production',\n",
    "                  'Fitness': 'Healthcare and Fitness',\n",
    "                  'Fitness startup': 'Healthcare and Fitness',\n",
    "                  'FM': 'Career and Personal Development',\n",
    "                  'FMCG': 'Manufacturing',\n",
    "                  'Food': 'Agriculture and Food Production',\n",
    "                  'Food & Bevarages': 'Agriculture and Food Production',\n",
    "                  'Food & Beverages': 'Agriculture and Food Production',\n",
    "                  'Food & Logistics': 'Agriculture and Food Production',\n",
    "                  'Food & Nutrition': 'Agriculture and Food Production',\n",
    "                  'Food & Tech': 'Agriculture and Food Production',\n",
    "                  'Food and Beverages': 'Agriculture and Food Production',\n",
    "                  'Food and Beverage': 'Agriculture and Food Production',\n",
    "                  'Food Delivery': 'Agriculture and Food Production',\n",
    "                  'Food delivery': 'Agriculture and Food Production',\n",
    "                  'Food devlivery': 'Agriculture and Food Production',\n",
    "                  'Food diet': 'Agriculture and Food Production',\n",
    "                  'Food Industry': 'Agriculture and Food Production',\n",
    "                  'Food Processing': 'Agriculture and Food Production',\n",
    "                  'Food Production': 'Agriculture and Food Production',\n",
    "                  'Food Startup': 'Agriculture and Food Production',\n",
    "                  'Food Tech': 'Agriculture and Food Production',\n",
    "                  'Food tech': 'Agriculture and Food Production',\n",
    "                  'Food Technology': 'Agriculture and Food Production',\n",
    "                  'FoodTech': 'Agriculture and Food Production',\n",
    "                  'Foodtech': 'Agriculture and Food Production',\n",
    "                  'Foodtech & Logistics': 'Agriculture and Food Production',\n",
    "                  'Foootwear': 'Fashion and Beauty',\n",
    "                  'Fragrance': 'Fashion and Beauty',\n",
    "                  'Fraud Detection': 'Information Technology (IT)',\n",
    "                  'Funding Platform': 'Banking',\n",
    "                  'Furniture': 'Manufacturing',\n",
    "                  'Furniture Rental': 'E-Commerce and Retail',\n",
    "                  'Fusion beverages': 'Agriculture and Food Production',\n",
    "                  'Gaming': 'Media and Entertainment',\n",
    "                  'Games': 'Media and Entertainment',\n",
    "                  'Gaming startup': 'Media and Entertainment',\n",
    "                  'Government': 'Social Development',\n",
    "                  'Graphics': 'Media and Entertainment',\n",
    "                  'Hardware': 'Information Technology (IT)',\n",
    "                  'Health': 'Healthcare and Fitness',\n",
    "                  'Health and Wellness': 'Healthcare and Fitness',\n",
    "                  'Health care': 'Healthcare and Fitness',\n",
    "                  'Health Care': 'Healthcare and Fitness',\n",
    "                  'Health Diagnostics': 'Healthcare and Fitness',\n",
    "                  'Health Insurance': 'Healthcare and Fitness',\n",
    "                  'Health Tech': 'Healthcare and Fitness',\n",
    "                  'Health, Wellness & Fitness': 'Healthcare and Fitness',\n",
    "                  'Healthcare': 'Healthcare and Fitness',\n",
    "                  'Healthcare/Edtech': 'Healthcare and Fitness',\n",
    "                  'HealthTech': 'Healthcare and Fitness',\n",
    "                  'Health and Fitness': 'Healthcare and Fitness',\n",
    "                  'Health & Fitness': 'Healthcare and Fitness',\n",
    "                  'Health & Wellness': 'Healthcare and Fitness',\n",
    "                  'HealthCare': 'Healthcare and Fitness',\n",
    "                  'Healthcare & Fitness': 'Healthcare and Fitness',\n",
    "                  'Healthtech': 'Healthcare and Fitness',\n",
    "                  'Healtcare': 'Healthcare and Fitness',\n",
    "                  'Heathcare': 'Healthcare and Fitness',\n",
    "                  'HeathTech': 'Healthcare and Fitness',\n",
    "                  'Higher Education': 'Education',\n",
    "                  'Home Decor': 'Career and Personal Development',\n",
    "                  'Home Design': 'Career and Personal Development',\n",
    "                  'Home interior services': 'Career and Personal Development',\n",
    "                  'Home services': 'Career and Personal Development',\n",
    "                  'Hospital': 'Healthcare and Fitness',\n",
    "                  'Hospital & Health Care': 'Healthcare and Fitness',\n",
    "                  'Hospitality': 'Events and Hospitality',\n",
    "                  'Housing': 'Real Estate',\n",
    "                  'Housing & Rentals': 'Real Estate',\n",
    "                  'Housing Marketplace': 'Real Estate',\n",
    "                  'HR': 'Career and Personal Development',\n",
    "                  'HR Tech': 'Career and Personal Development',\n",
    "                  'HR tech': 'Career and Personal Development',\n",
    "                  'Hr Tech': 'Career and Personal Development',\n",
    "                  'Human Resources': 'Career and Personal Development',\n",
    "                  'HR Tech startup': 'Career and Personal Development',\n",
    "                  'HrTech': 'Career and Personal Development',\n",
    "                  'HRTech': 'Career and Personal Development',\n",
    "                  'Hygiene': 'Healthcare and Fitness',\n",
    "                  'Hygiene management': 'Healthcare and Fitness',\n",
    "                  'Industrial': 'Manufacturing',\n",
    "                  'Industrial Automation': 'Manufacturing',\n",
    "                  'Information Services': 'Information Technology (IT)',\n",
    "                  'Information Technology': 'Information Technology (IT)',\n",
    "                  'Information Technology & Services': 'Information Technology (IT)',\n",
    "                  'Infratech': 'Information Technology (IT)',\n",
    "                  'Information Technology (IT)': 'Information Technology (IT)',\n",
    "                  'Innovation Management': 'Career and Personal Development',\n",
    "                  'Innovation management': 'Career and Personal Development',\n",
    "                  'InsureTech': 'Banking',\n",
    "                  'Insuretech': 'Banking',\n",
    "                  'Insurance': 'Banking',\n",
    "                  'Insurance Tech': 'Banking',\n",
    "                  'Insurance Technology': 'Banking',\n",
    "                  'Insurance technology': 'Banking',\n",
    "                  'Insurtech': 'Banking',\n",
    "                  'Interior & decor': 'Career and Personal Development',\n",
    "                  'Interior design': 'Career and Personal Development',\n",
    "                  'Interior Design': 'Career and Personal Development',\n",
    "                  'Internet': 'Information Technology (IT)',\n",
    "                  'Internet of Things': 'Information Technology (IT)',\n",
    "                  'Investment': 'Banking',\n",
    "                  'Investment': 'Banking',\n",
    "                  'Investment Banking': 'Banking',\n",
    "                  'Investment Management': 'Banking',\n",
    "                  'Investment Tech': 'Banking',\n",
    "                  'IoT': 'Information Technology (IT)',\n",
    "                  'Iot': 'Information Technology (IT)',\n",
    "                  'IoT/Automobile': 'Information Technology (IT)',\n",
    "                  'IoT platform': 'Information Technology (IT)',\n",
    "                  'IoT startup': 'Information Technology (IT)',\n",
    "                  'IT': 'Information Technology (IT)',\n",
    "                  'IT company': 'Information Technology (IT)',\n",
    "                  'IT startup': 'Information Technology (IT)',\n",
    "                  'Last Mile Transportation': 'Transportation and Tourism',\n",
    "                  'Legal': 'Career and Personal Development',\n",
    "                  'Legal Services': 'Career and Personal Development',\n",
    "                  'LegalTech': 'Career and Personal Development',\n",
    "                  'Legaltech': 'Career and Personal Development',\n",
    "                  'Legal Tech': 'Career and Personal Development',\n",
    "                  'Legal tech': 'Career and Personal Development',\n",
    "                  'Life sciences': 'Education',\n",
    "                  'Jewellery': 'Fashion and Beauty',\n",
    "                  'Jewellery startup': 'Fashion and Beauty',\n",
    "                  'Job discovery platform': 'Media and Entertainment',\n",
    "                  'Job portal': 'Information Technology (IT)',\n",
    "                  'Lifestyle': 'Career and Personal Development',\n",
    "                  'Linguistic Spiritual': 'Career and Personal Development',\n",
    "                  'Location Analytics': 'Information Technology (IT)',\n",
    "                  'Logitech': 'AI and Tech',\n",
    "                  'Logistics': 'Transportation and Tourism',\n",
    "                  'Logistics & Supply Chain': 'Transportation and Tourism',\n",
    "                  'Luxury car startup': 'Transportation and Tourism',\n",
    "                  'Machine Learning': 'Information Technology (IT)',\n",
    "                  'Management Consulting': 'Career and Personal Development',\n",
    "                  'Manufacturing startup': 'Manufacturing',\n",
    "                  'Market Research': 'E-Commerce and Retail',\n",
    "                  'Marketplace': 'E-Commerce and Retail',\n",
    "                  'Marketing': 'E-Commerce and Retail',\n",
    "                  'Marketing & Advertising': 'E-Commerce and Retail',\n",
    "                  'Marketing & Customer Loyalty': 'E-Commerce and Retail',\n",
    "                  'Marketing company': 'E-Commerce and Retail',\n",
    "                  'Marketing startup': 'E-Commerce and Retail',\n",
    "                  'Maritime': 'Transportation and Tourism',\n",
    "                  'MarTech': 'Information Technology (IT)',\n",
    "                  'Matrimony': 'Career and Personal Development',\n",
    "                  'Mechanical & Industrial Engineering': 'Career and Personal Development',\n",
    "                  'Mechanical Or Industrial Engineering': 'Career and Personal Development',\n",
    "                  'Mechanical and Industrial Engineering': 'Career and Personal Development',\n",
    "                  'Med Tech': 'Healthcare and Fitness',\n",
    "                  'Media': 'Media and Entertainment',\n",
    "                  'Media & Networking': 'Media and Entertainment',\n",
    "                  'Media Tech': 'Healthcare and Fitness',\n",
    "                  'Medical': 'Healthcare and Fitness',\n",
    "                  'Medical Device': 'Healthcare and Fitness',\n",
    "                  'Medical Devices': 'Healthcare and Fitness',\n",
    "                  'Medical technology': 'Healthcare and Fitness',\n",
    "                  'Medicine': 'Healthcare and Fitness',\n",
    "                  'Medtech': 'Healthcare and Fitness',\n",
    "                  'Menstrual hygiene': 'Healthcare and Fitness',\n",
    "                  'Mental Health': 'Healthcare and Fitness',\n",
    "                  'Mental Health Tech': 'Healthcare and Fitness',\n",
    "                  'Merchandise': 'E-Commerce and Retail',\n",
    "                  'Microfinance': 'Banking',\n",
    "                  'Micro-mobiity': 'Manufacturing',\n",
    "                  'Milk startup': 'Agriculture and Food Production',\n",
    "                  'MLOps platform': 'Information Technology (IT)',\n",
    "                  'Mobile': 'Information Technology (IT)',\n",
    "                  'Mobile App': 'Media and Entertainment',\n",
    "                  'Mobile Payments': 'Banking',\n",
    "                  'Mobile Development': 'Media and Entertainment',\n",
    "                  'Mobile Games': 'Media and Entertainment',\n",
    "                  'Mobile Tech': 'Media and Entertainment',\n",
    "                  'Mobile Technology': 'Media and Entertainment',\n",
    "                  'Mobility': 'Transportation and Tourism',\n",
    "                  'Mobility Solutions': 'Transportation and Tourism',\n",
    "                  'Mobility tech': 'Transportation and Tourism',\n",
    "                  'Mobility/Transport': 'Transportation and Tourism',\n",
    "                  'Multinational conglomerate company': 'Multinational Conglomerate Company',\n",
    "                  'Music': 'Media and Entertainment',\n",
    "                  'Music Streaming': 'Media and Entertainment',\n",
    "                  'Mutual Funds': 'Banking',\n",
    "                  'Nano Tech': 'Information Technology (IT)',\n",
    "                  'Nanotechnology': 'Information Technology (IT)',\n",
    "                  'Nano Distribution Network': 'Multinational Conglomerate Company',\n",
    "                  'Natural Language Processing': 'Information Technology (IT)',\n",
    "                  'Natural Resources': 'Water and Environment',\n",
    "                  'Natural Sciences': 'Education',\n",
    "                  'Neo-banking': 'Banking',\n",
    "                  'Networking': 'Social Development',\n",
    "                  'Networking platform': 'Media and Entertainment',\n",
    "                  'Neuroscience': 'Information Technology (IT)',\n",
    "                  'News': 'Information Technology (IT)',\n",
    "                  'NFT': 'Blockchain',\n",
    "                  'NFT Marketplace': 'Blockchain',\n",
    "                  'NFT marketplace': 'Blockchain',\n",
    "                  'Nutrition': 'Agriculture and Food Production',\n",
    "                  'Nutrition sector': 'Agriculture and Food Production',\n",
    "                  'Nutrition tech': 'Agriculture and Food Production',\n",
    "                  'Nutrition Tech': 'Agriculture and Food Production',\n",
    "                  'Oil & Energy': 'Energy',\n",
    "                  'Oil and Energy': 'Energy',\n",
    "                  'Online credit management startup': 'Banking',\n",
    "                  'Online Education': 'Information Technology (IT)',\n",
    "                  'Online financial service': 'Banking',\n",
    "                  'Online Games': 'Media and Entertainment',\n",
    "                  'Online Gaming': 'Media and Entertainment',\n",
    "                  'Online Grocery': 'E-Commerce and Retail',\n",
    "                  'Online Learning': 'Education',\n",
    "                  'Online Marketplace': 'E-Commerce and Retail',\n",
    "                  'Online Media': 'Media and Entertainment',\n",
    "                  ' Online Media': 'Media and Entertainment',\n",
    "                  'Online media': 'Media and Entertainment',\n",
    "                  'Online Payments': 'Banking',\n",
    "                  'Online Portals': 'Information Technology (IT)',\n",
    "                  'Online Retail': 'E-Commerce and Retail',\n",
    "                  'Online Services': 'E-Commerce and Retail',\n",
    "                  'Online Shopping': 'E-Commerce and Retail',\n",
    "                  'Online storytelling': 'Career and Personal Development',\n",
    "                  'Online Travel': 'Transportation and Tourism',\n",
    "                  'Outsourcing/Offshoring': 'Career and Personal Development',\n",
    "                  'OTT': 'Media and Entertainment',\n",
    "                  'PaaS startup': 'Information Technology (IT)',\n",
    "                  'PaaS startup': 'Information Technology (IT)',\n",
    "                  'Packaging': 'Manufacturing',\n",
    "                  'Packaging Services': 'Manufacturing',\n",
    "                  'Packaging solution startup': 'Manufacturing',\n",
    "                  'Payment': 'Banking',\n",
    "                  'Payment Gateway': 'Banking',\n",
    "                  'Payment Solutions': 'Banking',\n",
    "                  'Personal Care': 'Healthcare and Fitness',\n",
    "                  'Personal care startup': 'Healthcare and Fitness',\n",
    "                  'Pet care': 'Career and Personal Development',\n",
    "                  'Pharmaceutical': 'Healthcare and Fitness',\n",
    "                  'Pharma': 'Healthcare and Fitness',\n",
    "                  'Pharmacy': 'Healthcare and Fitness',\n",
    "                  'Photonics startup': 'Information Technology (IT)',\n",
    "                  'Personal Finance': 'Banking',\n",
    "                  'Pharmaceuticals': 'Healthcare and Fitness',\n",
    "                  'Photography': 'Career and Personal Development',\n",
    "                  'Plastic Surgery': 'Healthcare and Fitness',\n",
    "                  'Platform': 'Media and Entertainment',\n",
    "                  'Platform as a Service (PaaS)': 'Media and Entertainment',\n",
    "                  'Podcast': 'Media and Entertainment',\n",
    "                  'Pollution control equiptment': 'Water and Environment',\n",
    "                  'Political Organization': 'Social Development',\n",
    "                  'Preschool Daycare': 'Education',\n",
    "                  'Productivity': 'Career and Personal Development',\n",
    "                  'Product studio': 'Information Technology (IT)',\n",
    "                  'Professional Training & Coaching': 'Career and Personal Development',\n",
    "                  'Professional Services': 'Career and Personal Development',\n",
    "                  'Property Management': 'Career and Personal Development',\n",
    "                  'Proptech': 'Career and Personal Development',\n",
    "                  'Publication': 'Information Technology (IT)',\n",
    "                  'Public Relations': 'Social Development',\n",
    "                  'Public Services': 'E-Commerce and Retail',\n",
    "                  'Publishing': 'E-Commerce and Retail',\n",
    "                  'QR Code': 'Information Technology (IT)',\n",
    "                  'QSR startup': 'E-Commerce and Retail',\n",
    "                  'Reading Apps': 'Media and Entertainment',\n",
    "                  'Real estate': 'Real Estate',\n",
    "                  'Real Estate Tech': 'Real Estate',\n",
    "                  'Recruitment': 'Career and Personal Development',\n",
    "                  'Recruitment platform': 'Career and Personal Development',\n",
    "                  'Recruitment Services': 'Career and Personal Development',\n",
    "                  'Recruitment startup': 'Career and Personal Development',\n",
    "                  'Recycling': 'Water and Environment',\n",
    "                  'Renewable Energy': 'Energy',\n",
    "                  'Renewables player': 'Energy',\n",
    "                  'Renewable player': 'Energy',\n",
    "                  'Renewables & Environment': 'Energy',\n",
    "                  'Rental': 'E-Commerce and Retail',\n",
    "                  'Rental space': 'E-Commerce and Retail',\n",
    "                  'Retail': 'E-Commerce and Retail',\n",
    "                  'Retail Aggregator': 'E-Commerce and Retail',\n",
    "                  'Retail startup': 'E-Commerce and Retail',\n",
    "                  'Reatil startup': 'E-Commerce and Retail',\n",
    "                  'Retail Tech': 'Information Technology (IT)',\n",
    "                  'Retail Technology': 'Information Technology (IT)',\n",
    "                  'Ride-hailing': 'E-Commerce and Retail',\n",
    "                  'Robotics': 'Information Technology (IT)',\n",
    "                  'Robotics & Ai': 'Information Technology (IT)',\n",
    "                  'Saas': 'Information Technology (IT)',\n",
    "                  'saas': 'Information Technology (IT)',\n",
    "                  'SaaS': 'Information Technology (IT)',\n",
    "                  'SaaS B2B': 'Information Technology (IT)',\n",
    "                  'SaaS-based platform': 'Information Technology (IT)',\n",
    "                  'SaaS Platform': 'Information Technology (IT)',\n",
    "                  'SaaS platform': 'Information Technology (IT)',\n",
    "                  'SaaS Startup': 'Information Technology (IT)',\n",
    "                  'SaaS startup': 'Information Technology (IT)',\n",
    "                  'SaaS/Edtech': 'Information Technology (IT)',\n",
    "                  'SaaS\\xa0\\xa0startup': 'Information Technology (IT)',\n",
    "                  'Safety Tech': 'Information Technology (IT)',\n",
    "                  'Sales & Marketing': 'E-Commerce and Retail',\n",
    "                  'Sales and Marketing': 'E-Commerce and Retail',\n",
    "                  'Salesforce': 'E-Commerce and Retail',\n",
    "                  'Scanning app': 'Information Technology (IT)',\n",
    "                  'Search Engine': 'Information Technology (IT)',\n",
    "                  'Service industry': 'Career and Personal Development',\n",
    "                  'Sales and Distribution': 'E-Commerce and Retail',\n",
    "                  'Sales & Services': 'E-Commerce and Retail',\n",
    "                  'Sles and marketing': 'E-Commerce and Retail',\n",
    "                  'Sles and Marketing': 'E-Commerce and Retail',\n",
    "                  'Sanitation solutions': 'Water and Environment',\n",
    "                  'Security': 'Defense',\n",
    "                  'Security Solutions': 'Defense',\n",
    "                  'Self-Driving Cars': 'Manufacturing',\n",
    "                  'Self-Improvement': 'Career and Personal Development',\n",
    "                  'Semiconductor': 'Manufacturing',\n",
    "                  'Sharing Economy': 'Social Development',\n",
    "                  'Shipping': 'Transportation and Tourism',\n",
    "                  'Shipping Tech': 'Transportation and Tourism',\n",
    "                  'Shoes': 'Manufacturing',\n",
    "                  'Skill development': 'Career and Personal Development',\n",
    "                  'Skincare startup': 'Fashion and Beauty',\n",
    "                  'Smart Cities': 'Information Technology (IT)',\n",
    "                  'Social audio': 'Media and Entertainment',\n",
    "                  'Social Commerce': 'E-Commerce and Retail',\n",
    "                  'Social commerce': 'E-Commerce and Retail',\n",
    "                  'Social community': 'Social Development',\n",
    "                  'Social e-commerce': 'E-Commerce and Retail',\n",
    "                  'Social Impact': 'Social Development',\n",
    "                  'Social Media': 'Media and Entertainment',\n",
    "                  'Social media': 'Media and Entertainment',\n",
    "                  'Social Media Marketing': 'E-Commerce and Retail',\n",
    "                  'Social Network': 'Media and Entertainment',\n",
    "                  'Social network': 'Media and Entertainment',\n",
    "                  'Social platform': 'Media and Entertainment',\n",
    "                  'Spiritual': 'Career and Personal Development',\n",
    "                  'Spacetech': 'Information Technology (IT)',\n",
    "                  'Social Networking': 'Media and Entertainment',\n",
    "                  'Software': 'Information Technology (IT)',\n",
    "                  'Software as a Service (SaaS)': 'Information Technology (IT)',\n",
    "                  'Software company': 'Information Technology (IT)',\n",
    "                  'Software Company': 'Information Technology (IT)',\n",
    "                  'Software Development': 'Information Technology (IT)',\n",
    "                  'Software Engineering': 'Career and Personal Development',\n",
    "                  'Software Solutions': 'Information Technology (IT)',\n",
    "                  'Software Startup': 'Information Technology (IT)',\n",
    "                  'Soil-Tech': 'Information Technology (IT)',\n",
    "                  'Solar': 'Energy',\n",
    "                  'Solar Energy': 'Energy',\n",
    "                  'Solar Monitoring Company': 'Energy',\n",
    "                  'Solar SaaS': 'Energy',\n",
    "                  'Solar Solution': 'Energy',\n",
    "                  'Solar solution': 'Energy',\n",
    "                  'Space Tech': 'Information Technology (IT)',\n",
    "                  'SpaceTech': 'Information Technology (IT)',\n",
    "                  'Sports': 'Healthcare and Fitness',\n",
    "                  'sports': 'Healthcare and Fitness',\n",
    "                  'Sports startup': 'Healthcare and Fitness',\n",
    "                  'SportsTech': 'Healthcare and Fitness',\n",
    "                  'Sports Tech': 'Healthcare and Fitness',\n",
    "                  'Staffing & Recruiting': 'Career and Personal Development',\n",
    "                  'Startup': 'N/A',\n",
    "                  'Startup laboratory': 'Healthcare and Fitness',\n",
    "                  'Startup Studio': 'Media and Entertainment',\n",
    "                  'Stationery': 'Manufacturing',\n",
    "                  'Student Housing': 'Real Estate',\n",
    "                  'Supply Chain': 'Transportation and Tourism',\n",
    "                  'Supply chain, Agritech': 'Transportation and Tourism',\n",
    "                  'Supply chain platform': 'Transportation and Tourism',\n",
    "                  'Supply Chain Management': 'Transportation and Tourism',\n",
    "                  'Supply Chain Solutions': 'Transportation and Tourism',\n",
    "                  'Sustainable Development': 'Social Development',\n",
    "                  'TaaS startup': 'Career and Personal Development',\n",
    "                  'Taxation': 'Social Development',\n",
    "                  'Tech': 'Information Technology (IT)',\n",
    "                  'Tech company': 'Information Technology (IT)',\n",
    "                  'Tech Hub': 'Information Technology (IT)',\n",
    "                  'Tech hub': 'Information Technology (IT)',\n",
    "                  'Tech Platform': 'Information Technology (IT)',\n",
    "                  'Tech platform': 'Information Technology (IT)',\n",
    "                  'Tech Startup': 'Information Technology (IT)',\n",
    "                  'Tech startup': 'Information Technology (IT)',\n",
    "                  'Technology': 'Information Technology (IT)',\n",
    "                  'Techonology': 'Information Technology (IT)',\n",
    "                  'Telecommunication': 'Information Technology (IT)',\n",
    "                  'Telecommuncation': 'Information Technology (IT)',\n",
    "                  'Telecommunications': 'Information Technology (IT)',\n",
    "                  'Textile': 'Manufacturing',\n",
    "                  'Textiles': 'Manufacturing',\n",
    "                  'Tyre management': 'Manufacturing',\n",
    "                  'Ticketing': 'E-Commerce and Retail',\n",
    "                  'Tobacco': 'Agriculture and Food Production',\n",
    "                  'Tourism': 'Transportation and Tourism',\n",
    "                  'Tourism & EV': 'Transportation and Tourism',\n",
    "                  'Toy': 'Manufacturing',\n",
    "                  'Training': 'Career and Personal Development',\n",
    "                  'Trading': 'E-Commerce and Retail',\n",
    "                  'Trading Platform': 'E-Commerce and Retail',\n",
    "                  'Trading platform': 'E-Commerce and Retail',\n",
    "                  'Translation & Localization': 'Career and Personal Development',\n",
    "                  'Transport': 'Transportation and Tourism',\n",
    "                  'Transport Automation': 'Transportation and Tourism',\n",
    "                  'Travel Tech': 'Transportation and Tourism',\n",
    "                  'Travel tech': 'Transportation and Tourism',\n",
    "                  'Travel & SaaS': 'Transportation and Tourism',\n",
    "                  'TravelTech': 'Transportation and Tourism',\n",
    "                  'Transportation': 'Transportation and Tourism',\n",
    "                  'Transportation & Tourism': 'Transportation and Tourism',\n",
    "                  'Transportation Tech': 'Transportation and Tourism',\n",
    "                  'Travel': 'Transportation and Tourism',\n",
    "                  'Transport & Rentals': 'Transportation and Tourism',\n",
    "                  'Travel & Tourism': 'Transportation and Tourism',\n",
    "                  'Travel and Tourism': 'Transportation and Tourism',\n",
    "                  'UI/UX Design': 'Information Technology (IT)',\n",
    "                  'Vehicle repair startup': 'Transportation and Tourism',\n",
    "                  'Venture Capital': 'Banking',\n",
    "                  'Venture capital': 'Banking',\n",
    "                  'Venture capitalist': 'Banking',\n",
    "                  'Venture Capital & Private Equity': 'Banking',\n",
    "                  'Veterinary': 'Agriculture and Food Production',\n",
    "                  'Video': 'Media and Entertainment',\n",
    "                  'Video communication': 'Media and Entertainment',\n",
    "                  'Video Games': 'Media and Entertainment',\n",
    "                  'Video personalization': 'Media and Entertainment',\n",
    "                  'Video platform': 'Media and Entertainment',\n",
    "                  'Video Production': 'Media and Entertainment',\n",
    "                  'Video sharing platform': 'Media and Entertainment',\n",
    "                  'Video streaming platform': 'Media and Entertainment',\n",
    "                  'Visual Media': 'Media and Entertainment',\n",
    "                  'Virtual auditing startup': 'Banking',\n",
    "                  'Virtual Banking': 'Banking',\n",
    "                  'Virtual Reality': 'Information Technology (IT)',\n",
    "                  'VR': 'Information Technology (IT)',\n",
    "                  'VR & SaaS': 'Information Technology (IT)',\n",
    "                  'VR/AR': 'Information Technology (IT)',\n",
    "                  'Warehouse': 'E-Commerce and Retail',\n",
    "                  'Waste Management': 'Water and Environment',\n",
    "                  'Water': 'Water and Environment',\n",
    "                  'Water purification': 'Water and Environment',\n",
    "                  'Wealth Management': 'Banking',\n",
    "                  'Wearable Tech': 'Information Technology (IT)',\n",
    "                  'Wearable Technology': 'Information Technology (IT)',\n",
    "                  'Wedding': 'Events and Hospitality',\n",
    "                  'Web Design': 'Information Technology (IT)',\n",
    "                  'Web Development': 'Information Technology (IT)',\n",
    "                  'Wellness': 'Healthcare and Fitness',\n",
    "                  'Wellness and Fitness': 'Healthcare and Fitness',\n",
    "                  'Wholesale': 'E-Commerce and Retail',\n",
    "                  'Wine & Spirits': 'Manufacturing',\n",
    "                  'Wireless': 'Information Technology (IT)',\n",
    "                  'WL & RAC protection': 'Transportation and Tourism',\n",
    "                  \"Women's Health\": 'Healthcare and Fitness',\n",
    "                  'Workforce Development': 'Career and Personal Development',\n",
    "                  'Work fulfillment': 'Career and Personal Development',\n",
    "                  'Workplace Safety': 'Career and Personal Development',\n",
    "                  'Writing and Editing': 'Career and Personal Development',\n",
    "                  'Yoga': 'Healthcare and Fitness',\n",
    "                  'Yoga & Wellness': 'Healthcare and Fitness',\n",
    "                  'Yoga & wellness': 'Healthcare and Fitness',\n",
    "                  'Youth Development': 'Career and Personal Development'\n",
    "                 }\n",
    "    \n"
   ]
  },
  {
   "cell_type": "markdown",
   "id": "2ffd0afb",
   "metadata": {},
   "source": [
    "Startup does not indicate any specific sector, so it is mapped to N/A."
   ]
  },
  {
   "cell_type": "code",
   "execution_count": null,
   "id": "fef26f4c",
   "metadata": {
    "scrolled": false
   },
   "outputs": [
    {
     "ename": "",
     "evalue": "",
     "output_type": "error",
     "traceback": [
      "\u001b[1;31mFailed to start the Kernel. \n",
      "\u001b[1;31mUnable to start Kernel 'Python 3.10.11' due to connection timeout. \n",
      "\u001b[1;31mView Jupyter <a href='command:jupyter.viewOutput'>log</a> for further details."
     ]
    }
   ],
   "source": [
    "# Replacing the sectors in the dictionary with a better common name, and when a sector is not found in the dictionary,\n",
    "# the sector itself is returned.\n",
    "\n",
    "df[\"Sector\"] = [sector_mapping.get(sector, sector) for sector in df[\"Sector\"]]\n",
    "df[\"Sector\"].unique()"
   ]
  },
  {
   "cell_type": "code",
   "execution_count": null,
   "id": "04265d61",
   "metadata": {},
   "outputs": [
    {
     "ename": "",
     "evalue": "",
     "output_type": "error",
     "traceback": [
      "\u001b[1;31mFailed to start the Kernel. \n",
      "\u001b[1;31mUnable to start Kernel 'Python 3.10.11' due to connection timeout. \n",
      "\u001b[1;31mView Jupyter <a href='command:jupyter.viewOutput'>log</a> for further details."
     ]
    }
   ],
   "source": [
    "# Replacing 'Banking' with 'Banking and Financial Services'\n",
    "\n",
    "df[\"Sector\"] = df[\"Sector\"].replace('Banking', 'Banking and Financial Services', regex=True)\n",
    "df[\"Sector\"].unique()"
   ]
  },
  {
   "cell_type": "code",
   "execution_count": null,
   "id": "2b062843",
   "metadata": {},
   "outputs": [
    {
     "ename": "",
     "evalue": "",
     "output_type": "error",
     "traceback": [
      "\u001b[1;31mFailed to start the Kernel. \n",
      "\u001b[1;31mUnable to start Kernel 'Python 3.10.11' due to connection timeout. \n",
      "\u001b[1;31mView Jupyter <a href='command:jupyter.viewOutput'>log</a> for further details."
     ]
    }
   ],
   "source": [
    "# Replacing 'Career and Personal Development' with 'Career, Special Duties and Personal Development'\n",
    "\n",
    "df[\"Sector\"] = df[\"Sector\"].replace('Career and Personal Development', 'Career, Special Duties and Personal Development', regex=True)\n",
    "df[\"Sector\"].unique()"
   ]
  },
  {
   "cell_type": "code",
   "execution_count": null,
   "id": "1efd5ee4",
   "metadata": {},
   "outputs": [
    {
     "ename": "",
     "evalue": "",
     "output_type": "error",
     "traceback": [
      "\u001b[1;31mFailed to start the Kernel. \n",
      "\u001b[1;31mUnable to start Kernel 'Python 3.10.11' due to connection timeout. \n",
      "\u001b[1;31mView Jupyter <a href='command:jupyter.viewOutput'>log</a> for further details."
     ]
    }
   ],
   "source": [
    "# Replacing 'AI and Tech' with Information Technology (IT)'\n",
    "\n",
    "df[\"Sector\"] = df[\"Sector\"].replace('AI and Tech', 'Information Technology (IT)', regex=True)\n",
    "df[\"Sector\"].unique()"
   ]
  },
  {
   "cell_type": "code",
   "execution_count": null,
   "id": "f44631aa",
   "metadata": {},
   "outputs": [
    {
     "ename": "",
     "evalue": "",
     "output_type": "error",
     "traceback": [
      "\u001b[1;31mFailed to start the Kernel. \n",
      "\u001b[1;31mUnable to start Kernel 'Python 3.10.11' due to connection timeout. \n",
      "\u001b[1;31mView Jupyter <a href='command:jupyter.viewOutput'>log</a> for further details."
     ]
    }
   ],
   "source": [
    "# Replacing 'Transportation & Tourism' with 'Transportation and Tourism'\n",
    "\n",
    "df[\"Sector\"] = df[\"Sector\"].replace('Transportation & Tourism', 'Transportation and Tourism', regex=True)\n",
    "df[\"Sector\"].unique()"
   ]
  },
  {
   "cell_type": "code",
   "execution_count": null,
   "id": "6f440e4d",
   "metadata": {},
   "outputs": [
    {
     "ename": "",
     "evalue": "",
     "output_type": "error",
     "traceback": [
      "\u001b[1;31mFailed to start the Kernel. \n",
      "\u001b[1;31mUnable to start Kernel 'Python 3.10.11' due to connection timeout. \n",
      "\u001b[1;31mView Jupyter <a href='command:jupyter.viewOutput'>log</a> for further details."
     ]
    }
   ],
   "source": [
    "# Replacing 'Health & Fitness' and 'Healthcare & Fitness' with 'Career, 'Healthcare and Fitness'\n",
    "\n",
    "df[\"Sector\"] = df[\"Sector\"].replace(['Health & Fitness', 'Healthcare & Fitness'], 'Healthcare and Fitness', regex=True)\n",
    "df[\"Sector\"].unique()"
   ]
  },
  {
   "cell_type": "code",
   "execution_count": null,
   "id": "05141b70",
   "metadata": {},
   "outputs": [
    {
     "ename": "",
     "evalue": "",
     "output_type": "error",
     "traceback": [
      "\u001b[1;31mFailed to start the Kernel. \n",
      "\u001b[1;31mUnable to start Kernel 'Python 3.10.11' due to connection timeout. \n",
      "\u001b[1;31mView Jupyter <a href='command:jupyter.viewOutput'>log</a> for further details."
     ]
    }
   ],
   "source": [
    "# Inspecting the \"Amount($)\" column thoroughly\n",
    "\n",
    "df[\"Amount($)\"].unique()"
   ]
  },
  {
   "cell_type": "code",
   "execution_count": null,
   "id": "78db577f",
   "metadata": {},
   "outputs": [
    {
     "ename": "",
     "evalue": "",
     "output_type": "error",
     "traceback": [
      "\u001b[1;31mFailed to start the Kernel. \n",
      "\u001b[1;31mUnable to start Kernel 'Python 3.10.11' due to connection timeout. \n",
      "\u001b[1;31mView Jupyter <a href='command:jupyter.viewOutput'>log</a> for further details."
     ]
    }
   ],
   "source": [
    "# Evaluating the \"Amount($)\" column\n",
    "\n",
    "df[\"Amount($)\"].describe()"
   ]
  },
  {
   "cell_type": "code",
   "execution_count": null,
   "id": "f5a6c519",
   "metadata": {},
   "outputs": [
    {
     "ename": "",
     "evalue": "",
     "output_type": "error",
     "traceback": [
      "\u001b[1;31mFailed to start the Kernel. \n",
      "\u001b[1;31mUnable to start Kernel 'Python 3.10.11' due to connection timeout. \n",
      "\u001b[1;31mView Jupyter <a href='command:jupyter.viewOutput'>log</a> for further details."
     ]
    }
   ],
   "source": [
    "# Saving the cleaned dataset into a new csv file\n",
    "\n",
    "df.to_csv('cleaned_dataset.csv', index = False)\n",
    "\n",
    "# Viewing the saved dataset to confirm it's accurate\n",
    "data = pd.read_csv('cleaned_dataset.csv')\n",
    "data.head()"
   ]
  },
  {
   "cell_type": "markdown",
   "id": "4777b2cd",
   "metadata": {},
   "source": [
    "# Hypothesis Testing\n",
    "\n",
    "Null hypothesis: The sector a start-up belongs to did not influence the funding amount the start-up received.\n",
    "\n",
    "Alternate hypothesis: The sector a start-up belongs to influenced the funding amount the start-up received.\n",
    "\n",
    "The hypothesis was tested using Analysis of Variance (ANOVA)."
   ]
  },
  {
   "cell_type": "code",
   "execution_count": null,
   "id": "a7623159",
   "metadata": {},
   "outputs": [
    {
     "ename": "",
     "evalue": "",
     "output_type": "error",
     "traceback": [
      "\u001b[1;31mFailed to start the Kernel. \n",
      "\u001b[1;31mUnable to start Kernel 'Python 3.10.11' due to connection timeout. \n",
      "\u001b[1;31mView Jupyter <a href='command:jupyter.viewOutput'>log</a> for further details."
     ]
    }
   ],
   "source": [
    "# Creating a DataFrame with sector and funding amount data\n",
    "hypothesis_data = {\n",
    "    \"Sector\": df[\"Sector\"],\n",
    "    \"Amount($)\": df[\"Amount($)\"]\n",
    "}\n",
    "hypothesis_data_df = pd.DataFrame(hypothesis_data)\n",
    "\n",
    "# Performing ANOVA test\n",
    "grouped_data = df.groupby(\"Sector\")[\"Amount($)\"]\n",
    "grouped_arrays = [np.array(group) for _, group in grouped_data]\n",
    "\n",
    "f_statistic, p_value = stats.f_oneway(*grouped_arrays)\n",
    "\n",
    "# Printing the results\n",
    "print(\"F-Statistic:\", f_statistic)\n",
    "print(\"p-value:\", p_value)\n",
    "\n",
    "# Checking if the null hypothesis is rejected or not\n",
    "alpha = 0.05  # Significance level\n",
    "if p_value < alpha:\n",
    "    print(\"Reject the null hypothesis.\")\n",
    "else:\n",
    "    print(\"Fail to reject the null hypothesis.\")"
   ]
  },
  {
   "cell_type": "markdown",
   "id": "ef91a33f",
   "metadata": {},
   "source": [
    "Since the p-value (0.9997970614101779) is greater than the Significance level (0.05), we fail to reject the null hypothesis. This implies that the null hypothesis is correct."
   ]
  },
  {
   "cell_type": "markdown",
   "id": "24718d50",
   "metadata": {},
   "source": [
    "# Answering Questions with visualizations"
   ]
  },
  {
   "cell_type": "code",
   "execution_count": null,
   "id": "233b113a",
   "metadata": {},
   "outputs": [
    {
     "ename": "",
     "evalue": "",
     "output_type": "error",
     "traceback": [
      "\u001b[1;31mFailed to start the Kernel. \n",
      "\u001b[1;31mUnable to start Kernel 'Python 3.10.11' due to connection timeout. \n",
      "\u001b[1;31mView Jupyter <a href='command:jupyter.viewOutput'>log</a> for further details."
     ]
    }
   ],
   "source": [
    "df"
   ]
  },
  {
   "cell_type": "markdown",
   "id": "e9b48747",
   "metadata": {},
   "source": [
    "# Questions\n",
    "\n",
    "1. How many start-ups got funded each year?\n",
    "2. What is the total funding amount received by start-ups each year?\n",
    "3. Which ten start-ups received the most funding?\n",
    "4. Which ten start-ups received the least funding?\n",
    "5. Which ten sectors received the most funding?\n",
    "6. Which ten sectors received the least funding?\n",
    "7. Which ten headquarters received the most funding?\n",
    "8. Which ten headquarters received the least funding?\n",
    "9. What is the trend of funding received by start-ups in the top 5 headquarters from 2018 to 2021?\n",
    "\n",
    "The first eight questions were based on univariate analysis which refers to the analysis of one variable in a dataset. But the last question is based on multivariate analysis which is the analysis of several variables in a dataset."
   ]
  },
  {
   "cell_type": "markdown",
   "id": "5b576d88",
   "metadata": {},
   "source": [
    "# Question 1: How many start-ups got funded each year?"
   ]
  },
  {
   "cell_type": "code",
   "execution_count": null,
   "id": "bbc1736d",
   "metadata": {},
   "outputs": [
    {
     "ename": "",
     "evalue": "",
     "output_type": "error",
     "traceback": [
      "\u001b[1;31mFailed to start the Kernel. \n",
      "\u001b[1;31mUnable to start Kernel 'Python 3.10.11' due to connection timeout. \n",
      "\u001b[1;31mView Jupyter <a href='command:jupyter.viewOutput'>log</a> for further details."
     ]
    }
   ],
   "source": [
    "# Using value_counts to calculate the number of funding received each year\n",
    "\n",
    "Number_of_funding_each_year = df[\"Funding Year\"].value_counts()\n",
    "Number_of_funding_each_year"
   ]
  },
  {
   "cell_type": "code",
   "execution_count": null,
   "id": "edc92d05",
   "metadata": {},
   "outputs": [
    {
     "ename": "",
     "evalue": "",
     "output_type": "error",
     "traceback": [
      "\u001b[1;31mFailed to start the Kernel. \n",
      "\u001b[1;31mUnable to start Kernel 'Python 3.10.11' due to connection timeout. \n",
      "\u001b[1;31mView Jupyter <a href='command:jupyter.viewOutput'>log</a> for further details."
     ]
    }
   ],
   "source": [
    "# Creating a bar chart to illustrate the number of start-ups that got funded each year\n",
    "\n",
    "# Funding_Year_Chart = sns.barplot(x = Number_of_funding_each_year.index, y = Number_of_funding_each_year.values);\n",
    "# Funding_Year_Chart.set(xlabel = \"Funding Year\", ylabel = \"Number of funding each year\", title = \"Number Of Start-Ups That Got Funded Each Year\");\n",
    "\n",
    "# Set the figure background color to light blue\n",
    "# fig, ax = plt.subplots(facecolor='lightblue')\n",
    "\n",
    "# Set the color palette\n",
    "sns.set_palette('Blues')\n",
    "\n",
    "# Create a countplot\n",
    "sns.countplot(x=\"Funding Year\", data=df)\n",
    "\n",
    "# Set labels and title\n",
    "plt.xlabel(\"Funding Year\")\n",
    "plt.ylabel(\"Number of funding each year\")\n",
    "plt.title(\"Number Of Start-Ups That Got Funded Each Year\")\n",
    "\n",
    "# Save the chart as an image file\n",
    "plt.savefig(\"Number Of Start-Ups That Got Funded Each Year.png\")\n",
    "\n",
    "# Show the plot\n",
    "plt.show()"
   ]
  },
  {
   "cell_type": "markdown",
   "id": "6cc77ae5",
   "metadata": {},
   "source": [
    "In 2018, 525 start-ups received funding. This number declined to 89 in 2019, which is the year with the lowest number of start-ups receiving funding. There was a sharp rise to 1048 in 2020. The number increased further to 1178 in 2021, which is the year with the highest number of start-ups receiving funding."
   ]
  },
  {
   "cell_type": "markdown",
   "id": "ccf9caab",
   "metadata": {},
   "source": [
    "# Question 2: What is the total funding amount received each year?"
   ]
  },
  {
   "cell_type": "code",
   "execution_count": null,
   "id": "900e37e8",
   "metadata": {},
   "outputs": [
    {
     "ename": "",
     "evalue": "",
     "output_type": "error",
     "traceback": [
      "\u001b[1;31mFailed to start the Kernel. \n",
      "\u001b[1;31mUnable to start Kernel 'Python 3.10.11' due to connection timeout. \n",
      "\u001b[1;31mView Jupyter <a href='command:jupyter.viewOutput'>log</a> for further details."
     ]
    }
   ],
   "source": [
    "# Using groupby to calculate the amount of funding received each year\n",
    "\n",
    "Total_funding_each_year = df.groupby([\"Funding Year\"]).sum(numeric_only=True).reset_index()\n",
    "Total_funding_each_year"
   ]
  },
  {
   "cell_type": "code",
   "execution_count": null,
   "id": "1f378450",
   "metadata": {},
   "outputs": [
    {
     "ename": "",
     "evalue": "",
     "output_type": "error",
     "traceback": [
      "\u001b[1;31mFailed to start the Kernel. \n",
      "\u001b[1;31mUnable to start Kernel 'Python 3.10.11' due to connection timeout. \n",
      "\u001b[1;31mView Jupyter <a href='command:jupyter.viewOutput'>log</a> for further details."
     ]
    }
   ],
   "source": [
    "# Creating a bar chart to illustrate the total funding amount each year\n",
    "\n",
    "# Funding_Amount_Chart = sns.barplot(x = Total_funding_each_year[\"Funding Year\"], y = Total_funding_each_year[\"Amount($)\"], errorbar = None);\n",
    "# Funding_Amount_Chart.set(xlabel = \"Funding Year\", ylabel = \"Amount($)\", title = \"Total Funding Amount Received Each Year\");\n",
    "\n",
    "plt.title(\"Total Funding Amount Each Year\")\n",
    "Funding_Amount_Chart = sns.barplot(y = Total_funding_each_year[\"Amount($)\"], x = Total_funding_each_year[\"Funding Year\"], palette='Blues', errorbar = None)\n",
    "Funding_Amount_Chart.set(xlabel = \"Funding Year\", ylabel = \"Amount($)\")\n",
    "\n",
    "# Save the chart as an image file\n",
    "plt.savefig(\"Total Funding Amount Each Year.png\")\n",
    "\n",
    "plt.show()"
   ]
  },
  {
   "cell_type": "markdown",
   "id": "bbb5065a",
   "metadata": {},
   "source": [
    "In 2018, the total funding amount received was 6,641,523,177 US Dollars. This amount declined to 3,336,433,200 US Dollars in 2019, which is the year with the lowest funding amount received. There was a sharp rise to 90,691,243,104 US Dollars in 2020. The amount increased further to 179,293,326,000 US Dollars in 2021, which is the year with the highest funding amount received."
   ]
  },
  {
   "cell_type": "markdown",
   "id": "75f03949",
   "metadata": {},
   "source": [
    "# Question 3: Which ten start-ups received the most funding?"
   ]
  },
  {
   "cell_type": "code",
   "execution_count": null,
   "id": "c25937fd",
   "metadata": {},
   "outputs": [
    {
     "ename": "",
     "evalue": "",
     "output_type": "error",
     "traceback": [
      "\u001b[1;31mFailed to start the Kernel. \n",
      "\u001b[1;31mUnable to start Kernel 'Python 3.10.11' due to connection timeout. \n",
      "\u001b[1;31mView Jupyter <a href='command:jupyter.viewOutput'>log</a> for further details."
     ]
    }
   ],
   "source": [
    "# The amounts received by the start-ups will be grouped by Company/Brand\n",
    "\n",
    "Funded_Startups = df.groupby(\"Company/Brand\").sum(numeric_only=True).reset_index()"
   ]
  },
  {
   "cell_type": "code",
   "execution_count": null,
   "id": "701976fc",
   "metadata": {},
   "outputs": [
    {
     "ename": "",
     "evalue": "",
     "output_type": "error",
     "traceback": [
      "\u001b[1;31mFailed to start the Kernel. \n",
      "\u001b[1;31mUnable to start Kernel 'Python 3.10.11' due to connection timeout. \n",
      "\u001b[1;31mView Jupyter <a href='command:jupyter.viewOutput'>log</a> for further details."
     ]
    }
   ],
   "source": [
    "# Sorting from the highest to lowest and applying .head(10)\n",
    "\n",
    "Funded_Startups.sort_values(['Amount($)'], ascending = False, inplace=True)\n",
    "Most_Funded_Startups = Funded_Startups.head(10)\n",
    "Most_Funded_Startups"
   ]
  },
  {
   "cell_type": "code",
   "execution_count": null,
   "id": "a3073ba0",
   "metadata": {},
   "outputs": [
    {
     "ename": "",
     "evalue": "",
     "output_type": "error",
     "traceback": [
      "\u001b[1;31mFailed to start the Kernel. \n",
      "\u001b[1;31mUnable to start Kernel 'Python 3.10.11' due to connection timeout. \n",
      "\u001b[1;31mView Jupyter <a href='command:jupyter.viewOutput'>log</a> for further details."
     ]
    }
   ],
   "source": [
    "# # Creating a horizontal bar chart to illustrate the 10 start-ups that received the most funding\n",
    "\n",
    "# Most_Funded_Startups_Chart = sns.barplot(x = Most_Funded_Startups[\"Amount($)\"], y = Most_Funded_Startups[\"Company/Brand\"], orient = 'h', errorbar = None);\n",
    "# Most_Funded_Startups_Chart.set(xlabel = \"Funding Amount Received\", ylabel = \"Company/Brand\", title = \"The 10 Start-Ups That Received The Most Funding\");\n",
    "\n",
    "# Set the color palette\n",
    "color_palette = sns.color_palette('Blues')\n",
    "\n",
    "# Create a horizontal bar plot\n",
    "sns.barplot(x=\"Amount($)\", y=\"Company/Brand\", data=Most_Funded_Startups, palette=color_palette, orient='h')\n",
    "\n",
    "# Set labels and title\n",
    "plt.xlabel(\"Funding Amount Received\")\n",
    "plt.ylabel(\"Company/Brand\")\n",
    "plt.title(\"The 10 Start-Ups That Received The Most Funding\")\n",
    "\n",
    "# Save the chart as an image file\n",
    "plt.savefig(\"The 10 Start-Ups That Received The Most Funding.png\")\n",
    "\n",
    "# Show the plot\n",
    "plt.show()"
   ]
  },
  {
   "cell_type": "markdown",
   "id": "7ede1c1d",
   "metadata": {},
   "source": [
    "Alteria Capital got the highest funding amount (150,000,000,000 US Dollars), followed by Reliance Retail Ventures Ltd (70,000,000,000 US Dollars), Snowflake (3,000,000,000 US Dollars), Reliance (2,200,000,000 US Dollars), Swiggy (1,956,000,000 US Dollars), VerSe Innovation (1,550,000,000 US Dollars), BYJU'S (1,260,000,000 US Dollars), Dream Sports (1,240,000,000 US Dollars), Zomato (1,239,000,000 US Dollars) and Zetwerk (925,200,000 US Dollars)."
   ]
  },
  {
   "cell_type": "markdown",
   "id": "a01508ea",
   "metadata": {},
   "source": [
    "# Question 4: Which ten start-ups received the least funding?"
   ]
  },
  {
   "cell_type": "code",
   "execution_count": null,
   "id": "dfb75e31",
   "metadata": {},
   "outputs": [
    {
     "ename": "",
     "evalue": "",
     "output_type": "error",
     "traceback": [
      "\u001b[1;31mFailed to start the Kernel. \n",
      "\u001b[1;31mUnable to start Kernel 'Python 3.10.11' due to connection timeout. \n",
      "\u001b[1;31mView Jupyter <a href='command:jupyter.viewOutput'>log</a> for further details."
     ]
    }
   ],
   "source": [
    "# Selecting the least amounts greater than 0\n",
    "Least_Funded_Startups = Funded_Startups[Funded_Startups['Amount($)']>0].tail(10)\n",
    "Least_Funded_Startups"
   ]
  },
  {
   "cell_type": "code",
   "execution_count": null,
   "id": "538955b3",
   "metadata": {},
   "outputs": [
    {
     "ename": "",
     "evalue": "",
     "output_type": "error",
     "traceback": [
      "\u001b[1;31mFailed to start the Kernel. \n",
      "\u001b[1;31mUnable to start Kernel 'Python 3.10.11' due to connection timeout. \n",
      "\u001b[1;31mView Jupyter <a href='command:jupyter.viewOutput'>log</a> for further details."
     ]
    }
   ],
   "source": [
    "# Creating a horizontal bar chart to illustrate the 10 start-ups that received the least funding\n",
    "\n",
    "# Least_Funded_Startups_Chart = sns.barplot(x = Least_Funded_Startups[\"Amount($)\"], y = Least_Funded_Startups[\"Company/Brand\"], orient = 'h', errorbar = None);\n",
    "# Least_Funded_Startups_Chart.set(xlabel = \"Funding Amount Received\", ylabel = \"Company/Brand\", title = \"The 10 Start-Ups That Received The Least Funding\");\n",
    "\n",
    "# Set the color palette\n",
    "color_palette = sns.color_palette('Blues')\n",
    "\n",
    "# Create a horizontal bar plot\n",
    "sns.barplot(x=\"Amount($)\", y=\"Company/Brand\", data=Least_Funded_Startups, palette=color_palette, orient='h')\n",
    "\n",
    "# Set labels and title\n",
    "plt.xlabel(\"Funding Amount Received\")\n",
    "plt.ylabel(\"Company/Brand\")\n",
    "plt.title(\"The 10 Start-Ups That Received The Least Funding\")\n",
    "\n",
    "# Save the chart as an image file\n",
    "plt.savefig(\"The 10 Start-Ups That Received The Least Funding.png\")\n",
    "\n",
    "# Show the plot\n",
    "plt.show()"
   ]
  },
  {
   "cell_type": "markdown",
   "id": "5c913651",
   "metadata": {},
   "source": [
    "Classworks India and Next Digital Solutions got the joint lowest funding amount (1,460 US Dollars), followed by Enlyft Digital Solutions Private Limited (1,460 US Dollars), Antariksh Waste Ventures Pvt Ltd (7,300 US Dollars) and Mombay (7,500 US Dollars). Glii and Authmetrik were next as they received (10,000 US Dollars), while Monech, Medicus and Teach Us followed with (12,700 US Dollars)."
   ]
  },
  {
   "cell_type": "markdown",
   "id": "1ceeefb4",
   "metadata": {},
   "source": [
    "# Question 5: Which ten sectors received the most funding?"
   ]
  },
  {
   "cell_type": "code",
   "execution_count": null,
   "id": "305a51a7",
   "metadata": {},
   "outputs": [
    {
     "ename": "",
     "evalue": "",
     "output_type": "error",
     "traceback": [
      "\u001b[1;31mFailed to start the Kernel. \n",
      "\u001b[1;31mUnable to start Kernel 'Python 3.10.11' due to connection timeout. \n",
      "\u001b[1;31mView Jupyter <a href='command:jupyter.viewOutput'>log</a> for further details."
     ]
    }
   ],
   "source": [
    "# The amounts received by the start-ups will be grouped by Sector \n",
    "\n",
    "Funded_Sectors = df.groupby(\"Sector\").sum(numeric_only=True).reset_index()\n",
    "Funded_Sectors"
   ]
  },
  {
   "cell_type": "code",
   "execution_count": null,
   "id": "205ffd9d",
   "metadata": {},
   "outputs": [
    {
     "ename": "",
     "evalue": "",
     "output_type": "error",
     "traceback": [
      "\u001b[1;31mFailed to start the Kernel. \n",
      "\u001b[1;31mUnable to start Kernel 'Python 3.10.11' due to connection timeout. \n",
      "\u001b[1;31mView Jupyter <a href='command:jupyter.viewOutput'>log</a> for further details."
     ]
    }
   ],
   "source": [
    "# Sorting from the highest to lowest and applying .head(10)\n",
    "\n",
    "Funded_Sectors.sort_values([\"Amount($)\"], ascending = False, inplace=True)\n",
    "Most_Funded_Sectors = Funded_Sectors.head(10)\n",
    "Most_Funded_Sectors"
   ]
  },
  {
   "cell_type": "code",
   "execution_count": null,
   "id": "e2944944",
   "metadata": {},
   "outputs": [
    {
     "ename": "",
     "evalue": "",
     "output_type": "error",
     "traceback": [
      "\u001b[1;31mFailed to start the Kernel. \n",
      "\u001b[1;31mUnable to start Kernel 'Python 3.10.11' due to connection timeout. \n",
      "\u001b[1;31mView Jupyter <a href='command:jupyter.viewOutput'>log</a> for further details."
     ]
    }
   ],
   "source": [
    "# Creating a horizontal bar chart to illustrate the 10 sectors that received the most funding\n",
    "\n",
    "# Most_Funded_Sectors_Chart = sns.barplot(x = Most_Funded_Sectors[\"Amount($)\"], y = Most_Funded_Sectors[\"Sector\"], orient = 'h', errorbar = None);\n",
    "# Most_Funded_Sectors_Chart.set(xlabel = \"Funding Amount Received\", ylabel = \"Sector\", title = \"The 10 Sectors That Received The Most Funding\");\n",
    "\n",
    "# Set the color palette\n",
    "color_palette = sns.color_palette('Blues')\n",
    "\n",
    "# Create a horizontal bar plot\n",
    "sns.barplot(x=\"Amount($)\", y=\"Sector\", data=Most_Funded_Sectors, palette=color_palette, orient='h')\n",
    "\n",
    "# Set labels and title\n",
    "plt.xlabel(\"Funding Amount Received\")\n",
    "plt.ylabel(\"Sector\")\n",
    "plt.title(\"The 10 Sectors That Received The Most Funding\")\n",
    "\n",
    "# Save the chart as an image file\n",
    "plt.savefig(\"The 10 Sectors That Received The Most Funding.png\")\n",
    "\n",
    "# Show the plot\n",
    "plt.show()"
   ]
  },
  {
   "cell_type": "markdown",
   "id": "d3828fee",
   "metadata": {},
   "source": [
    "The Banking and Financial Services sector received the highest amount of funding (160,149,076,746 US Dollars), followed by the E-Commerce and Retail sector (76,411,115,900 US Dollars), Information Technology (IT) sector (9,313,075,410 US Dollars), Education sector (6,915,347,290 US Dollars), Agriculture and Food Production (4,369,672,700 US Dollars), Healthcare and Fitness sector (3,970,320,985 US Dollars), Manufacturing\t sector (3,237,776,242 US Dollars), Career, Special Duties and Personal Development (3,011,784,860 US Dollars), Media and Entertainment sector (2,941,253,400 US Dollars), and Transportation and Tourism sector (2,791,082,500 US Dollars)."
   ]
  },
  {
   "cell_type": "markdown",
   "id": "e88ae5b7",
   "metadata": {},
   "source": [
    "# Question 6: Which ten sectors received the least funding?"
   ]
  },
  {
   "cell_type": "code",
   "execution_count": null,
   "id": "aecb77fe",
   "metadata": {},
   "outputs": [
    {
     "ename": "",
     "evalue": "",
     "output_type": "error",
     "traceback": [
      "\u001b[1;31mFailed to start the Kernel. \n",
      "\u001b[1;31mUnable to start Kernel 'Python 3.10.11' due to connection timeout. \n",
      "\u001b[1;31mView Jupyter <a href='command:jupyter.viewOutput'>log</a> for further details."
     ]
    }
   ],
   "source": [
    "# Selecting the least amounts greater than 0\n",
    "Least_Funded_Sectors = Funded_Sectors[Funded_Sectors['Amount($)']>0].tail(10)\n",
    "Least_Funded_Sectors"
   ]
  },
  {
   "cell_type": "code",
   "execution_count": null,
   "id": "8e130a53",
   "metadata": {},
   "outputs": [
    {
     "ename": "",
     "evalue": "",
     "output_type": "error",
     "traceback": [
      "\u001b[1;31mFailed to start the Kernel. \n",
      "\u001b[1;31mUnable to start Kernel 'Python 3.10.11' due to connection timeout. \n",
      "\u001b[1;31mView Jupyter <a href='command:jupyter.viewOutput'>log</a> for further details."
     ]
    }
   ],
   "source": [
    "# Creating a horizontal bar chart to illustrate the 10 sectors that received the least questions\n",
    "\n",
    "# Least_Funded_Sectors_Chart = sns.barplot(x = Least_Funded_Sectors[\"Amount($)\"], y = Least_Funded_Sectors[\"Sector\"], orient = 'h', errorbar = None);\n",
    "# Least_Funded_Sectors_Chart.set(xlabel = \"Funding Amount Received\", ylabel = \"Sector\", title = \"The 10 Sectors That Received The Least Funding\");\n",
    "\n",
    "# Set the color palette\n",
    "color_palette = sns.color_palette('Blues')\n",
    "\n",
    "# Create a horizontal bar plot\n",
    "sns.barplot(x=\"Amount($)\", y=\"Sector\", data=Least_Funded_Sectors, palette=color_palette, orient='h')\n",
    "\n",
    "# Set labels and title\n",
    "plt.xlabel(\"Funding Amount Received\")\n",
    "plt.ylabel(\"Sector\")\n",
    "plt.title(\"The 10 Sectors That Received The Least Funding\")\n",
    "\n",
    "# Save the chart as an image file\n",
    "plt.savefig(\"The 10 Sectors That Received The Least Funding.png\")\n",
    "\n",
    "# Show the plot\n",
    "plt.show()"
   ]
  },
  {
   "cell_type": "markdown",
   "id": "d7258c10",
   "metadata": {},
   "source": [
    "The Defense sector received the lowest amount of funding (1,000,000 US Dollars), followed by the Cultural Heritage sector (1,064,000 US Dollars), Social Development sector (7,717,00 US Dollars), Water and Environment sector (22,600,000 US Dollars), Real Estate sector (134,072,328 US Dollars), Construction sector (234,315,000 US Dollars), Blockchain sector (303,002,000 US Dollars), Fashion and Beauty sector (763,150,200 US Dollars) and Energy sector (1,220,325,000 US Dollars). N/A refers to sectors that were not disclosed."
   ]
  },
  {
   "cell_type": "markdown",
   "id": "6920e928",
   "metadata": {},
   "source": [
    "# Question 7: Which ten headquarters received the most funding?"
   ]
  },
  {
   "cell_type": "code",
   "execution_count": null,
   "id": "66535d02",
   "metadata": {},
   "outputs": [
    {
     "ename": "",
     "evalue": "",
     "output_type": "error",
     "traceback": [
      "\u001b[1;31mFailed to start the Kernel. \n",
      "\u001b[1;31mUnable to start Kernel 'Python 3.10.11' due to connection timeout. \n",
      "\u001b[1;31mView Jupyter <a href='command:jupyter.viewOutput'>log</a> for further details."
     ]
    }
   ],
   "source": [
    "# The amounts received by the start-ups will be grouped by HeadQuarters \n",
    "\n",
    "Funded_HeadQuarters = df.groupby(\"HeadQuarter\").sum(numeric_only=True).reset_index()\n",
    "Funded_HeadQuarters"
   ]
  },
  {
   "cell_type": "code",
   "execution_count": null,
   "id": "fe3d6bb5",
   "metadata": {},
   "outputs": [
    {
     "ename": "",
     "evalue": "",
     "output_type": "error",
     "traceback": [
      "\u001b[1;31mFailed to start the Kernel. \n",
      "\u001b[1;31mUnable to start Kernel 'Python 3.10.11' due to connection timeout. \n",
      "\u001b[1;31mView Jupyter <a href='command:jupyter.viewOutput'>log</a> for further details."
     ]
    }
   ],
   "source": [
    "# Sorting from the highest to lowest and applying .head(10)\n",
    "\n",
    "Funded_HeadQuarters.sort_values([\"Amount($)\"], ascending = False, inplace=True)\n",
    "Most_Funded_HeadQuarters = Funded_HeadQuarters.head(10)\n",
    "Most_Funded_HeadQuarters"
   ]
  },
  {
   "cell_type": "code",
   "execution_count": null,
   "id": "cb4a0354",
   "metadata": {},
   "outputs": [
    {
     "ename": "",
     "evalue": "",
     "output_type": "error",
     "traceback": [
      "\u001b[1;31mFailed to start the Kernel. \n",
      "\u001b[1;31mUnable to start Kernel 'Python 3.10.11' due to connection timeout. \n",
      "\u001b[1;31mView Jupyter <a href='command:jupyter.viewOutput'>log</a> for further details."
     ]
    }
   ],
   "source": [
    "# Creating a horizontal bar chart to illustrate the 10 headquarters that received the most funding.\n",
    "\n",
    "# Most_Funded_HeadQuarters_Chart = sns.barplot(x = Most_Funded_HeadQuarters[\"Amount($)\"], y = Most_Funded_HeadQuarters[\"HeadQuarter\"], orient = 'h', errorbar = None);\n",
    "# Most_Funded_HeadQuarters_Chart.set(xlabel = \"Funding Amount Received\", ylabel = \"Headquarter\", title = \"The 10 Headquarters That Received The Most Funding\");\n",
    "\n",
    "# Set the color palette\n",
    "color_palette = sns.color_palette('Blues')\n",
    "\n",
    "# Create a horizontal bar plot\n",
    "sns.barplot(x=\"Amount($)\", y=\"HeadQuarter\", data=Most_Funded_HeadQuarters, palette=color_palette, orient='h')\n",
    "\n",
    "# Set labels and title\n",
    "plt.xlabel(\"Funding Amount Received\")\n",
    "plt.ylabel(\"Headquarter\")\n",
    "plt.title(\"The 10 Headquarters That Received The Most Funding\")\n",
    "\n",
    "# Save the chart as an image file\n",
    "plt.savefig(\"The 10 Headquarters That Received The Most Funding.png\")\n",
    "\n",
    "# Show the plot\n",
    "plt.show()"
   ]
  },
  {
   "cell_type": "markdown",
   "id": "0c3f14a7",
   "metadata": {},
   "source": [
    "Start-ups in Maharashtra received the highest funding amount (233,189,364,405 US Dollars), followed by start-ups in Karnataka (23,961,669,610\tUS Dollars), Haryana (8,197,616,180 US Dollars), Delhi (4,252,140,240 US Dollars), California (3,419,500,000 US Dollars), Tamil Nadu (1,401,925,826 US Dollars), Rajasthan (625,383,460 US Dollars), Uttar Pradesh (596,949,000 US Dollars) and Telangana (420,662,440 US Dollars). N/A refers to the funding amount in unknown locations (2,027,544,300 US Dollars)."
   ]
  },
  {
   "cell_type": "markdown",
   "id": "095f0c7f",
   "metadata": {},
   "source": [
    "# Question 8: Which ten headquarters received the least funding?"
   ]
  },
  {
   "cell_type": "code",
   "execution_count": null,
   "id": "120514c6",
   "metadata": {},
   "outputs": [
    {
     "ename": "",
     "evalue": "",
     "output_type": "error",
     "traceback": [
      "\u001b[1;31mFailed to start the Kernel. \n",
      "\u001b[1;31mUnable to start Kernel 'Python 3.10.11' due to connection timeout. \n",
      "\u001b[1;31mView Jupyter <a href='command:jupyter.viewOutput'>log</a> for further details."
     ]
    }
   ],
   "source": [
    "# Selecting the least amounts greater than 0\n",
    "\n",
    "Least_Funded_HeadQuarters = Funded_HeadQuarters[Funded_HeadQuarters['Amount($)']>0].tail(10)\n",
    "Least_Funded_HeadQuarters"
   ]
  },
  {
   "cell_type": "code",
   "execution_count": null,
   "id": "3b8edf1b",
   "metadata": {
    "scrolled": false
   },
   "outputs": [
    {
     "ename": "",
     "evalue": "",
     "output_type": "error",
     "traceback": [
      "\u001b[1;31mFailed to start the Kernel. \n",
      "\u001b[1;31mUnable to start Kernel 'Python 3.10.11' due to connection timeout. \n",
      "\u001b[1;31mView Jupyter <a href='command:jupyter.viewOutput'>log</a> for further details."
     ]
    }
   ],
   "source": [
    "# Creating a horizontal bar chart to illustrate the 10 headquarters that received the least funding.\n",
    "\n",
    "# Least_Funded_HeadQuarters_Chart = sns.barplot(x = Least_Funded_HeadQuarters[\"Amount($)\"], y = Least_Funded_HeadQuarters[\"HeadQuarter\"], orient = 'h', errorbar = None);\n",
    "# Least_Funded_HeadQuarters_Chart.set(xlabel = \"Funding Amount Received\", ylabel = \"Headquarter\", title = \"The 10 Headquarters That Received The Least Funding\");\n",
    "\n",
    "\n",
    "# Set the color palette\n",
    "color_palette = sns.color_palette('Blues')\n",
    "\n",
    "# Create a horizontal bar plot\n",
    "sns.barplot(x=\"Amount($)\", y=\"HeadQuarter\", data=Least_Funded_HeadQuarters, palette=color_palette, orient='h')\n",
    "\n",
    "# Set labels and title\n",
    "plt.xlabel(\"Funding Amount Received\")\n",
    "plt.ylabel(\"Headquarter\")\n",
    "plt.title(\"The 10 Headquarters That Received The Least Funding\")\n",
    "\n",
    "# Save the chart as an image file\n",
    "plt.savefig(\"The 10 Headquarters That Received The Least Funding.png\")\n",
    "\n",
    "# Show the plot\n",
    "plt.show()"
   ]
  },
  {
   "cell_type": "markdown",
   "id": "9a571efa",
   "metadata": {},
   "source": [
    "Start-ups in Jharkand received the least funding amount (100,000 US Dollars), folllowed by start-ups in Guntur (130,000 US Dollars), Newcastle Upon Tyne (300,000 US Dollars), Andhra Pradesh (800,000 US Dollars), Silvassa and Rajastan (1,000,000 US Dollars) each, Seattle and Hyderebad (1,100,000 US Dollars) each, Riyadh (1,300,000 US Dollars) and Seoul (1,400,000 US Dollars). Most of these locations are not in India."
   ]
  },
  {
   "cell_type": "markdown",
   "id": "33ed11e6",
   "metadata": {},
   "source": [
    "# Question 9: What is the trend of funding received by start-ups in the top 5 headquarters from 2018 to 2021?\n",
    "\n",
    "From the answer to Question 7, it is seen that the 5 top headquarters were start-ups received the highest funding are Maharashtra (233,189,364,405 US Dollars), Karnataka (23,961,669,610\tUS Dollars), Haryana (8,197,616,180 US Dollars), Delhi (4,252,140,240 US Dollars) and California (3,419,500,000 US Dollars) in descending order."
   ]
  },
  {
   "cell_type": "code",
   "execution_count": null,
   "id": "8819c5af",
   "metadata": {},
   "outputs": [
    {
     "ename": "",
     "evalue": "",
     "output_type": "error",
     "traceback": [
      "\u001b[1;31mFailed to start the Kernel. \n",
      "\u001b[1;31mUnable to start Kernel 'Python 3.10.11' due to connection timeout. \n",
      "\u001b[1;31mView Jupyter <a href='command:jupyter.viewOutput'>log</a> for further details."
     ]
    }
   ],
   "source": [
    "# Grouping 'Maharashtra','Karnataka','Haryana', 'Delhi','California' in the HeadQuarter column by the funding years\n",
    "Top_5_HeadQuarter_Funding_Trend = df.query(\"HeadQuarter == ['Maharashtra','Karnataka','Haryana', 'Delhi','California']\").groupby([\"HeadQuarter\",\"Funding Year\"]).sum(numeric_only=True).reset_index()\n",
    "\n",
    "# Sorting the funding years in ascending order\n",
    "Top_5_HeadQuarter_Funding_Trend.sort_values([\"Funding Year\"], ascending = True, inplace=True)\n",
    "Top_5_HeadQuarter_Funding_Trend"
   ]
  },
  {
   "cell_type": "code",
   "execution_count": null,
   "id": "b47fb712",
   "metadata": {},
   "outputs": [
    {
     "ename": "",
     "evalue": "",
     "output_type": "error",
     "traceback": [
      "\u001b[1;31mFailed to start the Kernel. \n",
      "\u001b[1;31mUnable to start Kernel 'Python 3.10.11' due to connection timeout. \n",
      "\u001b[1;31mView Jupyter <a href='command:jupyter.viewOutput'>log</a> for further details."
     ]
    }
   ],
   "source": [
    "# Set the color palette\n",
    "color_palette = sns.color_palette('Blues')\n",
    "\n",
    "# Creating a bar chart to illustrate the trend of funding received by start-ups in the top 5 headquarters from 2018 to 2021.\n",
    "\n",
    "sns.barplot(x = Top_5_HeadQuarter_Funding_Trend[\"Funding Year\"], y = Top_5_HeadQuarter_Funding_Trend[\"Amount($)\"], hue = Top_5_HeadQuarter_Funding_Trend[\"HeadQuarter\"])\n",
    "plt.title(\"The Trend Of Funding Received By Startups In The Top 5 Headquarters From 2018 to 2021\")\n",
    "\n",
    "# Shifting the legend to the middle\n",
    "plt.legend(loc='upper center', bbox_to_anchor=(0.5, 1))\n",
    "\n",
    "# Save the chart as an image file\n",
    "plt.savefig(\"The Trend Of Funding Received By Startups In The Top 5 Headquarters From 2018 to 2021.png\")"
   ]
  },
  {
   "cell_type": "markdown",
   "id": "f924b29b",
   "metadata": {},
   "source": [
    "Start-ups in Maharashtra received very high funding in 2020 and 2021 compared to start-ups in other headquarters in these same years."
   ]
  },
  {
   "cell_type": "markdown",
   "id": "75dfd293",
   "metadata": {},
   "source": [
    "# Evaluation\n",
    "Since the p-value (0.9997970614101779) is greater than the Significance level (0.05), we fail to reject the null hypothesis. This implies that our null hypothesis (The sector a start-up belongs to did not influence the funding amount the start-up received) is correct.\n",
    "\n",
    "The top 5 start-ups that received the highest funding are Alteria Capital (150,000,000,000 US Dollars), Reliance Retail Ventures Ltd (70,000,000,000 US Dollars), Snowflake (3,000,000,000 US Dollars) and Reliance (2,200,000,000 US Dollars), Swiggy (1,956,000,000 US Dollars) in descending order.\n",
    "\n",
    "The top 5 sectors whose start-ups received the highest funding are the Banking and Financial Services sector (160,149,076,746 US Dollars), the E-Commerce and Retail sector (76,411,115,900 US Dollars), the Information Technology (IT) sector (9,313,075,410 US Dollars), the Education sector (6,915,347,290 US Dollars) and the Agriculture and Food Production sector (4,369,672,700 US Dollars) in descending order.\n",
    "\n",
    "The top 5 headquarters where start-ups received the highest funding are Maharashtra (233,189,364,405 US Dollars), Karnataka (23,961,669,610 US Dollars), Haryana (8,197,616,180 US Dollars), Delhi (4,252,140,240 US Dollars) and California (3,419,500,000 US Dollars) in descending order.\n",
    "\n",
    "The chart for the 10 start-ups that received the most funding and the 10 sectors that received the most funding are similar. The chart for the 10 headquarters that received the most funding is a little similar to them as well. The 2 startups that received the highest funding (Alteria Capital and Reliance Retail Ventures Ltd) will be evaluated further for more insights since their funding amounts are so high."
   ]
  },
  {
   "cell_type": "code",
   "execution_count": null,
   "id": "6da9c856",
   "metadata": {
    "scrolled": true
   },
   "outputs": [
    {
     "ename": "",
     "evalue": "",
     "output_type": "error",
     "traceback": [
      "\u001b[1;31mFailed to start the Kernel. \n",
      "\u001b[1;31mUnable to start Kernel 'Python 3.10.11' due to connection timeout. \n",
      "\u001b[1;31mView Jupyter <a href='command:jupyter.viewOutput'>log</a> for further details."
     ]
    }
   ],
   "source": [
    "# Identifying the rows that have 'Alteria Capital' on the \"Company/Brand\" Column on the merged dataset\n",
    "\n",
    "df.loc[df[\"Company/Brand\"] == 'Alteria Capital']"
   ]
  },
  {
   "cell_type": "markdown",
   "id": "1e0a8234",
   "metadata": {},
   "source": [
    "Alteria Capital is the start-up that received the highest funding amount (received in 2021). It belongs to the Banking and Financial Services sector, and is located in Maharashtra. The investor responsible for this funding will be identified by evaluating the original 2021 dataset."
   ]
  },
  {
   "cell_type": "code",
   "execution_count": null,
   "id": "e10df00f",
   "metadata": {},
   "outputs": [
    {
     "ename": "",
     "evalue": "",
     "output_type": "error",
     "traceback": [
      "\u001b[1;31mFailed to start the Kernel. \n",
      "\u001b[1;31mUnable to start Kernel 'Python 3.10.11' due to connection timeout. \n",
      "\u001b[1;31mView Jupyter <a href='command:jupyter.viewOutput'>log</a> for further details."
     ]
    }
   ],
   "source": [
    "# Identifying the row that has 'Alteria Capital' on the \"Company/Brand\" Column on the original 2021 dataset\n",
    "\n",
    "ddf4.loc[ddf4[\"Company/Brand\"] == 'Alteria Capital']"
   ]
  },
  {
   "cell_type": "markdown",
   "id": "6f33019a",
   "metadata": {},
   "source": [
    "Alas, the investor information is not given. However, it is seen that the city of this startup is Mumbai."
   ]
  },
  {
   "cell_type": "code",
   "execution_count": null,
   "id": "865c1cc1",
   "metadata": {},
   "outputs": [
    {
     "ename": "",
     "evalue": "",
     "output_type": "error",
     "traceback": [
      "\u001b[1;31mFailed to start the Kernel. \n",
      "\u001b[1;31mUnable to start Kernel 'Python 3.10.11' due to connection timeout. \n",
      "\u001b[1;31mView Jupyter <a href='command:jupyter.viewOutput'>log</a> for further details."
     ]
    }
   ],
   "source": [
    "# Identifying the rows that have 'Reliance Retail Ventures Ltd' on the \"Company/Brand\" Column on the merged dataset\n",
    "\n",
    "df.loc[df[\"Company/Brand\"] == 'Reliance Retail Ventures Ltd']"
   ]
  },
  {
   "cell_type": "raw",
   "id": "6e38c818",
   "metadata": {},
   "source": [
    "Reliance Retail Ventures Ltd is the start-up that received the second highest funding amount (received in 2020). It belongs to the E-Commerce and Retail sector, and is located in Maharashtra. The investor responsible for this funding will be identified by evaluating the original 2020 dataset."
   ]
  },
  {
   "cell_type": "code",
   "execution_count": null,
   "id": "8b397156",
   "metadata": {},
   "outputs": [
    {
     "ename": "",
     "evalue": "",
     "output_type": "error",
     "traceback": [
      "\u001b[1;31mFailed to start the Kernel. \n",
      "\u001b[1;31mUnable to start Kernel 'Python 3.10.11' due to connection timeout. \n",
      "\u001b[1;31mView Jupyter <a href='command:jupyter.viewOutput'>log</a> for further details."
     ]
    }
   ],
   "source": [
    "# Loading the original 2020 dataset with a different name\n",
    "\n",
    "ddf3 = pd.read_csv('startup_funding2020.csv')\n",
    "\n",
    "# Identifying the row that has 'Reliance Retail Ventures Ltd' on the \"Company/Brand\" Column on the original 2020 dataset\n",
    "\n",
    "ddf3.loc[ddf3[\"Company/Brand\"] == 'Reliance Retail Ventures Ltd']"
   ]
  },
  {
   "cell_type": "markdown",
   "id": "d0ad3a46",
   "metadata": {},
   "source": [
    "The investors responsible for this huge funding are Silver Lake and Mubadala Investment Company. It is also seen that the city of this start-up is Mumbai."
   ]
  },
  {
   "cell_type": "markdown",
   "id": "2b996f8f",
   "metadata": {},
   "source": [
    "# Recommendation\n",
    "\n",
    "From the evaluated results of the analysis, it is recommended that the team should consider exploring Mumbai in the state of Maharashtra as the start-up location. The Banking and Financial Services sector as well as the E-Commerce and Retail sector are the top performing sectors to consider. Silver Lake and Mubadala Investment Company are the top performing investors to be approached for funding."
   ]
  }
 ],
 "metadata": {
  "kernelspec": {
   "display_name": "Python 3 (ipykernel)",
   "language": "python",
   "name": "python3"
  },
  "language_info": {
   "codemirror_mode": {
    "name": "ipython",
    "version": 3
   },
   "file_extension": ".py",
   "mimetype": "text/x-python",
   "name": "python",
   "nbconvert_exporter": "python",
   "pygments_lexer": "ipython3",
   "version": "3.10.11"
  },
  "vscode": {
   "interpreter": {
    "hash": "1c6ea3ca6ea186c0983ba8a30a44ad89b272ebd68a4b860b87824900eaaf14bd"
   }
  }
 },
 "nbformat": 4,
 "nbformat_minor": 5
}
